{
  "cells": [
    {
      "cell_type": "code",
      "execution_count": 1,
      "id": "f2de7b71",
      "metadata": {
        "deletable": false,
        "editable": false,
        "execution": {
          "iopub.execute_input": "2024-12-31T17:58:09.354158Z",
          "iopub.status.busy": "2024-12-31T17:58:09.353536Z",
          "iopub.status.idle": "2024-12-31T17:58:10.653065Z",
          "shell.execute_reply": "2024-12-31T17:58:10.652058Z"
        },
        "jupyter": {
          "outputs_hidden": true,
          "source_hidden": true
        },
        "colab": {
          "base_uri": "https://localhost:8080/"
        },
        "id": "f2de7b71",
        "outputId": "e0715341-dcd4-43e0-be2f-cb44bab7bf83"
      },
      "outputs": [
        {
          "output_type": "stream",
          "name": "stdout",
          "text": [
            "\n"
          ]
        }
      ],
      "source": [
        "# Please do not change this cell because some hidden tests might depend on it.\n",
        "import os\n",
        "\n",
        "# Otter grader does not handle ! commands well, so we define and use our\n",
        "# own function to execute shell commands.\n",
        "def shell(commands, warn=True):\n",
        "    \"\"\"Executes the string `commands` as a sequence of shell commands.\n",
        "\n",
        "       Prints the result to stdout and returns the exit status.\n",
        "       Provides a printed warning on non-zero exit status unless `warn`\n",
        "       flag is unset.\n",
        "    \"\"\"\n",
        "    file = os.popen(commands)\n",
        "    print (file.read().rstrip('\\n'))\n",
        "    exit_status = file.close()\n",
        "    if warn and exit_status != None:\n",
        "        print(f\"Completed with errors. Exit status: {exit_status}\\n\")\n",
        "    return exit_status\n",
        "\n",
        "shell(\"\"\"\n",
        "ls requirements.txt >/dev/null 2>&1\n",
        "if [ ! $? = 0 ]; then\n",
        " rm -rf .tmp\n",
        " git clone https://github.com/cs236299-2024-winter/lab3-1.git .tmp\n",
        " mv .tmp/tests ./\n",
        " mv .tmp/requirements.txt ./\n",
        " rm -rf .tmp\n",
        "fi\n",
        "pip install -q -r requirements.txt\n",
        "\"\"\")"
      ]
    },
    {
      "cell_type": "code",
      "execution_count": 2,
      "id": "d2e30655",
      "metadata": {
        "deletable": false,
        "editable": false,
        "id": "d2e30655"
      },
      "outputs": [],
      "source": [
        "# Initialize Otter\n",
        "import otter\n",
        "grader = otter.Notebook()"
      ]
    },
    {
      "cell_type": "raw",
      "id": "0f105fc2",
      "metadata": {
        "jupyter": {
          "source_hidden": true
        },
        "id": "0f105fc2"
      },
      "source": [
        "%%latex\n",
        "\\newcommand{\\vect}[1]{\\mathbf{#1}}\n",
        "\\newcommand{\\cnt}[1]{\\sharp(#1)}\n",
        "\\newcommand{\\argmax}[1]{\\underset{#1}{\\operatorname{argmax}}}\n",
        "\\newcommand{\\softmax}{\\operatorname{softmax}}\n",
        "\\newcommand{\\Prob}{\\Pr}\n",
        "\\newcommand{\\given}{\\,|\\,}"
      ]
    },
    {
      "cell_type": "markdown",
      "id": "1d055470",
      "metadata": {
        "jupyter": {
          "source_hidden": true
        },
        "id": "1d055470"
      },
      "source": [
        "$$\n",
        "\\renewcommand{\\vect}[1]{\\mathbf{#1}}\n",
        "\\renewcommand{\\cnt}[1]{\\sharp(#1)}\n",
        "\\renewcommand{\\argmax}[1]{\\underset{#1}{\\operatorname{argmax}}}\n",
        "\\renewcommand{\\softmax}{\\operatorname{softmax}}\n",
        "\\renewcommand{\\Prob}{\\Pr}\n",
        "\\renewcommand{\\given}{\\,|\\,}\n",
        "$$"
      ]
    },
    {
      "cell_type": "markdown",
      "id": "8d9a0152",
      "metadata": {
        "id": "8d9a0152",
        "tags": [
          "remove_for_latex"
        ]
      },
      "source": [
        "# Course 236299\n",
        "## Lab 3-1 – Context-free grammars introduced"
      ]
    },
    {
      "cell_type": "markdown",
      "id": "544d04fd",
      "metadata": {
        "id": "544d04fd"
      },
      "source": [
        "# Preparation – Loading packages"
      ]
    },
    {
      "cell_type": "code",
      "execution_count": 3,
      "id": "d5bd62a1",
      "metadata": {
        "deletable": false,
        "editable": false,
        "execution": {
          "iopub.execute_input": "2024-12-31T17:58:10.656882Z",
          "iopub.status.busy": "2024-12-31T17:58:10.656300Z",
          "iopub.status.idle": "2024-12-31T17:58:10.881281Z",
          "shell.execute_reply": "2024-12-31T17:58:10.880479Z"
        },
        "id": "d5bd62a1"
      },
      "outputs": [],
      "source": [
        "import functools\n",
        "import math\n",
        "import nltk"
      ]
    },
    {
      "cell_type": "markdown",
      "id": "59f2515d",
      "metadata": {
        "id": "59f2515d"
      },
      "source": [
        "# Writing CFGs\n",
        "\n",
        "Recall that a context free grammar (CFG) is a set of rules of the form $A \\rightarrow \\beta$, where $A$ is a nonterminal symbol and $\\beta$ is a sequence of terminal and nonterminal symbols. The set of nonterminals is $N$ and the set of terminals is $\\Sigma$. One of the nonterminals is a special start symbol, conventionally denoted $S$.\n",
        "\n",
        "A CFG generates a string by starting with the start symbol and repeatedly replacing a nonterminal symbol by the right-hand side of a rule whose left-hand side matches that nonterminal.\n",
        "\n",
        "We will use the [Natural Language Tool Kit (NLTK)](http://nltk.org) to define, represent, and store context-free grammars and syntactic parse trees in data structures. The toolkit provides for constructing a grammar from a textual description, such as this example:"
      ]
    },
    {
      "cell_type": "code",
      "execution_count": 4,
      "id": "6ee5806b",
      "metadata": {
        "execution": {
          "iopub.execute_input": "2024-12-31T17:58:10.885161Z",
          "iopub.status.busy": "2024-12-31T17:58:10.884577Z",
          "iopub.status.idle": "2024-12-31T17:58:10.888826Z",
          "shell.execute_reply": "2024-12-31T17:58:10.887913Z"
        },
        "id": "6ee5806b"
      },
      "outputs": [],
      "source": [
        "simple_grammar1 = nltk.CFG.fromstring(\"\"\"\n",
        "    S -> NP VP\n",
        "    NP -> 'dogs'\n",
        "    NP -> 'cats'\n",
        "    NP -> 'husky' 'dogs'\n",
        "    VP -> V\n",
        "    VP -> V NP\n",
        "    V -> 'bark'\n",
        "    V -> 'jump'\n",
        "    V -> 'chase'\n",
        "\"\"\")"
      ]
    },
    {
      "cell_type": "markdown",
      "id": "00bb45e8",
      "metadata": {
        "id": "00bb45e8"
      },
      "source": [
        "Some things to notice about the NLTK encoding of grammars:\n",
        "\n",
        "* Nonterminals are those symbols that appear on the left-hand side of a rule.\n",
        "* Terminals are any other Python object, but typically (as here) a string. (Notice how to write multi-word expressions on the right-hand side: each word needs to be quoted separately, since the tokenizer breaks at whitespace.)\n",
        "* By convention, the start symbol is the left-hand side of the first production of the grammar, and is typically denoted by the nonterminal `S`.\n",
        "\n",
        "We can print the grammar to observe it:"
      ]
    },
    {
      "cell_type": "code",
      "execution_count": 5,
      "id": "98fd8969",
      "metadata": {
        "colab": {
          "base_uri": "https://localhost:8080/"
        },
        "execution": {
          "iopub.execute_input": "2024-12-31T17:58:10.892453Z",
          "iopub.status.busy": "2024-12-31T17:58:10.891783Z",
          "iopub.status.idle": "2024-12-31T17:58:10.896597Z",
          "shell.execute_reply": "2024-12-31T17:58:10.895717Z"
        },
        "id": "98fd8969",
        "outputId": "005ca06f-52a0-4917-9379-a505dd05bfe8"
      },
      "outputs": [
        {
          "output_type": "stream",
          "name": "stdout",
          "text": [
            "Grammar with 9 productions (start state = S)\n",
            "    S -> NP VP\n",
            "    NP -> 'dogs'\n",
            "    NP -> 'cats'\n",
            "    NP -> 'husky' 'dogs'\n",
            "    VP -> V\n",
            "    VP -> V NP\n",
            "    V -> 'bark'\n",
            "    V -> 'jump'\n",
            "    V -> 'chase'\n"
          ]
        }
      ],
      "source": [
        "print(simple_grammar1)"
      ]
    },
    {
      "cell_type": "markdown",
      "id": "f4adf20b",
      "metadata": {
        "id": "f4adf20b"
      },
      "source": [
        "Some sentences that are *generated* by this grammar include \"dogs bark\", \"cats jump\",  \"husky dogs chase cats\". The last of these is generated as specified by the following derivation:\n",
        "\n",
        "```\n",
        "S => NP VP\n",
        "  => husky dogs VP\n",
        "  => husky dogs V NP\n",
        "  => husky dogs chase NP\n",
        "  => husky dogs chase cats\n",
        "```\n",
        "\n",
        "> This grammar also generates sentences that are ungrammatical in English, such as \"dogs bark cats\", as it makes no distinction between intransitive verbs (like \"bark\") and transitive verbs (like \"chase\"). For now, we'll ignore this issue.\n",
        "\n",
        "The [`nltk.CFG.fromstring`](http://www.nltk.org/api/nltk.html#nltk.CFG.fromstring) function also accepts grammars in a shorthand notation using the \"or\" operator `|` to combine multiple productions with the same left-hand side."
      ]
    },
    {
      "cell_type": "code",
      "execution_count": 6,
      "id": "31960497",
      "metadata": {
        "execution": {
          "iopub.execute_input": "2024-12-31T17:58:10.899892Z",
          "iopub.status.busy": "2024-12-31T17:58:10.899345Z",
          "iopub.status.idle": "2024-12-31T17:58:10.903264Z",
          "shell.execute_reply": "2024-12-31T17:58:10.902427Z"
        },
        "id": "31960497"
      },
      "outputs": [],
      "source": [
        "simple_grammar2 = nltk.CFG.fromstring(\"\"\"\n",
        "    S -> NP VP\n",
        "    NP -> 'dogs' | 'cats' | 'husky' 'dogs'\n",
        "    VP -> V | V NP\n",
        "    V -> 'bark' | 'jump' | 'chase'\n",
        "\"\"\")"
      ]
    },
    {
      "cell_type": "markdown",
      "id": "8805f9a0",
      "metadata": {
        "id": "8805f9a0"
      },
      "source": [
        "You can verify that the grammar is identical by printing it."
      ]
    },
    {
      "cell_type": "code",
      "execution_count": 7,
      "id": "f0630901",
      "metadata": {
        "colab": {
          "base_uri": "https://localhost:8080/"
        },
        "execution": {
          "iopub.execute_input": "2024-12-31T17:58:10.906480Z",
          "iopub.status.busy": "2024-12-31T17:58:10.905828Z",
          "iopub.status.idle": "2024-12-31T17:58:10.910393Z",
          "shell.execute_reply": "2024-12-31T17:58:10.909539Z"
        },
        "id": "f0630901",
        "outputId": "1aaa5030-837e-423f-d2d1-b82946a8ff4a"
      },
      "outputs": [
        {
          "output_type": "stream",
          "name": "stdout",
          "text": [
            "Grammar with 9 productions (start state = S)\n",
            "    S -> NP VP\n",
            "    NP -> 'dogs'\n",
            "    NP -> 'cats'\n",
            "    NP -> 'husky' 'dogs'\n",
            "    VP -> V\n",
            "    VP -> V NP\n",
            "    V -> 'bark'\n",
            "    V -> 'jump'\n",
            "    V -> 'chase'\n"
          ]
        }
      ],
      "source": [
        "print(simple_grammar2)"
      ]
    },
    {
      "cell_type": "markdown",
      "id": "db098276",
      "metadata": {
        "deletable": false,
        "editable": false,
        "id": "db098276"
      },
      "source": [
        "# Textual arithmetic expressions\n",
        "\n",
        "**What is four plus one divided by two?** As you can see in the screenshot at right, Alexa has a specific answer to this question.\n",
        "<img src=\"https://github.com/nlp-course/data/raw/master/img/alexa_arithmetic.jpg\" width=150 align=right />\n",
        "\n",
        "In this lab, you will learn how to implement the first part of answering such \"arithmetic in English\" questions. In particular, you will write CFGs for a subset of the language of arithmetic expressions. You can assume that numbers are integers between zero and twenty and that the allowed operations are addition, subtraction, multiplication, and division. First, construct a CFG that generates the following expressions and similar ones.\n",
        "\n",
        "1. twenty plus two\n",
        "1. fifteen minus five\n",
        "1. four divided by two plus one\n",
        "1. two plus nine times five minus three\n",
        "1. sixteen plus two minus ten times one\n",
        "\n",
        "Your grammar can be written in the \"semantic grammar\" style, in which the nonterminals tend to correspond to semantic classes of phrases (like `NUM` (for numerals) or `OP` (for operators)), rather than syntactic classes (like `NP`, `VP`, etc.).\n",
        "\n",
        "For now, don't worry about issues of ambiguity; your grammar may allow for multiple parses, for example for strings such as \"four divided by two plus one\".\n",
        "\n",
        "<!--\n",
        "BEGIN QUESTION\n",
        "name: arithmetic_grammar\n",
        "-->"
      ]
    },
    {
      "cell_type": "code",
      "execution_count": 8,
      "id": "84b233f7",
      "metadata": {
        "execution": {
          "iopub.execute_input": "2024-12-31T17:58:10.913440Z",
          "iopub.status.busy": "2024-12-31T17:58:10.913018Z",
          "iopub.status.idle": "2024-12-31T17:58:10.917592Z",
          "shell.execute_reply": "2024-12-31T17:58:10.916716Z"
        },
        "id": "84b233f7"
      },
      "outputs": [],
      "source": [
        "#TODO - construct a CFG for simple arithmetic expressions in English\n",
        "arithmetic_grammar = nltk.CFG.fromstring(\"\"\"\n",
        "    S -> NUM EXP\n",
        "    EXP -> OP NUM | EXP EXP\n",
        "    OP -> 'plus' | 'minus' | 'divided' 'by' | 'times'\n",
        "    NUM -> 'zero' | 'one' | 'two' | 'three' | 'four' | 'five' | 'six' | 'seven' | 'eight' | 'nine' | 'ten' | 'eleven' | 'twelve' | 'thirteen' | 'fourteen' | 'fifteen' | 'sixteen' | 'seventeen' | 'eighteen' | 'nineteen' | 'twenty'\n",
        "    \"\"\")"
      ]
    },
    {
      "cell_type": "code",
      "execution_count": 9,
      "id": "9c2890db",
      "metadata": {
        "deletable": false,
        "editable": false,
        "colab": {
          "base_uri": "https://localhost:8080/",
          "height": 46
        },
        "id": "9c2890db",
        "outputId": "85ae1fd7-ef06-4416-8010-a9e5d0a08085"
      },
      "outputs": [
        {
          "output_type": "execute_result",
          "data": {
            "text/plain": [
              "\n",
              "    All tests passed!\n",
              "    "
            ],
            "text/html": [
              "\n",
              "    \n",
              "    \n",
              "        <p>All tests passed!</p>\n",
              "    \n",
              "    "
            ]
          },
          "metadata": {},
          "execution_count": 9
        }
      ],
      "source": [
        "grader.check(\"arithmetic_grammar\")"
      ]
    },
    {
      "cell_type": "markdown",
      "id": "a50c5069",
      "metadata": {
        "id": "a50c5069"
      },
      "source": [
        "# Trees and grammars\n",
        "\n",
        "Create a parse tree each for sentences 2 and 3 according to your grammar. Draw the parse trees on a piece of paper or in your favorite drawing application. You'll use these drawings in this notebook shortly.\n",
        "\n",
        "Go ahead; we'll wait...."
      ]
    },
    {
      "cell_type": "markdown",
      "id": "b744c54b",
      "metadata": {
        "id": "b744c54b"
      },
      "source": [
        "You're back. Good.\n",
        "\n",
        "Drawing parse trees is a helpful visualization, but we need a machine-readable format for trees. One such format is a bracket notation.  For example, a parse tree for \"dogs bark\" can be made as follows, using the [`nltk.Tree.fromstring`](http://www.nltk.org/api/nltk.html#nltk.tree.Tree.fromstring) function. (Notice that you don't need quotation marks for terminals here.)"
      ]
    },
    {
      "cell_type": "code",
      "execution_count": 10,
      "id": "946ab74b",
      "metadata": {
        "execution": {
          "iopub.execute_input": "2024-12-31T17:58:10.992971Z",
          "iopub.status.busy": "2024-12-31T17:58:10.992760Z",
          "iopub.status.idle": "2024-12-31T17:58:10.996491Z",
          "shell.execute_reply": "2024-12-31T17:58:10.995644Z"
        },
        "id": "946ab74b"
      },
      "outputs": [],
      "source": [
        "tree = nltk.Tree.fromstring(\"(S (NP dogs) (VP (V bark)))\")"
      ]
    },
    {
      "cell_type": "markdown",
      "id": "81f4557a",
      "metadata": {
        "id": "81f4557a"
      },
      "source": [
        "We can visualize the tree using the `pretty_print` method:"
      ]
    },
    {
      "cell_type": "code",
      "execution_count": 11,
      "id": "07f4137f",
      "metadata": {
        "colab": {
          "base_uri": "https://localhost:8080/"
        },
        "execution": {
          "iopub.execute_input": "2024-12-31T17:58:10.999335Z",
          "iopub.status.busy": "2024-12-31T17:58:10.999124Z",
          "iopub.status.idle": "2024-12-31T17:58:11.004650Z",
          "shell.execute_reply": "2024-12-31T17:58:11.003833Z"
        },
        "id": "07f4137f",
        "outputId": "43bf859a-ea10-4677-dd1c-f30cb3dbebe8"
      },
      "outputs": [
        {
          "output_type": "stream",
          "name": "stdout",
          "text": [
            "      S      \n",
            "  ____|___    \n",
            " |        VP \n",
            " |        |   \n",
            " NP       V  \n",
            " |        |   \n",
            "dogs     bark\n",
            "\n"
          ]
        }
      ],
      "source": [
        "tree.pretty_print()"
      ]
    },
    {
      "cell_type": "markdown",
      "id": "58b60882",
      "metadata": {
        "id": "58b60882"
      },
      "source": [
        "You can get the rules that generated a tree using the `productions` method, which returns a list of productions according to a [preorder tree traversal](https://en.wikipedia.org/wiki/Tree_traversal#Pre-order,_NLR):"
      ]
    },
    {
      "cell_type": "code",
      "execution_count": 12,
      "id": "6525cb94",
      "metadata": {
        "colab": {
          "base_uri": "https://localhost:8080/"
        },
        "execution": {
          "iopub.execute_input": "2024-12-31T17:58:11.007582Z",
          "iopub.status.busy": "2024-12-31T17:58:11.007288Z",
          "iopub.status.idle": "2024-12-31T17:58:11.012232Z",
          "shell.execute_reply": "2024-12-31T17:58:11.011365Z"
        },
        "id": "6525cb94",
        "outputId": "f8ff25ee-bc1b-48c9-a70a-1d15b01c5d85"
      },
      "outputs": [
        {
          "output_type": "execute_result",
          "data": {
            "text/plain": [
              "[S -> NP VP, NP -> 'dogs', VP -> V, V -> 'bark']"
            ]
          },
          "metadata": {},
          "execution_count": 12
        }
      ],
      "source": [
        "tree.productions()"
      ]
    },
    {
      "cell_type": "markdown",
      "id": "288aafbb",
      "metadata": {
        "deletable": false,
        "editable": false,
        "id": "288aafbb"
      },
      "source": [
        "Convert the parse trees you drew for sentences 2 and 3 into NLTK format by converting them from a string using bracket notation, as done above for `tree`. Call them `tree2` and `tree3`.\n",
        "\n",
        "<!--\n",
        "BEGIN QUESTION\n",
        "name: parse_trees\n",
        "-->"
      ]
    },
    {
      "cell_type": "code",
      "execution_count": 13,
      "id": "45f6bcc4",
      "metadata": {
        "execution": {
          "iopub.execute_input": "2024-12-31T17:58:11.015261Z",
          "iopub.status.busy": "2024-12-31T17:58:11.015055Z",
          "iopub.status.idle": "2024-12-31T17:58:11.018969Z",
          "shell.execute_reply": "2024-12-31T17:58:11.018113Z"
        },
        "id": "45f6bcc4"
      },
      "outputs": [],
      "source": [
        "#TODO -- Construct trees for sentences 2 and 3 by\n",
        "#        converting from the bracket notation.\n",
        "# \"fifteen minus five\"\n",
        "tree2 = nltk.Tree.fromstring(\"(S (NUM fifteen) (EXP (OP minus) (NUM five)))\")\n",
        "# \"four divided by two plus one\"\n",
        "tree3 = nltk.Tree.fromstring(\"(S (NUM fifteen) (EXP (EXP (OP divided by) (NUM two)) (EXP(OP plus) (NUM one))))\")"
      ]
    },
    {
      "cell_type": "code",
      "execution_count": 14,
      "id": "1ceec659",
      "metadata": {
        "deletable": false,
        "editable": false,
        "colab": {
          "base_uri": "https://localhost:8080/",
          "height": 46
        },
        "id": "1ceec659",
        "outputId": "7c1ca8a0-36e5-4142-d248-3212f10a08db"
      },
      "outputs": [
        {
          "output_type": "execute_result",
          "data": {
            "text/plain": [
              "\n",
              "    All tests passed!\n",
              "    "
            ],
            "text/html": [
              "\n",
              "    \n",
              "    \n",
              "        <p>All tests passed!</p>\n",
              "    \n",
              "    "
            ]
          },
          "metadata": {},
          "execution_count": 14
        }
      ],
      "source": [
        "grader.check(\"parse_trees\")"
      ]
    },
    {
      "cell_type": "markdown",
      "id": "4dac041d",
      "metadata": {
        "id": "4dac041d"
      },
      "source": [
        "It's useful to draw the trees to make it easier to visually inspect them."
      ]
    },
    {
      "cell_type": "code",
      "execution_count": 15,
      "id": "0137da13",
      "metadata": {
        "colab": {
          "base_uri": "https://localhost:8080/"
        },
        "execution": {
          "iopub.execute_input": "2024-12-31T17:58:11.053784Z",
          "iopub.status.busy": "2024-12-31T17:58:11.053577Z",
          "iopub.status.idle": "2024-12-31T17:58:11.058846Z",
          "shell.execute_reply": "2024-12-31T17:58:11.057960Z"
        },
        "id": "0137da13",
        "outputId": "794e3943-99e6-4739-eb7c-b3cb57f3e5df"
      },
      "outputs": [
        {
          "output_type": "stream",
          "name": "stdout",
          "text": [
            "          S           \n",
            "    ______|____        \n",
            "   |          EXP     \n",
            "   |       ____|___    \n",
            "  NUM     OP      NUM \n",
            "   |      |        |   \n",
            "fifteen minus     five\n",
            "\n",
            "                     S                  \n",
            "    _________________|___                \n",
            "   |                    EXP             \n",
            "   |                  ___|________       \n",
            "   |                EXP          EXP    \n",
            "   |              ___|___     ____|___   \n",
            "  NUM            OP     NUM  OP      NUM\n",
            "   |        _____|___    |   |        |  \n",
            "fifteen divided      by two plus     one\n",
            "\n"
          ]
        }
      ],
      "source": [
        "tree2.pretty_print()\n",
        "tree3.pretty_print()"
      ]
    },
    {
      "cell_type": "markdown",
      "id": "6424e073",
      "metadata": {
        "id": "6424e073"
      },
      "source": [
        "The following function validates that a tree only contains productions that are valid according to a given grammar."
      ]
    },
    {
      "cell_type": "code",
      "execution_count": 16,
      "id": "5b875750",
      "metadata": {
        "execution": {
          "iopub.execute_input": "2024-12-31T17:58:11.061874Z",
          "iopub.status.busy": "2024-12-31T17:58:11.061667Z",
          "iopub.status.idle": "2024-12-31T17:58:11.065237Z",
          "shell.execute_reply": "2024-12-31T17:58:11.064390Z"
        },
        "id": "5b875750"
      },
      "outputs": [],
      "source": [
        "def validate(tree, grammar):\n",
        "    return all([production in grammar.productions()\n",
        "                for production in tree.productions()])"
      ]
    },
    {
      "cell_type": "markdown",
      "id": "2461b503",
      "metadata": {
        "deletable": false,
        "editable": false,
        "id": "2461b503"
      },
      "source": [
        "Using the `validate` function, we can validate that the trees your wrote are valid with respect to your grammar.\n",
        "\n",
        "<!--\n",
        "BEGIN QUESTION\n",
        "name: parse_trees_valid\n",
        "-->"
      ]
    },
    {
      "cell_type": "code",
      "execution_count": 17,
      "id": "ba8942f3",
      "metadata": {
        "colab": {
          "base_uri": "https://localhost:8080/"
        },
        "execution": {
          "iopub.execute_input": "2024-12-31T17:58:11.083217Z",
          "iopub.status.busy": "2024-12-31T17:58:11.083009Z",
          "iopub.status.idle": "2024-12-31T17:58:11.087238Z",
          "shell.execute_reply": "2024-12-31T17:58:11.086369Z"
        },
        "id": "ba8942f3",
        "outputId": "4b556e99-7586-47aa-d94b-aad8ec7767fb"
      },
      "outputs": [
        {
          "output_type": "stream",
          "name": "stdout",
          "text": [
            "True\n",
            "True\n"
          ]
        }
      ],
      "source": [
        "print(validate(tree2, arithmetic_grammar))\n",
        "print(validate(tree3, arithmetic_grammar))"
      ]
    },
    {
      "cell_type": "markdown",
      "id": "c6ec5a0e",
      "metadata": {
        "deletable": false,
        "editable": false,
        "id": "c6ec5a0e"
      },
      "source": [
        "# Expanding the grammar\n",
        "The arithmetic expressions we considered so far were rather limited. In practice, there are many ways to express such expressions. Expand your grammar to generate also the following expressions, which use other ways of indicating the arithmetic operations, in addition to the previous ones:\n",
        "\n",
        "6. the sum of twenty and two\n",
        "1. the difference between fifteen and five\n",
        "1. the quotient of three and five\n",
        "1. the sum of the product of four and two and one\n",
        "\n",
        "<!--\n",
        "BEGIN QUESTION\n",
        "name: expanded_arithmetic_grammar\n",
        "-->"
      ]
    },
    {
      "cell_type": "code",
      "execution_count": 18,
      "id": "88b59d18",
      "metadata": {
        "execution": {
          "iopub.execute_input": "2024-12-31T17:58:11.090258Z",
          "iopub.status.busy": "2024-12-31T17:58:11.090038Z",
          "iopub.status.idle": "2024-12-31T17:58:11.095064Z",
          "shell.execute_reply": "2024-12-31T17:58:11.094162Z"
        },
        "id": "88b59d18"
      },
      "outputs": [],
      "source": [
        "#TODO\n",
        "expanded_arithmetic_grammar = nltk.CFG.fromstring(\"\"\"\n",
        "    S -> NUM EXP | PREFIX EXP2 AND EXP2\n",
        "    EXP -> OP NUM | EXP EXP\n",
        "    OP -> 'plus' | 'minus' | 'divided' 'by' | 'times'\n",
        "    NUM -> 'zero' | 'one' | 'two' | 'three' | 'four' | 'five' | 'six' | 'seven' | 'eight' | 'nine' | 'ten' | 'eleven' | 'twelve' | 'thirteen' | 'fourteen' | 'fifteen' | 'sixteen' | 'seventeen' | 'eighteen' | 'nineteen' | 'twenty'\n",
        "\n",
        "    PREFIX -> 'the' 'sum' 'of' | 'the' 'difference' 'between' | 'the' 'quotient' 'of' | 'the' 'product' 'of'\n",
        "    EXP2 -> NUM | PREFIX EXP2 AND EXP2\n",
        "    AND -> 'and'\n",
        "    \"\"\")"
      ]
    },
    {
      "cell_type": "code",
      "execution_count": 19,
      "id": "f788fa6b",
      "metadata": {
        "deletable": false,
        "editable": false,
        "colab": {
          "base_uri": "https://localhost:8080/",
          "height": 46
        },
        "id": "f788fa6b",
        "outputId": "a6305f94-fb30-4014-d1ec-a3d129e820e5"
      },
      "outputs": [
        {
          "output_type": "execute_result",
          "data": {
            "text/plain": [
              "\n",
              "    All tests passed!\n",
              "    "
            ],
            "text/html": [
              "\n",
              "    \n",
              "    \n",
              "        <p>All tests passed!</p>\n",
              "    \n",
              "    "
            ]
          },
          "metadata": {},
          "execution_count": 19
        }
      ],
      "source": [
        "grader.check(\"expanded_arithmetic_grammar\")"
      ]
    },
    {
      "cell_type": "markdown",
      "id": "1b72ad11",
      "metadata": {
        "deletable": false,
        "editable": false,
        "id": "1b72ad11"
      },
      "source": [
        "Create parse trees for sentences 6 and 9 according to your grammar. Again, you might find it useful to first draw the trees by hand and then write them in bracket notation using the `nltk.Tree.fromstring` function.\n",
        "\n",
        "<!--\n",
        "BEGIN QUESTION\n",
        "name: expanded_arithmetic_trees\n",
        "-->"
      ]
    },
    {
      "cell_type": "code",
      "execution_count": 20,
      "id": "c3bb65e3",
      "metadata": {
        "execution": {
          "iopub.execute_input": "2024-12-31T17:58:11.149852Z",
          "iopub.status.busy": "2024-12-31T17:58:11.149641Z",
          "iopub.status.idle": "2024-12-31T17:58:11.153413Z",
          "shell.execute_reply": "2024-12-31T17:58:11.152568Z"
        },
        "id": "c3bb65e3"
      },
      "outputs": [],
      "source": [
        "#TODO\n",
        "# 6. \"the sum of twenty and two\"\n",
        "tree6 = nltk.Tree.fromstring(\"\"\"(S\n",
        "    (PREFIX the sum of)\n",
        "    (EXP2 (NUM twenty))\n",
        "    (AND and)\n",
        "    (EXP2 (NUM two))\n",
        "  )\"\"\")\n",
        "\n",
        "# 9. \"the sum of the product of four and two and one\"\n",
        "tree9 = nltk.Tree.fromstring(\"\"\"(S\n",
        "  (PREFIX the sum of)\n",
        "  (EXP2\n",
        "    (PREFIX the product of)\n",
        "    (EXP2 (NUM four))\n",
        "    (AND and)\n",
        "    (EXP2 (NUM two))\n",
        "  )\n",
        "  (AND and)\n",
        "  (EXP2 (NUM one))\n",
        ")\"\"\")"
      ]
    },
    {
      "cell_type": "code",
      "execution_count": 21,
      "id": "24af1d30",
      "metadata": {
        "deletable": false,
        "editable": false,
        "colab": {
          "base_uri": "https://localhost:8080/",
          "height": 46
        },
        "id": "24af1d30",
        "outputId": "d36b7e8e-c431-4394-8cbe-1bf4c2807d64"
      },
      "outputs": [
        {
          "output_type": "execute_result",
          "data": {
            "text/plain": [
              "\n",
              "    All tests passed!\n",
              "    "
            ],
            "text/html": [
              "\n",
              "    \n",
              "    \n",
              "        <p>All tests passed!</p>\n",
              "    \n",
              "    "
            ]
          },
          "metadata": {},
          "execution_count": 21
        }
      ],
      "source": [
        "grader.check(\"expanded_arithmetic_trees\")"
      ]
    },
    {
      "cell_type": "code",
      "execution_count": 22,
      "id": "0c7e4bc4",
      "metadata": {
        "colab": {
          "base_uri": "https://localhost:8080/"
        },
        "execution": {
          "iopub.execute_input": "2024-12-31T17:58:11.189084Z",
          "iopub.status.busy": "2024-12-31T17:58:11.188867Z",
          "iopub.status.idle": "2024-12-31T17:58:11.194562Z",
          "shell.execute_reply": "2024-12-31T17:58:11.193666Z"
        },
        "id": "0c7e4bc4",
        "outputId": "967e23f8-545b-44ba-fdda-7c207a4eea1f"
      },
      "outputs": [
        {
          "output_type": "stream",
          "name": "stdout",
          "text": [
            "            S                 \n",
            "       _____|______________    \n",
            "      |         EXP2   |  EXP2\n",
            "      |          |     |   |   \n",
            "    PREFIX      NUM   AND NUM \n",
            "  ____|_____     |     |   |   \n",
            "the  sum    of twenty and two \n",
            "\n",
            "                            S                         \n",
            "       _____________________|______________________    \n",
            "      |                    EXP2                |   |  \n",
            "      |                _____|_____________     |   |   \n",
            "      |               |         EXP2  |  EXP2  |  EXP2\n",
            "      |               |          |    |   |    |   |   \n",
            "    PREFIX          PREFIX      NUM  AND NUM  AND NUM \n",
            "  ____|_____     _____|_____     |    |   |    |   |   \n",
            "the  sum    of the product  of  four and two  and one \n",
            "\n"
          ]
        }
      ],
      "source": [
        "tree6.pretty_print()\n",
        "tree9.pretty_print()"
      ]
    },
    {
      "cell_type": "markdown",
      "id": "13158c94",
      "metadata": {
        "deletable": false,
        "editable": false,
        "id": "13158c94"
      },
      "source": [
        "# Testing the grammar\n",
        "\n",
        "Now that you have a CFG for arithmetic expressions, it is time to test its capabilities. Can your grammar generate the following new expressions? If not, edit the grammar to make sure it can handle such expressions.\n",
        "\n",
        "10. three added to eight\n",
        "1. the sum of two and nine times the difference between five and three\n",
        "1. ten\n",
        "\n",
        "<!--\n",
        "BEGIN QUESTION\n",
        "name: further_testing\n",
        "-->"
      ]
    },
    {
      "cell_type": "code",
      "execution_count": 23,
      "id": "2651a179",
      "metadata": {
        "execution": {
          "iopub.execute_input": "2024-12-31T17:58:11.197425Z",
          "iopub.status.busy": "2024-12-31T17:58:11.197210Z",
          "iopub.status.idle": "2024-12-31T17:58:11.200674Z",
          "shell.execute_reply": "2024-12-31T17:58:11.199844Z"
        },
        "id": "2651a179"
      },
      "outputs": [],
      "source": [
        "#TODO\n",
        "expanded_arithmetic_grammar = nltk.CFG.fromstring(\"\"\"\n",
        "    S -> NUM | NUM EXP | PREFIX EXP2 AND EXP2 | S OP S\n",
        "    EXP -> OP NUM | EXP EXP\n",
        "    OP -> 'plus' | 'minus' | 'divided' 'by' | 'times' | 'added' 'to'\n",
        "    NUM -> 'zero' | 'one' | 'two' | 'three' | 'four' | 'five' | 'six' | 'seven' | 'eight' | 'nine' | 'ten' | 'eleven' | 'twelve' | 'thirteen' | 'fourteen' | 'fifteen' | 'sixteen' | 'seventeen' | 'eighteen' | 'nineteen' | 'twenty'\n",
        "\n",
        "    PREFIX -> 'the' 'sum' 'of' | 'the' 'difference' 'between' | 'the' 'quotient' 'of' | 'the' 'product' 'of'\n",
        "    EXP2 -> NUM | PREFIX EXP2 AND EXP2\n",
        "    AND -> 'and'\n",
        "    \"\"\")"
      ]
    },
    {
      "cell_type": "code",
      "execution_count": 24,
      "id": "471a3a72",
      "metadata": {
        "deletable": false,
        "editable": false,
        "colab": {
          "base_uri": "https://localhost:8080/",
          "height": 46
        },
        "id": "471a3a72",
        "outputId": "5b9876bc-bec7-426a-f5ce-a3ddc957f9c5"
      },
      "outputs": [
        {
          "output_type": "execute_result",
          "data": {
            "text/plain": [
              "\n",
              "    All tests passed!\n",
              "    "
            ],
            "text/html": [
              "\n",
              "    \n",
              "    \n",
              "        <p>All tests passed!</p>\n",
              "    \n",
              "    "
            ]
          },
          "metadata": {},
          "execution_count": 24
        }
      ],
      "source": [
        "grader.check(\"further_testing\")"
      ]
    },
    {
      "cell_type": "markdown",
      "id": "c3f5b7dc",
      "metadata": {
        "id": "c3f5b7dc"
      },
      "source": [
        "# Preview to parsing\n",
        "\n",
        "Verifying by hand that a sentence can be generated by a grammar is cumbersome and impractical. We would like an automatic procedure for doing that at scale, that is, a *parser*. The `nltk` system can construct a parser given a grammar. In later labs, you'll write your own parsers.\n",
        "\n",
        "> Strictly speaking, an algoithm that determines *whether* a sentence can be generated by a grammar (that is, returns a simple `true` or `false`) is properly referred to as a *recognizer*. A *parser* goes further, in returning one or more parse trees for grammatical sentences.\n",
        "\n",
        "We'll make use of NLTK's \"bottom up chart parser\" facility to build a parser for your arithmetic grammar."
      ]
    },
    {
      "cell_type": "code",
      "execution_count": 25,
      "id": "36e4603c",
      "metadata": {
        "execution": {
          "iopub.execute_input": "2024-12-31T17:58:11.248834Z",
          "iopub.status.busy": "2024-12-31T17:58:11.248606Z",
          "iopub.status.idle": "2024-12-31T17:58:11.251935Z",
          "shell.execute_reply": "2024-12-31T17:58:11.251097Z"
        },
        "id": "36e4603c"
      },
      "outputs": [],
      "source": [
        "parser = nltk.parse.BottomUpChartParser(expanded_arithmetic_grammar)"
      ]
    },
    {
      "cell_type": "markdown",
      "id": "4c6b4d69",
      "metadata": {
        "id": "4c6b4d69"
      },
      "source": [
        "Using this parser we can get parses for a given sentence."
      ]
    },
    {
      "cell_type": "code",
      "execution_count": 26,
      "id": "757041d0",
      "metadata": {
        "execution": {
          "iopub.execute_input": "2024-12-31T17:58:11.254673Z",
          "iopub.status.busy": "2024-12-31T17:58:11.254462Z",
          "iopub.status.idle": "2024-12-31T17:58:11.264743Z",
          "shell.execute_reply": "2024-12-31T17:58:11.263981Z"
        },
        "id": "757041d0",
        "colab": {
          "base_uri": "https://localhost:8080/"
        },
        "outputId": "4ecc2b95-a416-4677-d59f-de2dfd74f6c2"
      },
      "outputs": [
        {
          "output_type": "stream",
          "name": "stdout",
          "text": [
            "                               S                                        \n",
            "             __________________|_____________________                    \n",
            "            S                  |                     S                  \n",
            "       _____|____________      |            _________|_______________    \n",
            "      |        EXP2  |  EXP2   |           |              EXP2  |   EXP2\n",
            "      |         |    |   |     |           |               |    |    |   \n",
            "    PREFIX     NUM  AND NUM    OP        PREFIX           NUM  AND  NUM \n",
            "  ____|_____    |    |   |     |     ______|_________      |    |    |   \n",
            "the  sum    of two  and nine times the difference between five and three\n",
            "\n"
          ]
        }
      ],
      "source": [
        "test_sentence = \"the sum of two and nine times the difference between five and three\".split()\n",
        "for tree in parser.parse(test_sentence):\n",
        "    tree.pretty_print()"
      ]
    },
    {
      "cell_type": "markdown",
      "id": "47368009",
      "metadata": {
        "id": "47368009"
      },
      "source": [
        "You may have noticed that some of the arithmetic expressions were *ambiguous*; they had multiple distinct valid parses. In the next few labs, we will deal with the important matter of ambiguity."
      ]
    },
    {
      "cell_type": "markdown",
      "id": "83d9f027",
      "metadata": {
        "id": "83d9f027"
      },
      "source": [
        "## Parser evaluation\n",
        "To evaluate the quality of a syntactic parser, we need an evaluation metric to compare a predicted _hypothesis_ parse with a gold _reference_ parse. Common evaluation metrics include:\n",
        "\n",
        "1. Exact match – 1 if the predicted and reference parses are identical; 0 otherwise\n",
        "2. Precision ($P$) – the proportion of constituents in the hypothesis that are correct (that is, match the gold parse)\n",
        "$$P = \\frac{\\cnt{\\text{correct constituents in a hypothesis parse}}}{\\cnt{\\text{constituents in a hypothesis parse}}}$$\n",
        "1. Recall ($R$) – the proportion of constituents in the gold parse that are predicted (that is, match the hypothesis parse)\n",
        "$$R = \\frac{\\cnt{\\text{correct constituents in a hypothesis parse}}}{\\cnt{\\text{constituents in a reference parse}}}$$\n",
        "1. $F_1$ score – the [harmonic mean](https://en.wikipedia.org/wiki/Harmonic_mean) of precision and recall\n",
        "$$F_1 = \\frac{2}{1/P+1/R} = \\frac{2PR}{P+R}$$\n",
        "\n",
        "We consider a constituent in one tree to match a constituent in another if they **_share the same nonterminal_** and **_cover the same span of terminal symbols_**. We don't count the terminals by themselves as constituents, so, for instance, the `ref_tree` we define below has five constituents, not eight.\n",
        "\n",
        "Consider the following trees: a reference tree `ref_tree` (the \"gold\" or \"ground truth\") and a hypothesis tree `hyp_tree` (the \"predicted\" tree that we wish to measure)."
      ]
    },
    {
      "cell_type": "code",
      "execution_count": 27,
      "id": "fe0fa0b7",
      "metadata": {
        "execution": {
          "iopub.execute_input": "2024-12-31T17:58:11.267569Z",
          "iopub.status.busy": "2024-12-31T17:58:11.267356Z",
          "iopub.status.idle": "2024-12-31T17:58:11.271860Z",
          "shell.execute_reply": "2024-12-31T17:58:11.270986Z"
        },
        "id": "fe0fa0b7",
        "colab": {
          "base_uri": "https://localhost:8080/"
        },
        "outputId": "c55b76a5-3be5-45f4-eae1-5e97d290b193"
      },
      "outputs": [
        {
          "output_type": "stream",
          "name": "stdout",
          "text": [
            "       S           \n",
            "  _____|____        \n",
            " |          VP     \n",
            " |      ____|___    \n",
            " NP    V        NP \n",
            " |     |        |   \n",
            "dogs chase     cats\n",
            "\n"
          ]
        }
      ],
      "source": [
        "ref_tree = nltk.Tree.fromstring(\"(S (NP dogs) (VP (V chase) (NP cats)))\")\n",
        "ref_tree.pretty_print()"
      ]
    },
    {
      "cell_type": "code",
      "execution_count": 28,
      "id": "470f4cf6",
      "metadata": {
        "execution": {
          "iopub.execute_input": "2024-12-31T17:58:11.274715Z",
          "iopub.status.busy": "2024-12-31T17:58:11.274509Z",
          "iopub.status.idle": "2024-12-31T17:58:11.278840Z",
          "shell.execute_reply": "2024-12-31T17:58:11.277963Z"
        },
        "id": "470f4cf6",
        "colab": {
          "base_uri": "https://localhost:8080/"
        },
        "outputId": "c6154184-acf4-47c3-bc15-abdde5e1ecc1"
      },
      "outputs": [
        {
          "output_type": "stream",
          "name": "stdout",
          "text": [
            "       S           \n",
            "  _____|____        \n",
            " S          VP     \n",
            " |      ____|___    \n",
            " NP    V        NP \n",
            " |     |        |   \n",
            "dogs chase     cats\n",
            "\n"
          ]
        }
      ],
      "source": [
        "hyp_tree = nltk.Tree.fromstring(\"(S (S  (NP dogs) ) (VP (V chase) (NP cats)))\")\n",
        "hyp_tree.pretty_print()"
      ]
    },
    {
      "cell_type": "markdown",
      "id": "66ffe991",
      "metadata": {
        "deletable": false,
        "editable": false,
        "id": "66ffe991"
      },
      "source": [
        "Calculate the precision, recall, and $F1$ of the hypothesis tree `hyp_tree` relative to the reference tree `ref_tree`.\n",
        "\n",
        "<!--\n",
        "BEGIN QUESTION\n",
        "name: metrics\n",
        "-->"
      ]
    },
    {
      "cell_type": "code",
      "execution_count": 29,
      "id": "d6699d14",
      "metadata": {
        "execution": {
          "iopub.execute_input": "2024-12-31T17:58:11.281682Z",
          "iopub.status.busy": "2024-12-31T17:58:11.281473Z",
          "iopub.status.idle": "2024-12-31T17:58:11.285177Z",
          "shell.execute_reply": "2024-12-31T17:58:11.284558Z"
        },
        "id": "d6699d14"
      },
      "outputs": [],
      "source": [
        "#TODO\n",
        "precision = 5/6\n",
        "recall = 5/5\n",
        "f1 = 2*precision*recall/(precision+recall)"
      ]
    },
    {
      "cell_type": "code",
      "execution_count": 30,
      "id": "213580c4",
      "metadata": {
        "deletable": false,
        "editable": false,
        "id": "213580c4",
        "colab": {
          "base_uri": "https://localhost:8080/",
          "height": 46
        },
        "outputId": "f891e077-2a7b-4d52-e02d-591c49491b81"
      },
      "outputs": [
        {
          "output_type": "execute_result",
          "data": {
            "text/plain": [
              "\n",
              "    All tests passed!\n",
              "    "
            ],
            "text/html": [
              "\n",
              "    \n",
              "    \n",
              "        <p>All tests passed!</p>\n",
              "    \n",
              "    "
            ]
          },
          "metadata": {},
          "execution_count": 30
        }
      ],
      "source": [
        "grader.check(\"metrics\")"
      ]
    },
    {
      "cell_type": "markdown",
      "id": "3dc74afc",
      "metadata": {
        "deletable": false,
        "editable": false,
        "id": "3dc74afc"
      },
      "source": [
        "## The precision-recall tradeoff\n",
        "\n",
        "Often there is a tradeoff between precision and recall. In the above example, the recall is good, but at the expense of precision.\n",
        "\n",
        "There can also be trees with high precision and low recall.\n",
        "\n",
        "<!--\n",
        "BEGIN QUESTION\n",
        "name: tradeoff\n",
        "-->\n",
        "Find the smallest tree (that is, with the fewest nodes) that has a precision of $1$ with regards to the above `ref_tree`. The tree should, like the reference tree, have the nonterminal `S` at its root and cover the terminal string `dogs chase cats`. However, it **_need not otherwise be valid_** according to the grammar. What is its recall?"
      ]
    },
    {
      "cell_type": "code",
      "execution_count": 31,
      "id": "c20c79ca",
      "metadata": {
        "execution": {
          "iopub.execute_input": "2024-12-31T17:58:11.324833Z",
          "iopub.status.busy": "2024-12-31T17:58:11.324629Z",
          "iopub.status.idle": "2024-12-31T17:58:11.328964Z",
          "shell.execute_reply": "2024-12-31T17:58:11.328090Z"
        },
        "id": "c20c79ca",
        "colab": {
          "base_uri": "https://localhost:8080/"
        },
        "outputId": "5d65db29-5932-4c53-9a63-2b1e81b3b002"
      },
      "outputs": [
        {
          "output_type": "stream",
          "name": "stdout",
          "text": [
            "       S       \n",
            "  _____|____    \n",
            "dogs chase cats\n",
            "\n"
          ]
        }
      ],
      "source": [
        "#TODO -- Fill in the minimal precision-1 tree and its recall\n",
        "minimal_high_precision_tree = nltk.Tree.fromstring(\"(S dogs chase cats)\")\n",
        "recall_of_minimal_high_precision_tree = 1/5\n",
        "\n",
        "minimal_high_precision_tree.pretty_print()"
      ]
    },
    {
      "cell_type": "code",
      "execution_count": 32,
      "id": "7e8fe834",
      "metadata": {
        "deletable": false,
        "editable": false,
        "id": "7e8fe834",
        "colab": {
          "base_uri": "https://localhost:8080/",
          "height": 46
        },
        "outputId": "6cf29fa6-ea41-4a78-9c20-090aa06731a8"
      },
      "outputs": [
        {
          "output_type": "execute_result",
          "data": {
            "text/plain": [
              "\n",
              "    All tests passed!\n",
              "    "
            ],
            "text/html": [
              "\n",
              "    \n",
              "    \n",
              "        <p>All tests passed!</p>\n",
              "    \n",
              "    "
            ]
          },
          "metadata": {},
          "execution_count": 32
        }
      ],
      "source": [
        "grader.check(\"tradeoff\")"
      ]
    },
    {
      "cell_type": "markdown",
      "id": "313da87e",
      "metadata": {
        "id": "313da87e"
      },
      "source": [
        "#  Normal forms\n",
        "\n",
        "As you have seen above, there are many ways to write a grammar for a given language. It is often convenient, however, to work with a standard format. A *normal form* for context-free languages is a restricted production format for context-free grammars that still allows expressing arbitrary context-free languages.\n",
        "\n",
        "As an example — which will come in handy later — we examine *Chomsky normal form*.\n",
        "A grammar in Chomsky Normal Form (CNF) has rules of only two kinds:\n",
        "\n",
        "1. $A \\rightarrow B \\, C$ – a rule mapping a nonterminal symbol to exactly two nonterminal symbols\n",
        "2. $A \\rightarrow a$ – a rule mapping a nonterminal symbol to exactly one terminal symbol\n",
        "\n",
        "> Actually, this version of CNF can't express languages that contain the empty string. To allow expression of any context-free language, we can allow a third type of rule $S \\rightarrow \\epsilon$, where $S$ is the start symbol of the grammar and $\\epsilon$ represents the empty string. But for our purposes, we'll stick to the simpler version here.\n",
        "\n",
        "A CFG parse tree can be transformed to one generable by a CNF grammar in a variety of ways, typically by introducing special new nonterminals. Here, we use `nltk` to perform the transformation. The result is a binary tree. The binary branching property will turn out to be useful when we turn to implementing parsers."
      ]
    },
    {
      "cell_type": "code",
      "execution_count": 33,
      "id": "6ad126c9",
      "metadata": {
        "execution": {
          "iopub.execute_input": "2024-12-31T17:58:11.361868Z",
          "iopub.status.busy": "2024-12-31T17:58:11.361657Z",
          "iopub.status.idle": "2024-12-31T17:58:11.366714Z",
          "shell.execute_reply": "2024-12-31T17:58:11.365822Z"
        },
        "id": "6ad126c9",
        "colab": {
          "base_uri": "https://localhost:8080/"
        },
        "outputId": "20d3a989-29b4-4c0d-ac59-55b03e3c85f5"
      },
      "outputs": [
        {
          "output_type": "stream",
          "name": "stdout",
          "text": [
            "      S       \n",
            "  ____|____    \n",
            " NP  CONJ  NP \n",
            " |    |    |   \n",
            "dogs and  cats\n",
            "\n",
            "      S                   \n",
            "  ____|________            \n",
            " |        S|<CONJ-NP>     \n",
            " |     ________|_______    \n",
            " NP  CONJ              NP \n",
            " |    |                |   \n",
            "dogs and              cats\n",
            "\n"
          ]
        }
      ],
      "source": [
        "tree = nltk.Tree.fromstring(\"(S (NP dogs) (CONJ and) (NP cats) )\")\n",
        "tree.pretty_print()\n",
        "tree.chomsky_normal_form()\n",
        "tree.pretty_print()"
      ]
    },
    {
      "cell_type": "markdown",
      "id": "15ac197c",
      "metadata": {
        "deletable": false,
        "editable": false,
        "id": "15ac197c"
      },
      "source": [
        "Some parsing algorithms require the grammar to be in CNF. Manually convert the arithmetic grammar you wrote in the first part of this lab (`arithmetic_grammar`) to CNF. You may need to introduce \"dummy\" nonterminals to allow that. Your CNF grammar should recognize exactly the same strings as the original CFG, though the parse trees will be different.\n",
        "\n",
        "<!--\n",
        "BEGIN QUESTION\n",
        "name: cnf_conversion\n",
        "-->"
      ]
    },
    {
      "cell_type": "code",
      "execution_count": 34,
      "id": "508d944c",
      "metadata": {
        "execution": {
          "iopub.execute_input": "2024-12-31T17:58:11.369889Z",
          "iopub.status.busy": "2024-12-31T17:58:11.369359Z",
          "iopub.status.idle": "2024-12-31T17:58:11.373894Z",
          "shell.execute_reply": "2024-12-31T17:58:11.373066Z"
        },
        "id": "508d944c"
      },
      "outputs": [],
      "source": [
        "#TODO - convert the arithmetic grammar you wrote in the *first part* of\n",
        "#       this lab (arithmetic_grammar) to CNF.\n",
        "cnf_arithmetic_grammar = nltk.CFG.fromstring(\n",
        "    \"\"\"\n",
        "    S -> NUM EXP\n",
        "    EXP -> OP NUM | EXP EXP\n",
        "    OP -> 'plus' | 'minus' | DIVIDED BY | 'times'\n",
        "    DIVIDED -> 'divided'\n",
        "    BY -> 'by'\n",
        "    NUM -> 'zero' | 'one' | 'two' | 'three' | 'four' | 'five' | 'six' | 'seven' | 'eight' | 'nine' | 'ten' | 'eleven' | 'twelve' | 'thirteen' | 'fourteen' | 'fifteen' | 'sixteen' | 'seventeen' | 'eighteen' | 'nineteen' | 'twenty'\n",
        "    \"\"\"\n",
        ")"
      ]
    },
    {
      "cell_type": "code",
      "execution_count": 35,
      "id": "7209c5d3",
      "metadata": {
        "deletable": false,
        "editable": false,
        "id": "7209c5d3",
        "colab": {
          "base_uri": "https://localhost:8080/",
          "height": 46
        },
        "outputId": "e8697db9-7d59-4da8-bd1e-a9631845eecc"
      },
      "outputs": [
        {
          "output_type": "execute_result",
          "data": {
            "text/plain": [
              "\n",
              "    All tests passed!\n",
              "    "
            ],
            "text/html": [
              "\n",
              "    \n",
              "    \n",
              "        <p>All tests passed!</p>\n",
              "    \n",
              "    "
            ]
          },
          "metadata": {},
          "execution_count": 35
        }
      ],
      "source": [
        "grader.check(\"cnf_conversion\")"
      ]
    },
    {
      "cell_type": "markdown",
      "id": "b27ea1d4",
      "metadata": {
        "id": "b27ea1d4"
      },
      "source": [
        "The NLTK grammar method `is_chomsky_normal_form` allows us to verify that the grammar is indeed in CNF:"
      ]
    },
    {
      "cell_type": "code",
      "execution_count": 36,
      "id": "ad9ef3a9",
      "metadata": {
        "execution": {
          "iopub.execute_input": "2024-12-31T17:58:11.438851Z",
          "iopub.status.busy": "2024-12-31T17:58:11.438640Z",
          "iopub.status.idle": "2024-12-31T17:58:11.443514Z",
          "shell.execute_reply": "2024-12-31T17:58:11.442656Z"
        },
        "id": "ad9ef3a9",
        "colab": {
          "base_uri": "https://localhost:8080/"
        },
        "outputId": "ccd6db96-6aab-41d4-900f-b2be1c88a98b"
      },
      "outputs": [
        {
          "output_type": "execute_result",
          "data": {
            "text/plain": [
              "True"
            ]
          },
          "metadata": {},
          "execution_count": 36
        }
      ],
      "source": [
        "cnf_arithmetic_grammar.is_chomsky_normal_form()"
      ]
    },
    {
      "cell_type": "markdown",
      "id": "5816d81f",
      "metadata": {
        "deletable": false,
        "editable": false,
        "id": "5816d81f"
      },
      "source": [
        "<!-- BEGIN QUESTION -->\n",
        "\n",
        "# Lab debrief\n",
        "\n",
        "**Question:** We're interested in any thoughts you have about this lab so that we can improve this lab for later years, and to inform later labs for this year. Please list any issues that arose or comments you have to improve the lab. Useful things to comment on include the following, but you're not restricted to these:\n",
        "\n",
        "* What *specific single* change to the lab would have made your learning more efficient? This might be an addition of a concept that was not explained, or an example that would clarify a concept, or a problem that would have captured a concept in a better way, or anything else you can think of that would have made this a better lab.\n",
        "* Was the lab too long or too short?\n",
        "* Were the readings appropriate for the lab?\n",
        "* Was it clear (at least after you completed the lab) what the points of the exercises were?\n",
        "* Are there general additions or changes you think would make the lab better?\n",
        "\n",
        "<!--\n",
        "BEGIN QUESTION\n",
        "name: open_response_debrief\n",
        "manual: true\n",
        "-->"
      ]
    },
    {
      "cell_type": "markdown",
      "id": "25468e93",
      "metadata": {
        "id": "25468e93"
      },
      "source": [
        "_Type your answer here, replacing this text._"
      ]
    },
    {
      "cell_type": "markdown",
      "id": "80f460fa",
      "metadata": {
        "id": "80f460fa"
      },
      "source": [
        "<!-- END QUESTION -->\n",
        "\n",
        "\n",
        "\n",
        "# End of lab 3-1 {-}"
      ]
    },
    {
      "cell_type": "markdown",
      "id": "3687f5b7",
      "metadata": {
        "id": "3687f5b7"
      },
      "source": []
    },
    {
      "cell_type": "markdown",
      "id": "3dc93cd3",
      "metadata": {
        "deletable": false,
        "editable": false,
        "id": "3dc93cd3"
      },
      "source": [
        "---\n",
        "\n",
        "To double-check your work, the cell below will rerun all of the autograder tests."
      ]
    },
    {
      "cell_type": "code",
      "execution_count": 37,
      "id": "819f754d",
      "metadata": {
        "deletable": false,
        "editable": false,
        "id": "819f754d",
        "colab": {
          "base_uri": "https://localhost:8080/",
          "height": 443
        },
        "outputId": "cd654ab6-a96e-45d7-a582-772dcbad5158"
      },
      "outputs": [
        {
          "output_type": "execute_result",
          "data": {
            "text/plain": [
              "arithmetic_grammar:\n",
              "\n",
              "    All tests passed!\n",
              "    \n",
              "\n",
              "cnf_conversion:\n",
              "\n",
              "    All tests passed!\n",
              "    \n",
              "\n",
              "expanded_arithmetic_grammar:\n",
              "\n",
              "    All tests passed!\n",
              "    \n",
              "\n",
              "expanded_arithmetic_trees:\n",
              "\n",
              "    All tests passed!\n",
              "    \n",
              "\n",
              "further_testing:\n",
              "\n",
              "    All tests passed!\n",
              "    \n",
              "\n",
              "metrics:\n",
              "\n",
              "    All tests passed!\n",
              "    \n",
              "\n",
              "parse_trees:\n",
              "\n",
              "    All tests passed!\n",
              "    \n",
              "\n",
              "parse_trees_valid:\n",
              "\n",
              "    All tests passed!\n",
              "    \n",
              "\n",
              "tradeoff:\n",
              "\n",
              "    All tests passed!\n",
              "    \n"
            ],
            "text/html": [
              "<p><strong>arithmetic_grammar:</strong></p>\n",
              "\n",
              "    \n",
              "    \n",
              "        <p>All tests passed!</p>\n",
              "    \n",
              "    \n",
              "\n",
              "<p><strong>cnf_conversion:</strong></p>\n",
              "\n",
              "    \n",
              "    \n",
              "        <p>All tests passed!</p>\n",
              "    \n",
              "    \n",
              "\n",
              "<p><strong>expanded_arithmetic_grammar:</strong></p>\n",
              "\n",
              "    \n",
              "    \n",
              "        <p>All tests passed!</p>\n",
              "    \n",
              "    \n",
              "\n",
              "<p><strong>expanded_arithmetic_trees:</strong></p>\n",
              "\n",
              "    \n",
              "    \n",
              "        <p>All tests passed!</p>\n",
              "    \n",
              "    \n",
              "\n",
              "<p><strong>further_testing:</strong></p>\n",
              "\n",
              "    \n",
              "    \n",
              "        <p>All tests passed!</p>\n",
              "    \n",
              "    \n",
              "\n",
              "<p><strong>metrics:</strong></p>\n",
              "\n",
              "    \n",
              "    \n",
              "        <p>All tests passed!</p>\n",
              "    \n",
              "    \n",
              "\n",
              "<p><strong>parse_trees:</strong></p>\n",
              "\n",
              "    \n",
              "    \n",
              "        <p>All tests passed!</p>\n",
              "    \n",
              "    \n",
              "\n",
              "<p><strong>parse_trees_valid:</strong></p>\n",
              "\n",
              "    \n",
              "    \n",
              "        <p>All tests passed!</p>\n",
              "    \n",
              "    \n",
              "\n",
              "<p><strong>tradeoff:</strong></p>\n",
              "\n",
              "    \n",
              "    \n",
              "        <p>All tests passed!</p>\n",
              "    \n",
              "    \n",
              "\n"
            ]
          },
          "metadata": {},
          "execution_count": 37
        }
      ],
      "source": [
        "grader.check_all()"
      ]
    }
  ],
  "metadata": {
    "colab": {
      "provenance": [],
      "toc_visible": true
    },
    "kernelspec": {
      "display_name": "Python 3 (ipykernel)",
      "language": "python",
      "name": "python3"
    },
    "language_info": {
      "codemirror_mode": {
        "name": "ipython",
        "version": 3
      },
      "file_extension": ".py",
      "mimetype": "text/x-python",
      "name": "python",
      "nbconvert_exporter": "python",
      "pygments_lexer": "ipython3",
      "version": "3.8.3"
    },
    "title": "CS187 Lab 3-1: Context-free grammars introduced"
  },
  "nbformat": 4,
  "nbformat_minor": 5
}