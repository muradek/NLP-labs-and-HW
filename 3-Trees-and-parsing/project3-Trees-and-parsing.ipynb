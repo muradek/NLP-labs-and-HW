{
  "cells": [
    {
      "cell_type": "code",
      "execution_count": 84,
      "id": "0696309c",
      "metadata": {
        "collapsed": true,
        "deletable": false,
        "editable": false,
        "jupyter": {
          "outputs_hidden": true,
          "source_hidden": true
        },
        "colab": {
          "base_uri": "https://localhost:8080/"
        },
        "id": "0696309c",
        "outputId": "88d6b508-bc0a-4d14-9877-0c1d2be9f368"
      },
      "outputs": [
        {
          "output_type": "stream",
          "name": "stdout",
          "text": [
            "\n"
          ]
        }
      ],
      "source": [
        "# Please do not change this cell because some hidden tests might depend on it.\n",
        "import os\n",
        "\n",
        "# Otter grader does not handle ! commands well, so we define and use our\n",
        "# own function to execute shell commands.\n",
        "def shell(commands, warn=True):\n",
        "    \"\"\"Executes the string `commands` as a sequence of shell commands.\n",
        "\n",
        "       Prints the result to stdout and returns the exit status.\n",
        "       Provides a printed warning on non-zero exit status unless `warn`\n",
        "       flag is unset.\n",
        "    \"\"\"\n",
        "    file = os.popen(commands)\n",
        "    print (file.read().rstrip('\\n'))\n",
        "    exit_status = file.close()\n",
        "    if warn and exit_status != None:\n",
        "        print(f\"Completed with errors. Exit status: {exit_status}\\n\")\n",
        "    return exit_status\n",
        "\n",
        "shell(\"\"\"\n",
        "ls requirements.txt >/dev/null 2>&1\n",
        "if [ ! $? = 0 ]; then\n",
        " rm -rf .tmp\n",
        " git clone https://github.com/cs236299-2024-winter/project3.git .tmp\n",
        " mv .tmp/requirements.txt ./\n",
        " rm -rf .tmp\n",
        "fi\n",
        "pip install -q -r requirements.txt\n",
        "\"\"\")"
      ]
    },
    {
      "cell_type": "code",
      "execution_count": 85,
      "id": "277685c3",
      "metadata": {
        "deletable": false,
        "editable": false,
        "id": "277685c3"
      },
      "outputs": [],
      "source": [
        "# Initialize Otter\n",
        "import otter\n",
        "grader = otter.Notebook()"
      ]
    },
    {
      "cell_type": "raw",
      "id": "e6f9b611",
      "metadata": {
        "id": "e6f9b611",
        "jupyter": {
          "source_hidden": true
        }
      },
      "source": [
        "%%latex\n",
        "\\newcommand{\\vect}[1]{\\mathbf{#1}}\n",
        "\\newcommand{\\cnt}[1]{\\sharp(#1)}\n",
        "\\newcommand{\\argmax}[1]{\\underset{#1}{\\operatorname{argmax}}}\n",
        "\\newcommand{\\softmax}{\\operatorname{softmax}}\n",
        "\\newcommand{\\Prob}{\\Pr}\n",
        "\\newcommand{\\given}{\\,|\\,}"
      ]
    },
    {
      "cell_type": "markdown",
      "id": "1ff6ff04",
      "metadata": {
        "id": "1ff6ff04",
        "jupyter": {
          "source_hidden": true
        }
      },
      "source": [
        "$$\n",
        "\\renewcommand{\\vect}[1]{\\mathbf{#1}}\n",
        "\\renewcommand{\\cnt}[1]{\\sharp(#1)}\n",
        "\\renewcommand{\\argmax}[1]{\\underset{#1}{\\operatorname{argmax}}}\n",
        "\\renewcommand{\\softmax}{\\operatorname{softmax}}\n",
        "\\renewcommand{\\Prob}{\\Pr}\n",
        "\\renewcommand{\\given}{\\,|\\,}\n",
        "$$"
      ]
    },
    {
      "cell_type": "markdown",
      "id": "f8e4dfb1",
      "metadata": {
        "id": "f8e4dfb1",
        "tags": [
          "remove_for_latex"
        ]
      },
      "source": [
        "# Course 236299\n",
        "## Project 3: Parsing – The CKY Algorithm"
      ]
    },
    {
      "cell_type": "markdown",
      "id": "7bb85ea5",
      "metadata": {
        "id": "7bb85ea5"
      },
      "source": [
        "Constituency parsing is the recovery of a labeled hierarchical structure, a _parse tree_ for a sentence of a natural language. It is a core intermediary task in natural-language processing, as the meanings of sentences are related to their structure.\n",
        "\n",
        "In this project, you will implement the CKY algorithm for parsing strings relative to context-free grammars (CFG). You will implement versions for both non-probabilistic context-free grammars (CFG) and probabilistic grammars (PCFG) and apply them to the parsing of ATIS queries.\n",
        "\n",
        "The project is structured into five parts:\n",
        "\n",
        "1. Finish a CFG for the ATIS dataset.\n",
        "2. Implement the CKY algorithm for _recognizing_ grammatical sentences, that is, determining whether a parse exists for a given sentence.\n",
        "3. Extend the CKY algorithm for _parsing_ sentences, that is, constructing the parse trees for a given sentence.\n",
        "4. Construct a probabilistic context-free grammar (PCFG) based on a CFG.\n",
        "5. Extend the CKY algorithm to PCFGs, allowing the construction of the most probable parse tree for a sentence according to a PCFG.\n",
        "\n",
        "# Setup"
      ]
    },
    {
      "cell_type": "code",
      "execution_count": 86,
      "id": "7fd59dd2",
      "metadata": {
        "id": "7fd59dd2",
        "colab": {
          "base_uri": "https://localhost:8080/"
        },
        "outputId": "d246ca7c-6f28-47df-de21-e49848ffed22"
      },
      "outputs": [
        {
          "output_type": "stream",
          "name": "stdout",
          "text": [
            "Skipping train.nl\n",
            "Skipping train.trees\n",
            "Skipping test.trees\n",
            "Skipping evalb.py\n",
            "Skipping transform.py\n",
            "Skipping tree.py\n"
          ]
        }
      ],
      "source": [
        "import wget\n",
        "\n",
        "# Prepare to download needed data\n",
        "def download_if_needed(source, dest, filename):\n",
        "    os.makedirs(dest, exist_ok=True)  # ensure destination\n",
        "    if os.path.exists(f\"./{dest}{filename}\"):\n",
        "        print(f\"Skipping {filename}\")\n",
        "    else:\n",
        "        print(f\"Downloading {filename} from {source}\")\n",
        "        wget.download(source + filename, out=dest)\n",
        "        print(\"\", flush=True)\n",
        "\n",
        "\n",
        "source_path = \"https://raw.githubusercontent.com/\" \\\n",
        "              \"nlp-course/data/master/ATIS/\"\n",
        "code_path = \"https://raw.githubusercontent.com/\" \\\n",
        "            \"nlp-course/data/master/scripts/trees/\"\n",
        "data_path = \"data/\"\n",
        "\n",
        "# Download files\n",
        "for filename in [\n",
        "                 \"train.nl\",     # training ATIS queries\n",
        "                 \"train.trees\",  # training trees\n",
        "                 \"test.trees\"    # test trees\n",
        "                ]:\n",
        "    download_if_needed(source_path, data_path, filename)\n",
        "for filename in [\n",
        "                 \"evalb.py\",     # evaluation code\n",
        "                 \"transform.py\", # tree transformations\n",
        "                 \"tree.py\"       # tree manipulation\n",
        "                ]:\n",
        "    download_if_needed(code_path, data_path, filename)"
      ]
    },
    {
      "cell_type": "code",
      "execution_count": 87,
      "id": "590924b5",
      "metadata": {
        "id": "590924b5"
      },
      "outputs": [],
      "source": [
        "import shutil\n",
        "import nltk\n",
        "import sys\n",
        "\n",
        "from collections import defaultdict, Counter\n",
        "\n",
        "from math import inf\n",
        "\n",
        "from nltk import treetransforms\n",
        "from nltk.grammar import ProbabilisticProduction, PCFG, Nonterminal\n",
        "from nltk.tree import Tree\n",
        "from tqdm import tqdm\n",
        "\n",
        "# Import functions for transforming augmented grammars\n",
        "sys.path.insert(1, './data')\n",
        "import transform as xform"
      ]
    },
    {
      "cell_type": "code",
      "execution_count": 88,
      "id": "072c817a",
      "metadata": {
        "id": "072c817a"
      },
      "outputs": [],
      "source": [
        "## Debug flag used below for turning on and off some useful tracing\n",
        "DEBUG = False"
      ]
    },
    {
      "cell_type": "markdown",
      "id": "c33948f6",
      "metadata": {
        "id": "c33948f6"
      },
      "source": [
        "# A custom ATIS grammar"
      ]
    },
    {
      "cell_type": "markdown",
      "id": "b0c43742",
      "metadata": {
        "id": "b0c43742"
      },
      "source": [
        "To parse, we need a grammar. In this project, you will use a hand-crafted grammar for a fragment of the ATIS dataset. The grammar is written in a \"semantic grammar\" style, in which the nonterminals tend to correspond to semantic classes of phrases, rather than syntactic classes. By using this style, we can more closely tune the grammar to the application, though we lose generality and transferability to other applications. The grammar will be used again in the next project segment for a question-answering application.\n",
        "\n",
        "We download the grammar to make it available."
      ]
    },
    {
      "cell_type": "code",
      "execution_count": 89,
      "id": "eee6166b",
      "metadata": {
        "id": "eee6166b",
        "colab": {
          "base_uri": "https://localhost:8080/"
        },
        "outputId": "87a9dc7f-bbde-4e89-8fcb-c4a4624cd27f"
      },
      "outputs": [
        {
          "output_type": "stream",
          "name": "stdout",
          "text": [
            "Skipping grammar_distrib3\n"
          ]
        }
      ],
      "source": [
        "source_path = \"https://raw.githubusercontent.com/\" \\\n",
        "              \"nlp-course/data/master/ATIS/\"\n",
        "data_path = \"data/\"\n",
        "\n",
        "download_if_needed(\"https://raw.githubusercontent.com/nlp-course/data/master/ATIS/\",\n",
        "                   data_path, \"grammar_distrib3\")\n",
        "\n",
        "# We assume the grammar that you are developing is in a file named `grammar` in the\n",
        "# `data` directory. If not, we install a copy of the distribution grammar there for\n",
        "# you to work on.\n",
        "\n",
        "if os.path.exists('./data/grammar_distrib3') and (not os.path.exists('./data/grammar')):\n",
        "  shutil.copy('./data/grammar_distrib3', './data/grammar')"
      ]
    },
    {
      "cell_type": "markdown",
      "id": "5b57925a",
      "metadata": {
        "id": "5b57925a"
      },
      "source": [
        "Take a look at the file `data/grammar_distrib3` that you've just downloaded. The grammar is written in a format that extends the NLTK format expected by `CFG.fromstring`. We've provided functions to make use of this format in the file `scripts/transform.py`. You should familiarize yourself with this format by checking out the documentation in that file.\n",
        "\n",
        "> We made a copy of this grammar for you as `data/grammar`. This is the file you'll be modifying in the next section. You can leave it alone for now.\n",
        "\n",
        "As described there, we can read the grammar in and convert it into NLTK's grammar format using the provided `xform.read_augmented_grammar` function."
      ]
    },
    {
      "cell_type": "code",
      "execution_count": 90,
      "id": "b0e9d36f",
      "metadata": {
        "id": "b0e9d36f"
      },
      "outputs": [],
      "source": [
        "atis_grammar_distrib, _ = xform.read_augmented_grammar(\"grammar_distrib3\", path=\"data\")"
      ]
    },
    {
      "cell_type": "markdown",
      "id": "b7c4008a",
      "metadata": {
        "id": "b7c4008a"
      },
      "source": [
        "To verify that the ATIS grammar that we distributed is working, we can parse a sentence using a built-in NLTK parser. We'll use a tokenizer built with NLTK's tokenizing apparatus."
      ]
    },
    {
      "cell_type": "code",
      "execution_count": 91,
      "id": "808c305c",
      "metadata": {
        "id": "808c305c",
        "colab": {
          "base_uri": "https://localhost:8080/"
        },
        "outputId": "fd9ba4d8-4161-4d5c-e7ee-f9dffb4b8935"
      },
      "outputs": [
        {
          "output_type": "stream",
          "name": "stdout",
          "text": [
            "['are', 'there', 'any', 'first-class', 'flights', 'at', '11', 'pm', 'for', 'less', 'than', '$3.50', '?']\n"
          ]
        }
      ],
      "source": [
        "## Tokenizer\n",
        "tokenizer = nltk.tokenize.RegexpTokenizer(\"\\d+|[\\w-]+|\\$[\\d\\.]+|\\S+\")\n",
        "\n",
        "def tokenize(string):\n",
        "    return tokenizer.tokenize(string.lower())\n",
        "\n",
        "## Demonstrating the tokenizer\n",
        "## Note especially the handling of `\"11pm\"` and hyphenated words.\n",
        "print(tokenize(\"Are there any first-class flights at 11pm for less than $3.50?\"))"
      ]
    },
    {
      "cell_type": "code",
      "execution_count": 92,
      "id": "c8f89f01",
      "metadata": {
        "id": "c8f89f01",
        "colab": {
          "base_uri": "https://localhost:8080/"
        },
        "outputId": "b43af0b2-1430-463c-9eae-fabc9fa97ea9"
      },
      "outputs": [
        {
          "output_type": "stream",
          "name": "stdout",
          "text": [
            "                                                 S                                                \n",
            "                        _________________________|________________________                         \n",
            "                       |                                              NP_FLIGHT                   \n",
            "                       |                                                  |                        \n",
            "                       |                                              NOM_FLIGHT                  \n",
            "                       |                                                  |                        \n",
            "                       |                                               N_FLIGHT                   \n",
            "                       |                                        __________|_________               \n",
            "                   PREIGNORE                                   |                    PP            \n",
            "        _______________|____________                           |                    |              \n",
            "       |                        PREIGNORE                      |                 PP_TIME          \n",
            "       |                ____________|____________              |           _________|________      \n",
            "       |               |                     PREIGNORE      N_FLIGHT      |               NP_TIME \n",
            "       |               |                         |             |          |                  |     \n",
            "PREIGNORESYMBOL PREIGNORESYMBOL           PREIGNORESYMBOL TERM_FLIGHT   P_TIME           TERM_TIME\n",
            "       |               |                         |             |          |                  |     \n",
            "      show             me                       the         flights     before              noon  \n",
            "\n",
            "                                           S                                                    \n",
            "                     ______________________|__________________                                   \n",
            "                    |                                     NP_FLIGHT                             \n",
            "                    |                       __________________|_________                         \n",
            "                    |                      |                        NOM_FLIGHT                  \n",
            "                    |                      |                            |                        \n",
            "                    |                      |                         N_FLIGHT                   \n",
            "                    |                      |        ____________________|_________               \n",
            "                    |                      |       |                              PP            \n",
            "                    |                      |       |                              |              \n",
            "                PREIGNORE                  |       |                           PP_TIME          \n",
            "        ____________|____________          |       |                     _________|________      \n",
            "       |                     PREIGNORE     |    N_FLIGHT                |               NP_TIME \n",
            "       |                         |         |       |                    |                  |     \n",
            "PREIGNORESYMBOL           PREIGNORESYMBOL DET TERM_FLIGHT             P_TIME           TERM_TIME\n",
            "       |                         |         |       |                    |                  |     \n",
            "      show                       me       the   flights               before              noon  \n",
            "\n"
          ]
        }
      ],
      "source": [
        "## Test sentence\n",
        "test_sentence_1 = tokenize(\"show me the flights before noon\")\n",
        "\n",
        "## Construct parser from distribution grammar\n",
        "atis_parser_distrib = nltk.parse.BottomUpChartParser(atis_grammar_distrib)\n",
        "\n",
        "## Parse and print the parses\n",
        "parses = atis_parser_distrib.parse(test_sentence_1)\n",
        "for parse in parses:\n",
        "    parse.pretty_print()"
      ]
    },
    {
      "cell_type": "markdown",
      "id": "3a37e56c",
      "metadata": {
        "id": "3a37e56c"
      },
      "source": [
        "## Testing the coverage of the grammar\n",
        "\n",
        "We can get a sense of how well the grammar covers the ATIS query language by measuring the proportion of queries in the training set that are parsable by the grammar. We define a `coverage` function to carry out this evaluation.\n",
        "\n",
        "> Warning: It may take a long time to parse all of the sentence in the training corpus, on the order of 30 minutes. You may want to start with just the first few sentences in the corpus. The `coverage` function below makes it easy to do so, and in the code below we just test coverage on the first 50 sentences."
      ]
    },
    {
      "cell_type": "code",
      "execution_count": 93,
      "id": "4acb6737",
      "metadata": {
        "id": "4acb6737"
      },
      "outputs": [],
      "source": [
        "## Read in the training corpus\n",
        "with open(\"data/train.nl\") as file:\n",
        "    training_corpus = [tokenize(line) for line in file]"
      ]
    },
    {
      "cell_type": "code",
      "execution_count": 94,
      "id": "1b9e0754",
      "metadata": {
        "id": "1b9e0754"
      },
      "outputs": [],
      "source": [
        "def coverage(recognizer, corpus, n=0):\n",
        "    \"\"\"Returns the proportion of the first `n` sentences in the `corpus`\n",
        "    that are recognized by the `recognizer`, which should return a boolean.\n",
        "    `n` is taken to be the whole corpus if n is not provided or is\n",
        "    non-positive.\n",
        "    \"\"\"\n",
        "    n = len(corpus) if n <= 0 else n\n",
        "    parsed = 0\n",
        "    total = 0\n",
        "    for sent in tqdm(corpus[:n]):\n",
        "        total += 1\n",
        "        try:\n",
        "            parses = recognizer(sent)\n",
        "        except:\n",
        "            parses = None\n",
        "        if parses:\n",
        "            parsed += 1\n",
        "        elif DEBUG:\n",
        "            print(f\"failed: {sent}\")\n",
        "    if DEBUG:\n",
        "        print(f\"{parsed} of {total}\")\n",
        "    return parsed / total"
      ]
    },
    {
      "cell_type": "code",
      "execution_count": 95,
      "id": "843fc044",
      "metadata": {
        "id": "843fc044"
      },
      "outputs": [],
      "source": [
        "def recognizer_from(parser):\n",
        "    \"\"\"Returns a recognizer for the language defined by `parser`.\"\"\"\n",
        "\n",
        "    def recognizer(sent):\n",
        "        return 0 < len(list(parser(sent)))\n",
        "\n",
        "    return recognizer"
      ]
    },
    {
      "cell_type": "code",
      "execution_count": 96,
      "id": "109bdff1",
      "metadata": {
        "id": "109bdff1",
        "colab": {
          "base_uri": "https://localhost:8080/"
        },
        "outputId": "b12e884d-9220-4df6-f67b-ee7dcc59fc84"
      },
      "outputs": [
        {
          "output_type": "stream",
          "name": "stderr",
          "text": [
            "100%|██████████| 50/50 [00:00<00:00, 159.67it/s]\n"
          ]
        },
        {
          "output_type": "execute_result",
          "data": {
            "text/plain": [
              "0.0"
            ]
          },
          "metadata": {},
          "execution_count": 96
        }
      ],
      "source": [
        "coverage(recognizer_from(atis_parser_distrib.parse),\n",
        "         training_corpus, n=50)"
      ]
    },
    {
      "cell_type": "markdown",
      "id": "2c13f09a",
      "metadata": {
        "id": "2c13f09a"
      },
      "source": [
        "Sadly, you'll find that the coverage of the grammar is extraordinarily poor. That's because it is missing crucial parts of the grammar, especially phrases about _places_, which play a role in essentially every ATIS query. You'll need to complete the grammar before it can be useful."
      ]
    },
    {
      "cell_type": "markdown",
      "id": "f2a04bf1",
      "metadata": {
        "id": "f2a04bf1"
      },
      "source": [
        "## Part 1: Finish the CFG for the ATIS dataset\n",
        "\n",
        "Consider the following query:"
      ]
    },
    {
      "cell_type": "code",
      "execution_count": 97,
      "id": "4d44bc21",
      "metadata": {
        "id": "4d44bc21"
      },
      "outputs": [],
      "source": [
        "test_sentence_2 = tokenize(\"show me the united flights from boston\")"
      ]
    },
    {
      "cell_type": "markdown",
      "id": "e1dc921b",
      "metadata": {
        "id": "e1dc921b"
      },
      "source": [
        "You'll notice that the grammar we distributed doesn't handle this query because it doesn't have a subgrammar for airline information (`\"united\"`) or for places (`\"from boston\"`)."
      ]
    },
    {
      "cell_type": "code",
      "execution_count": 98,
      "id": "28384768",
      "metadata": {
        "id": "28384768",
        "colab": {
          "base_uri": "https://localhost:8080/"
        },
        "outputId": "c63c42ea-9d36-47e6-815d-0c28dcddbca6"
      },
      "outputs": [
        {
          "output_type": "execute_result",
          "data": {
            "text/plain": [
              "0"
            ]
          },
          "metadata": {},
          "execution_count": 98
        }
      ],
      "source": [
        "len(list(atis_parser_distrib.parse(test_sentence_2)))"
      ]
    },
    {
      "cell_type": "markdown",
      "id": "f3bf188a",
      "metadata": {
        "id": "f3bf188a"
      },
      "source": [
        "Follow the instructions in the grammar file `data/grammar` to add further coverage to the grammar. (You can and should leave the `data/grammar_distrib3` copy alone and use it for reference.)\n",
        "\n",
        "We'll define a parser based on your modified grammar, so we can compare it against the distributed grammar. Once you've modified the grammar, this test sentence should have at least one parse.\n",
        "\n",
        "> **Hint:** You can search for \"TODO\" in `data/grammar` to find the two places to add grammar rules."
      ]
    },
    {
      "cell_type": "code",
      "execution_count": 99,
      "id": "a3f83b67",
      "metadata": {
        "id": "a3f83b67",
        "colab": {
          "base_uri": "https://localhost:8080/"
        },
        "outputId": "415912a0-af9a-4b2c-9205-86e0d195baa0"
      },
      "outputs": [
        {
          "output_type": "stream",
          "name": "stdout",
          "text": [
            "                                                                S                                                            \n",
            "                        ________________________________________|_______________________                                      \n",
            "                       |                                                            NP_FLIGHT                                \n",
            "                       |                                                                |                                     \n",
            "                       |                                                            NOM_FLIGHT                               \n",
            "                       |                                         _______________________|__________                           \n",
            "                       |                                        |                              NOM_FLIGHT                    \n",
            "                       |                                        |                                  |                          \n",
            "                       |                                        |                               N_FLIGHT                     \n",
            "                       |                                        |             _____________________|_________                 \n",
            "                       |                                        |            |                               PP              \n",
            "                       |                                        |            |                               |                \n",
            "                   PREIGNORE                                    |            |                            PP_PLACE           \n",
            "        _______________|____________                            |            |                      _________|_________       \n",
            "       |                        PREIGNORE                      ADJ           |                     |                NP_PLACE \n",
            "       |                ____________|____________               |            |                     |                   |      \n",
            "       |               |                     PREIGNORE     ADJ_AIRLINE    N_FLIGHT                 |               ADJ_PLACE \n",
            "       |               |                         |              |            |                     |                   |      \n",
            "PREIGNORESYMBOL PREIGNORESYMBOL           PREIGNORESYMBOL TERM_AIRBRAND TERM_FLIGHT             P_PLACE            TERM_PLACE\n",
            "       |               |                         |              |            |                     |                   |      \n",
            "      show             me                       the           united      flights                 from               boston  \n",
            "\n",
            "                                                    S                                                            \n",
            "                     _______________________________|____________                                                 \n",
            "                    |                                        NP_FLIGHT                                           \n",
            "                    |                       _____________________|__________                                      \n",
            "                    |                      |                            NOM_FLIGHT                               \n",
            "                    |                      |         _______________________|__________                           \n",
            "                    |                      |        |                              NOM_FLIGHT                    \n",
            "                    |                      |        |                                  |                          \n",
            "                    |                      |        |                               N_FLIGHT                     \n",
            "                    |                      |        |             _____________________|_________                 \n",
            "                    |                      |        |            |                               PP              \n",
            "                    |                      |        |            |                               |                \n",
            "                    |                      |        |            |                            PP_PLACE           \n",
            "                    |                      |        |            |                      _________|_________       \n",
            "                PREIGNORE                  |       ADJ           |                     |                NP_PLACE \n",
            "        ____________|____________          |        |            |                     |                   |      \n",
            "       |                     PREIGNORE     |   ADJ_AIRLINE    N_FLIGHT                 |               ADJ_PLACE \n",
            "       |                         |         |        |            |                     |                   |      \n",
            "PREIGNORESYMBOL           PREIGNORESYMBOL DET TERM_AIRBRAND TERM_FLIGHT             P_PLACE            TERM_PLACE\n",
            "       |                         |         |        |            |                     |                   |      \n",
            "      show                       me       the     united      flights                 from               boston  \n",
            "\n"
          ]
        }
      ],
      "source": [
        "atis_grammar_expanded, _ = xform.read_augmented_grammar(\"grammar\", path=\"data\")\n",
        "atis_parser_expanded = nltk.parse.BottomUpChartParser(atis_grammar_expanded)\n",
        "\n",
        "parses = [p for p in atis_parser_expanded.parse(test_sentence_2)]\n",
        "for parse in parses:\n",
        "  parse.pretty_print()"
      ]
    },
    {
      "cell_type": "code",
      "execution_count": 100,
      "id": "4f1449a2",
      "metadata": {
        "id": "4f1449a2",
        "colab": {
          "base_uri": "https://localhost:8080/"
        },
        "outputId": "e3980933-41d5-48b0-e7b3-6a62d92a08eb"
      },
      "outputs": [
        {
          "output_type": "stream",
          "name": "stdout",
          "text": [
            "                                                                                                                 S                                                                                                                        \n",
            "                        _________________________________________________________________________________________|__________                                                                                                               \n",
            "                       |                                                                                                NP_FLIGHT                                                                                                         \n",
            "                       |                                                                                                    |                                                                                                              \n",
            "                       |                                                                                                NOM_FLIGHT                                                                                                        \n",
            "                       |                                            ________________________________________________________|___________________                                                                                           \n",
            "                       |                                           |                                                                        NOM_FLIGHT                                                                                    \n",
            "                       |                                           |                           _________________________________________________|__________                                                                                \n",
            "                       |                                           |                          |                                                        NOM_FLIGHT                                                                         \n",
            "                       |                                           |                          |                                                            |                                                                               \n",
            "                       |                                           |                          |                                                         N_FLIGHT                                                                          \n",
            "                       |                                           |                          |                                                  __________|__________________________________________                                     \n",
            "                       |                                           |                          |                                              N_FLIGHT                                                 |                                   \n",
            "                       |                                           |                          |                              ___________________|____________________                                 |                                    \n",
            "                       |                                           |                          |                          N_FLIGHT                                    |                                |                                   \n",
            "                       |                                           |                          |                   __________|_________                               |                                |                                    \n",
            "                       |                                           |                          |                  |                    PP                             PP                               PP                                  \n",
            "                       |                                           |                          |                  |                    |                              |                                |                                    \n",
            "                   PREIGNORE                                       |                          |                  |                 PP_PLACE                       PP_PLACE                        PP_AIRLINE                              \n",
            "        _______________|____________                               |                          |                  |           _________|_________            _________|_________            ___________|____________                        \n",
            "       |                        PREIGNORE                          |                         ADJ                 |          |                NP_PLACE      |                NP_PLACE      |                    NP_AIRLINE                 \n",
            "       |                ____________|____________                  |                          |                  |          |                   |          |                   |          |                        |                       \n",
            "       |               |                     PREIGNORE            ADJ                   ADJ_FLIGHTTYPE        N_FLIGHT      |               ADJ_PLACE      |               ADJ_PLACE      |                   ADJ_AIRLINE                 \n",
            "       |               |                         |                 |                          |                  |          |                   |          |                   |          |            ____________|_____________          \n",
            "PREIGNORESYMBOL PREIGNORESYMBOL           PREIGNORESYMBOL      ADJ_PRICE               ADJ_FLIGHTTYPESI     TERM_FLIGHT  P_PLACE            TERM_PLACE  P_PLACE            TERM_PLACE P_AIRLINE TERM_AIRBRAND             TERM_AIRBRANDTYP\n",
            "       |               |                         |                 |                         MPLE                |          |                   |          |                   |          |           |                          E        \n",
            "       |               |                         |          _______|_________        _________|__________        |          |                   |          |                   |          |           |                          |         \n",
            "      what             is                       the       most           expensive one                  way    flight      from               boston       to               atlanta       on       american                   airlines    \n",
            "\n",
            "                                           S                                                                                                                                                                                        \n",
            "                     ______________________|_______________________________                                                                                                                                                          \n",
            "                    |                                                  NP_FLIGHT                                                                                                                                                    \n",
            "                    |                       _______________________________|__________________________________________                                                                                                               \n",
            "                    |                      |                                                                      NOM_FLIGHT                                                                                                        \n",
            "                    |                      |            ______________________________________________________________|___________________                                                                                           \n",
            "                    |                      |           |                                                                              NOM_FLIGHT                                                                                    \n",
            "                    |                      |           |                                 _________________________________________________|__________                                                                                \n",
            "                    |                      |           |                                |                                                        NOM_FLIGHT                                                                         \n",
            "                    |                      |           |                                |                                                            |                                                                               \n",
            "                    |                      |           |                                |                                                         N_FLIGHT                                                                          \n",
            "                    |                      |           |                                |                                                  __________|__________________________________________                                     \n",
            "                    |                      |           |                                |                                              N_FLIGHT                                                 |                                   \n",
            "                    |                      |           |                                |                              ___________________|____________________                                 |                                    \n",
            "                    |                      |           |                                |                          N_FLIGHT                                    |                                |                                   \n",
            "                    |                      |           |                                |                   __________|_________                               |                                |                                    \n",
            "                    |                      |           |                                |                  |                    PP                             PP                               PP                                  \n",
            "                    |                      |           |                                |                  |                    |                              |                                |                                    \n",
            "                    |                      |           |                                |                  |                 PP_PLACE                       PP_PLACE                        PP_AIRLINE                              \n",
            "                    |                      |           |                                |                  |           _________|_________            _________|_________            ___________|____________                        \n",
            "                PREIGNORE                  |           |                               ADJ                 |          |                NP_PLACE      |                NP_PLACE      |                    NP_AIRLINE                 \n",
            "        ____________|____________          |           |                                |                  |          |                   |          |                   |          |                        |                       \n",
            "       |                     PREIGNORE     |          ADJ                         ADJ_FLIGHTTYPE        N_FLIGHT      |               ADJ_PLACE      |               ADJ_PLACE      |                   ADJ_AIRLINE                 \n",
            "       |                         |         |           |                                |                  |          |                   |          |                   |          |            ____________|_____________          \n",
            "PREIGNORESYMBOL           PREIGNORESYMBOL DET      ADJ_PRICE                     ADJ_FLIGHTTYPESI     TERM_FLIGHT  P_PLACE            TERM_PLACE  P_PLACE            TERM_PLACE P_AIRLINE TERM_AIRBRAND             TERM_AIRBRANDTYP\n",
            "       |                         |         |           |                               MPLE                |          |                   |          |                   |          |           |                          E        \n",
            "       |                         |         |    _______|_________           ____________|__________        |          |                   |          |                   |          |           |                          |         \n",
            "      what                       is       the most           expensive    one                     way    flight      from               boston       to               atlanta       on       american                   airlines    \n",
            "\n"
          ]
        }
      ],
      "source": [
        "test_sentence_3 = tokenize(\"what is the most expensive one way flight from boston to atlanta on american airlines\")\n",
        "parses = [p for p in atis_parser_expanded.parse(test_sentence_3)]\n",
        "for parse in parses:\n",
        "  parse.pretty_print()\n"
      ]
    },
    {
      "cell_type": "markdown",
      "id": "85a9a3cb",
      "metadata": {
        "id": "85a9a3cb"
      },
      "source": [
        "Once you're done adding to the grammar, to check your grammar, we'll compute the grammar's coverage of the ATIS training corpus as before.\n",
        "**This grammar should be expected to cover about half of the sentences in the first 50 sentences, and a third of the entire training corpus.**"
      ]
    },
    {
      "cell_type": "code",
      "execution_count": 101,
      "id": "8675a2b2",
      "metadata": {
        "id": "8675a2b2",
        "colab": {
          "base_uri": "https://localhost:8080/"
        },
        "outputId": "b6358257-2708-42c4-e8a7-dfdd2e543a62"
      },
      "outputs": [
        {
          "output_type": "stream",
          "name": "stderr",
          "text": [
            "100%|██████████| 50/50 [00:00<00:00, 215.09it/s]\n"
          ]
        },
        {
          "output_type": "execute_result",
          "data": {
            "text/plain": [
              "0.48"
            ]
          },
          "metadata": {},
          "execution_count": 101
        }
      ],
      "source": [
        "coverage(recognizer_from(atis_parser_expanded.parse),\n",
        "         training_corpus, n=50)"
      ]
    },
    {
      "cell_type": "markdown",
      "id": "2a64f647",
      "metadata": {
        "id": "2a64f647"
      },
      "source": [
        "# CFG recognition via the CKY algorithm\n",
        "\n",
        "Now we turn to implementing recognizers and parsers using the CKY algorithm. We start with a recognizer, which should return `True` or `False` if a grammar does or does not admit a sentence as grammatical.\n",
        "\n",
        "## Converting the grammar to CNF for use by the CKY algorithm\n",
        "\n",
        "The CKY algorithm requires the grammar to be in Chomsky normal form (CNF). That is, only rules of the forms\n",
        "\\begin{align*}\n",
        "A &\\rightarrow B\\, C\\\\\n",
        "A &\\rightarrow a\n",
        "\\end{align*}\n",
        "are allowed, where $A$, $B$, $C$ are nonterminals and $a$ is a terminal symbol.\n",
        "\n",
        "However, in some downstream applications (such as the next project segment) we want to use grammar rules of more general forms, such as $A \\rightarrow B\\, C\\, D$. Indeed, the ATIS grammar you've been working on makes use of the additional expressivity beyond CNF.\n",
        "\n",
        "To satisfy both of these constraints, we will convert the grammar to CNF, parse using CKY, and then convert the returned parse trees back to the form of the original grammar. We provide some useful functions for performing these transformations in the file `scripts/transform.py`, already loaded above and imported as `xform`.\n",
        "\n",
        "To convert a grammar to CNF:\n",
        "\n",
        "`cnf_grammar, cnf_grammar_wunaries = xform.get_cnf_grammar(grammar)`\n",
        "\n",
        "To convert a tree output from CKY back to the original form of the grammar:\n",
        "\n",
        "`xform.un_cnf(tree, cnf_grammar_wunaries)`\n",
        "\n",
        "> We pass into `un_cnf` a version of the grammar before removing unary nonterminal productions, `cnf_grammar_wunaries`. The `cnf_grammar_wunaries` is returned as the second part of the returned value of `get_cnf_grammar` for just this purpose."
      ]
    },
    {
      "cell_type": "code",
      "execution_count": 102,
      "id": "33748811",
      "metadata": {
        "id": "33748811"
      },
      "outputs": [],
      "source": [
        "atis_grammar_cnf, atis_grammar_wunaries = xform.get_cnf_grammar(atis_grammar_expanded)\n",
        "assert(atis_grammar_cnf.is_chomsky_normal_form())"
      ]
    },
    {
      "cell_type": "markdown",
      "id": "b6339908",
      "metadata": {
        "id": "b6339908"
      },
      "source": [
        "In the next sections, you'll write your own recognizers and parsers based on the CKY algorithm that can operate on this grammar."
      ]
    },
    {
      "cell_type": "markdown",
      "id": "b36dcc4d",
      "metadata": {
        "id": "b36dcc4d"
      },
      "source": [
        "## Part 2: Implement a CKY recognizer\n",
        "\n",
        "Implement a _recognizer_ using the CKY algorithm to determine if a sentence `tokens` is parsable according to a `grammar`. The labs and J&M Chapter 13, both of which provide appropriate pseudo-code for CKY, should be useful references here.\n",
        "\n",
        "> **Hint:** Recall that you can get the production rules of a grammar using `grammar.productions()`.\n",
        "\n",
        "> Throughout this project segment, you should use `grammar.start()` to get the special start symbol from the grammar instead of using `S`, since some grammars may use a different start symbol, such as `TOP`."
      ]
    },
    {
      "cell_type": "code",
      "source": [
        "## TODO – Implement a CKY recognizer\n",
        "def cky_recognize(grammar, tokens):\n",
        "    \"\"\"Returns True if and only if the list of tokens `tokens` is admitted\n",
        "    by the `grammar`.\n",
        "\n",
        "    Implements the CKY algorithm, and therefore assumes `grammar` is in\n",
        "    Chomsky normal form.\n",
        "    \"\"\"\n",
        "    assert grammar.is_chomsky_normal_form()\n",
        "    N = len(tokens)\n",
        "\n",
        "    T = defaultdict(lambda: defaultdict(set))\n",
        "\n",
        "    for col in range(1, N + 1):\n",
        "        for production in grammar.productions():\n",
        "            if len(production.rhs()) == 1 and production.rhs()[0] == tokens[col - 1]:\n",
        "                T[col - 1][col].add(production.lhs())\n",
        "\n",
        "    for col in range(2, N + 1):\n",
        "        for row in range(col - 2, -1, -1):\n",
        "            for split in range(row + 1, col):\n",
        "                for production in grammar.productions():\n",
        "                    if len(production.rhs()) == 2:\n",
        "                        B, C = production.rhs()\n",
        "                        if B in T[row][split] and C in T[split][col]:\n",
        "                            T[row][col].add(production.lhs())\n",
        "\n",
        "    return grammar.start() in T[0][N]\n"
      ],
      "metadata": {
        "id": "zAOVqzm-Ghu2"
      },
      "id": "zAOVqzm-Ghu2",
      "execution_count": 103,
      "outputs": []
    },
    {
      "cell_type": "markdown",
      "id": "48cf9a31",
      "metadata": {
        "id": "48cf9a31"
      },
      "source": [
        "You can test your recognizer on a few examples, both grammatical and ungrammatical, as below."
      ]
    },
    {
      "cell_type": "code",
      "execution_count": 104,
      "id": "6aa1012e",
      "metadata": {
        "id": "6aa1012e",
        "colab": {
          "base_uri": "https://localhost:8080/"
        },
        "outputId": "68d40dce-f1bc-45e9-e0f8-2780849dd52f"
      },
      "outputs": [
        {
          "output_type": "stream",
          "name": "stdout",
          "text": [
            "+    flights from boston\n",
            "+    show me flights from boston\n",
            "+    show me united flights before noon\n",
            "+    are there any twa flights available tomorrow\n",
            "-    show me flights united are there any\n"
          ]
        }
      ],
      "source": [
        "test_sentences = [\"flights from boston\",\n",
        "                  \"show me flights from boston\",\n",
        "                  \"show me united flights before noon\",\n",
        "                  \"are there any twa flights available tomorrow\",\n",
        "                  \"show me flights united are there any\"]\n",
        "\n",
        "for sentence in test_sentences:\n",
        "  recognized = \"+\" if cky_recognize(atis_grammar_cnf, tokenize(sentence)) else \"-\"\n",
        "  print(f\"{recognized:5}{sentence}\")"
      ]
    },
    {
      "cell_type": "markdown",
      "id": "780f20e6",
      "metadata": {
        "id": "780f20e6"
      },
      "source": [
        "You can also verify that the CKY recognizer has the same coverage as the NLTK parser."
      ]
    },
    {
      "cell_type": "code",
      "execution_count": 70,
      "id": "3059af3b",
      "metadata": {
        "id": "3059af3b",
        "colab": {
          "base_uri": "https://localhost:8080/"
        },
        "outputId": "34d6ca22-caa0-4fa5-9a36-df3a5052247e"
      },
      "outputs": [
        {
          "output_type": "stream",
          "name": "stderr",
          "text": [
            "100%|██████████| 50/50 [00:24<00:00,  2.01it/s]\n"
          ]
        },
        {
          "output_type": "execute_result",
          "data": {
            "text/plain": [
              "0.48"
            ]
          },
          "metadata": {},
          "execution_count": 70
        }
      ],
      "source": [
        "coverage(lambda sent: cky_recognize(atis_grammar_cnf, sent),\n",
        "         training_corpus, n=50)"
      ]
    },
    {
      "cell_type": "markdown",
      "id": "15ab68c3",
      "metadata": {
        "id": "15ab68c3"
      },
      "source": [
        "## Part 3: Implement a CKY parser\n",
        "\n",
        "In part 2, you implemented a context-free grammar _recognizer_. Next, you'll implement a _parser_.\n",
        "\n",
        "Implement the CKY algorithm for parsing with CFGs as a function `cky_parse`, which takes a grammar and a list of tokens and returns a single parse of the tokens as specified by the grammar, or `None` if there are no parses. You should only need to add a few lines of code to your CKY recognizer to achieve this, to implement the necessary back-pointers. The function should return an NLTK tree, which you will need to reconstruct from the back pointers table.\n",
        "\n",
        "> **Hint:** You can build NLTK trees directly using [`Tree`](https://www.nltk.org/api/nltk.tree.tree.html), which takes a string for the root nonterminal and, recursively, a list of children.\n",
        ">\n",
        "> Alternatively, you can construct a tree using [`Tree.fromstring`](https://www.nltk.org/api/nltk.tree.tree.html). A tree string will look like this example:\n",
        ">\n",
        "> ```\n",
        "> \"(S (A B) (C (D E) (F G)))\"\n",
        "> ```\n",
        "> which corresponds to the following tree (drawn using `tree.pretty_print()`):\n",
        "> ```\n",
        ">       S         \n",
        ">    ___|___       \n",
        ">   |       C     \n",
        ">   |    ___|___   \n",
        ">   A   D       F\n",
        ">   |   |       |  \n",
        ">   B   E       G\n",
        ">  ```\n",
        "\n",
        "> **Hint:** You may need to extract from a `Nonterminal` its corresponding string. The `Nonterminal.__str__` method or f-string `f'{Nonterminal}'` accomplishes this."
      ]
    },
    {
      "cell_type": "code",
      "execution_count": 71,
      "id": "ad256497",
      "metadata": {
        "id": "ad256497"
      },
      "outputs": [],
      "source": [
        "## TODO -- Implement a CKY parser\n",
        "def cky_parse(grammar, tokens):\n",
        "    \"\"\"Returns an NLTK parse tree of the list of tokens `tokens` as\n",
        "    specified by the `grammar`. If there are multiple valid parses,\n",
        "    return any one of them.\n",
        "\n",
        "    Returns None if `tokens` is not parsable.\n",
        "    Implements the CKY algorithm, and therefore assumes `grammar` is in\n",
        "    Chomsky normal form.\n",
        "    \"\"\"\n",
        "    assert grammar.is_chomsky_normal_form()\n",
        "\n",
        "    N = len(tokens)\n",
        "\n",
        "    T = defaultdict(lambda: defaultdict(set))\n",
        "    back_pointers = defaultdict(lambda: defaultdict(list))\n",
        "\n",
        "    for col in range(1, N + 1):\n",
        "        for production in grammar.productions():\n",
        "            if len(production.rhs()) == 1 and production.rhs()[0] == tokens[col - 1]:\n",
        "                T[col - 1][col].add(production.lhs())\n",
        "                back_pointers[col - 1][col].append((production.lhs(), tokens[col - 1]))\n",
        "\n",
        "    for col in range(2, N + 1):\n",
        "        for row in range(col - 2, -1, -1):\n",
        "            for split in range(row + 1, col):\n",
        "                for production in grammar.productions():\n",
        "                    if len(production.rhs()) == 2:\n",
        "                        B, C = production.rhs()\n",
        "                        if B in T[row][split] and C in T[split][col]:\n",
        "                            T[row][col].add(production.lhs())\n",
        "                            back_pointers[row][col].append((production.lhs(), (split, B, C)))\n",
        "\n",
        "    if grammar.start() not in T[0][N]:\n",
        "        return None\n",
        "\n",
        "    def build_tree(i, j, symbol):\n",
        "        for lhs, rule in back_pointers[i][j]:\n",
        "            if lhs == symbol:\n",
        "                if isinstance(rule, str):\n",
        "                    return Tree(str(lhs), [rule])\n",
        "                split, B, C = rule\n",
        "                return Tree(str(lhs), [build_tree(i, split, B), build_tree(split, j, C)])\n",
        "\n",
        "    return build_tree(0, N, grammar.start())\n"
      ]
    },
    {
      "cell_type": "markdown",
      "id": "acbf83a4",
      "metadata": {
        "id": "acbf83a4"
      },
      "source": [
        "You can test your code on the test sentences provided above:"
      ]
    },
    {
      "cell_type": "code",
      "execution_count": 72,
      "id": "3d708363",
      "metadata": {
        "id": "3d708363",
        "colab": {
          "base_uri": "https://localhost:8080/"
        },
        "outputId": "d6342b12-e213-477f-9866-ce15d82281c2"
      },
      "outputs": [
        {
          "output_type": "stream",
          "name": "stdout",
          "text": [
            "                S                         \n",
            "                |                          \n",
            "            NP_FLIGHT                     \n",
            "                |                          \n",
            "            NOM_FLIGHT                    \n",
            "                |                          \n",
            "             N_FLIGHT                     \n",
            "      __________|_________                 \n",
            "     |                    PP              \n",
            "     |                    |                \n",
            "     |                 PP_PLACE           \n",
            "     |           _________|_________       \n",
            "     |          |                NP_PLACE \n",
            "     |          |                   |      \n",
            "  N_FLIGHT      |               ADJ_PLACE \n",
            "     |          |                   |      \n",
            "TERM_FLIGHT  P_PLACE            TERM_PLACE\n",
            "     |          |                   |      \n",
            "  flights      from               boston  \n",
            "\n",
            "                                               S                                    \n",
            "                     __________________________|__________                           \n",
            "                    |                                 NP_FLIGHT                     \n",
            "                    |                                     |                          \n",
            "                    |                                 NOM_FLIGHT                    \n",
            "                    |                                     |                          \n",
            "                    |                                  N_FLIGHT                     \n",
            "                    |                           __________|_________                 \n",
            "                    |                          |                    PP              \n",
            "                    |                          |                    |                \n",
            "                    |                          |                 PP_PLACE           \n",
            "                    |                          |           _________|_________       \n",
            "                PREIGNORE                      |          |                NP_PLACE \n",
            "        ____________|____________              |          |                   |      \n",
            "       |                     PREIGNORE      N_FLIGHT      |               ADJ_PLACE \n",
            "       |                         |             |          |                   |      \n",
            "PREIGNORESYMBOL           PREIGNORESYMBOL TERM_FLIGHT  P_PLACE            TERM_PLACE\n",
            "       |                         |             |          |                   |      \n",
            "      show                       me         flights      from               boston  \n",
            "\n",
            "                                                S                                                          \n",
            "                     ___________________________|_______________________                                    \n",
            "                    |                                               NP_FLIGHT                              \n",
            "                    |                                                   |                                   \n",
            "                    |                                               NOM_FLIGHT                             \n",
            "                    |                            _______________________|__________                         \n",
            "                    |                           |                              NOM_FLIGHT                  \n",
            "                    |                           |                                  |                        \n",
            "                    |                           |                               N_FLIGHT                   \n",
            "                    |                           |             _____________________|_________               \n",
            "                    |                           |            |                               PP            \n",
            "                    |                           |            |                               |              \n",
            "                PREIGNORE                      ADJ           |                            PP_TIME          \n",
            "        ____________|____________               |            |                      _________|________      \n",
            "       |                     PREIGNORE     ADJ_AIRLINE    N_FLIGHT                 |               NP_TIME \n",
            "       |                         |              |            |                     |                  |     \n",
            "PREIGNORESYMBOL           PREIGNORESYMBOL TERM_AIRBRAND TERM_FLIGHT              P_TIME           TERM_TIME\n",
            "       |                         |              |            |                     |                  |     \n",
            "      show                       me           united      flights                before              noon  \n",
            "\n",
            "                                                    S                                                 \n",
            "                     _______________________________|____________                                      \n",
            "                    |                                        NP_FLIGHT                                \n",
            "                    |                       _____________________|__________                           \n",
            "                    |                      |                            NOM_FLIGHT                    \n",
            "                    |                      |         _______________________|__________                \n",
            "                    |                      |        |                              NOM_FLIGHT         \n",
            "                    |                      |        |                                  |               \n",
            "                    |                      |        |                               N_FLIGHT          \n",
            "                    |                      |        |                        __________|_________      \n",
            "                    |                      |        |                    N_FLIGHT                |    \n",
            "                    |                      |        |             __________|__________          |     \n",
            "                PREIGNORE                  |       ADJ           |                     PP        PP   \n",
            "        ____________|____________          |        |            |                     |         |     \n",
            "       |                     PREIGNORE     |   ADJ_AIRLINE    N_FLIGHT              PP_CLASS  PP_DATE \n",
            "       |                         |         |        |            |                     |         |     \n",
            "PREIGNORESYMBOL           PREIGNORESYMBOL DET TERM_AIRBRAND TERM_FLIGHT            ADJ_CLASS  NP_DATE \n",
            "       |                         |         |        |            |                     |         |     \n",
            "      are                      there      any      twa        flights              available  tomorrow\n",
            "\n",
            "failed to parse: show me flights united are there any\n"
          ]
        }
      ],
      "source": [
        "for sentence in test_sentences:\n",
        "    tree = cky_parse(atis_grammar_cnf, tokenize(sentence))\n",
        "    if not tree:\n",
        "        print(f\"failed to parse: {sentence}\")\n",
        "    else:\n",
        "        xform.un_cnf(tree, atis_grammar_wunaries)\n",
        "        tree.pretty_print()"
      ]
    },
    {
      "cell_type": "markdown",
      "id": "a53fb467",
      "metadata": {
        "id": "a53fb467"
      },
      "source": [
        "You can also compare against the built-in NLTK parser that we constructed above:"
      ]
    },
    {
      "cell_type": "code",
      "execution_count": 73,
      "id": "c8982bbb",
      "metadata": {
        "id": "c8982bbb",
        "colab": {
          "base_uri": "https://localhost:8080/"
        },
        "outputId": "9012a107-0849-4f0b-acac-e95cded93aef"
      },
      "outputs": [
        {
          "output_type": "stream",
          "name": "stdout",
          "text": [
            "Reference parses:\n",
            "(S\n",
            "  (NP_FLIGHT\n",
            "    (NOM_FLIGHT\n",
            "      (N_FLIGHT\n",
            "        (N_FLIGHT (TERM_FLIGHT flights))\n",
            "        (PP\n",
            "          (PP_PLACE\n",
            "            (P_PLACE from)\n",
            "            (NP_PLACE (ADJ_PLACE (TERM_PLACE boston)))))))))\n",
            "\n",
            "Predicted parse:\n",
            "(S\n",
            "  (NP_FLIGHT\n",
            "    (NOM_FLIGHT\n",
            "      (N_FLIGHT\n",
            "        (N_FLIGHT (TERM_FLIGHT flights))\n",
            "        (PP\n",
            "          (PP_PLACE\n",
            "            (P_PLACE from)\n",
            "            (NP_PLACE (ADJ_PLACE (TERM_PLACE boston)))))))))\n",
            "\n",
            "SUCCESS!\n",
            "Reference parses:\n",
            "(S\n",
            "  (PREIGNORE (PREIGNORESYMBOL show) (PREIGNORE (PREIGNORESYMBOL me)))\n",
            "  (NP_FLIGHT\n",
            "    (NOM_FLIGHT\n",
            "      (N_FLIGHT\n",
            "        (N_FLIGHT (TERM_FLIGHT flights))\n",
            "        (PP\n",
            "          (PP_PLACE\n",
            "            (P_PLACE from)\n",
            "            (NP_PLACE (ADJ_PLACE (TERM_PLACE boston)))))))))\n",
            "\n",
            "Predicted parse:\n",
            "(S\n",
            "  (PREIGNORE (PREIGNORESYMBOL show) (PREIGNORE (PREIGNORESYMBOL me)))\n",
            "  (NP_FLIGHT\n",
            "    (NOM_FLIGHT\n",
            "      (N_FLIGHT\n",
            "        (N_FLIGHT (TERM_FLIGHT flights))\n",
            "        (PP\n",
            "          (PP_PLACE\n",
            "            (P_PLACE from)\n",
            "            (NP_PLACE (ADJ_PLACE (TERM_PLACE boston)))))))))\n",
            "\n",
            "SUCCESS!\n",
            "Reference parses:\n",
            "(S\n",
            "  (PREIGNORE (PREIGNORESYMBOL show) (PREIGNORE (PREIGNORESYMBOL me)))\n",
            "  (NP_FLIGHT\n",
            "    (NOM_FLIGHT\n",
            "      (ADJ (ADJ_AIRLINE (TERM_AIRBRAND united)))\n",
            "      (NOM_FLIGHT\n",
            "        (N_FLIGHT\n",
            "          (N_FLIGHT (TERM_FLIGHT flights))\n",
            "          (PP (PP_TIME (P_TIME before) (NP_TIME (TERM_TIME noon)))))))))\n",
            "\n",
            "Predicted parse:\n",
            "(S\n",
            "  (PREIGNORE (PREIGNORESYMBOL show) (PREIGNORE (PREIGNORESYMBOL me)))\n",
            "  (NP_FLIGHT\n",
            "    (NOM_FLIGHT\n",
            "      (ADJ (ADJ_AIRLINE (TERM_AIRBRAND united)))\n",
            "      (NOM_FLIGHT\n",
            "        (N_FLIGHT\n",
            "          (N_FLIGHT (TERM_FLIGHT flights))\n",
            "          (PP (PP_TIME (P_TIME before) (NP_TIME (TERM_TIME noon)))))))))\n",
            "\n",
            "SUCCESS!\n",
            "Reference parses:\n",
            "(S\n",
            "  (PREIGNORE\n",
            "    (PREIGNORESYMBOL are)\n",
            "    (PREIGNORE (PREIGNORESYMBOL there)))\n",
            "  (NP_FLIGHT\n",
            "    (DET any)\n",
            "    (NOM_FLIGHT\n",
            "      (ADJ (ADJ_AIRLINE (TERM_AIRBRAND twa)))\n",
            "      (NOM_FLIGHT\n",
            "        (N_FLIGHT\n",
            "          (N_FLIGHT\n",
            "            (N_FLIGHT (TERM_FLIGHT flights))\n",
            "            (PP (PP_CLASS (ADJ_CLASS available))))\n",
            "          (PP (PP_DATE (NP_DATE tomorrow))))))))\n",
            "\n",
            "Predicted parse:\n",
            "(S\n",
            "  (PREIGNORE\n",
            "    (PREIGNORESYMBOL are)\n",
            "    (PREIGNORE (PREIGNORESYMBOL there)))\n",
            "  (NP_FLIGHT\n",
            "    (DET any)\n",
            "    (NOM_FLIGHT\n",
            "      (ADJ (ADJ_AIRLINE (TERM_AIRBRAND twa)))\n",
            "      (NOM_FLIGHT\n",
            "        (N_FLIGHT\n",
            "          (N_FLIGHT\n",
            "            (N_FLIGHT (TERM_FLIGHT flights))\n",
            "            (PP (PP_CLASS (ADJ_CLASS available))))\n",
            "          (PP (PP_DATE (NP_DATE tomorrow))))))))\n",
            "\n",
            "SUCCESS!\n",
            "Reference parses:\n",
            "\n",
            "Predicted parse:\n",
            "None\n",
            "\n",
            "SUCCESS!\n"
          ]
        }
      ],
      "source": [
        "for sentence in test_sentences:\n",
        "  refparses = [p for p in atis_parser_expanded.parse(tokenize(sentence))]\n",
        "  predparse = cky_parse(atis_grammar_cnf, tokenize(sentence))\n",
        "  if predparse:\n",
        "    xform.un_cnf(predparse, atis_grammar_wunaries)\n",
        "\n",
        "  print('Reference parses:')\n",
        "  for reftree in refparses:\n",
        "    print(reftree)\n",
        "\n",
        "  print('\\nPredicted parse:')\n",
        "  print(predparse)\n",
        "\n",
        "  if (not predparse and len(refparses) == 0) or predparse in refparses:\n",
        "    print(\"\\nSUCCESS!\")\n",
        "  else:\n",
        "    print(\"\\nOops. No match.\")"
      ]
    },
    {
      "cell_type": "markdown",
      "id": "89a73bbd",
      "metadata": {
        "id": "89a73bbd"
      },
      "source": [
        "Again, we test the coverage as a way of verifying that your parser works consistently with the recognizer and the NLTK parser."
      ]
    },
    {
      "cell_type": "code",
      "execution_count": 74,
      "id": "c4bd191c",
      "metadata": {
        "id": "c4bd191c",
        "colab": {
          "base_uri": "https://localhost:8080/"
        },
        "outputId": "65f86a26-c7a2-45aa-fdb7-6f22e197b327"
      },
      "outputs": [
        {
          "output_type": "stream",
          "name": "stderr",
          "text": [
            "100%|██████████| 50/50 [00:10<00:00,  4.79it/s]\n"
          ]
        },
        {
          "output_type": "execute_result",
          "data": {
            "text/plain": [
              "0.48"
            ]
          },
          "metadata": {},
          "execution_count": 74
        }
      ],
      "source": [
        "coverage(recognizer_from(lambda sent: cky_parse(atis_grammar_cnf, sent)),\n",
        "         training_corpus, n=50)"
      ]
    },
    {
      "cell_type": "markdown",
      "id": "a6b94343",
      "metadata": {
        "id": "a6b94343"
      },
      "source": [
        "# Probabilistic CFG parsing via the CKY algorithm\n",
        "\n",
        "In practice, we want to work with grammars that cover nearly all the language we expect to come across for a given application. This leads to an explosion of rules and a large number of possible parses for any one sentence. To remove ambiguity between the different parses, it's desirable to move to probabilistic context-free grammars (PCFG). In this part of the assignment, you will construct a PCFG from training data, parse using a probabilistic version of CKY, and evaluate the quality of the resulting parses against gold trees.\n",
        "\n",
        "## Part 4: PCFG construction\n",
        "\n",
        "Compared to CFGs, PCFGs need to assign probabilities to grammar rules. For this goal, you'll write a function `pcfg_from_trees` that takes a list of strings describing a corpus of trees and returns an NLTK PCFG trained on that set of trees.\n",
        "\n",
        "> We expect you to implement `pcfg_from_trees` directly. You should **not** use the [`induce_pcfg`](https://www.nltk.org/api/nltk.grammar.html#nltk.grammar.induce_pcfg) function in implementing your solution.\n",
        "\n",
        "We want the PCFG to be in CNF format because the probabilistic version of CKY that you'll implement next also requires the grammar to be in CNF. However, the gold trees are not in CNF form, so in this case you will need to convert the gold *trees* to CNF before building the PCFG from them. To accomplish this, you should use the `treetransforms` package from `nltk`, which includes functions for converting to and from CNF. In particular, you'll want to make use of `treetransforms.collapse_unary` followed by `treetransforms.chomsky_normal_form` to convert a tree to its binarized version. You can then get the counts for all of the productions used in the trees, and then normalize them to probabilities so that the probabilities of all rules with the same left-hand side sum to 1.\n",
        "\n",
        "We'll use the `pcfg_from_trees` function that you define later for parsing.\n",
        "\n",
        "> To convert an `nltk.Tree` object `t` to CNF, you can use the below code. Note that it's different from the `xform` functions we used before as we are converting _trees_, not _grammars_.\n",
        ">\n",
        ">    ```\n",
        ">    treetransforms.collapse_unary(t, collapsePOS=True)\n",
        ">    treetransforms.chomsky_normal_form(t) # After this the tree will be in CNF\n",
        ">    ```\n",
        "\n",
        "> To construct a PCFG production, see [nltk.grammar.ProbabilisticProduction](https://www.nltk.org/api/nltk.grammar.html#nltk.grammar.ProbabilisticProduction).\n",
        "\n",
        "> To construct a PCFG with a given start state and set of productions, see [`nltk.grammar.PCFG`](https://www.nltk.org/api/nltk.grammar.html#nltk.grammar.PCFG)."
      ]
    },
    {
      "cell_type": "code",
      "execution_count": 75,
      "id": "f75a03c0",
      "metadata": {
        "id": "f75a03c0"
      },
      "outputs": [],
      "source": [
        "#TODO - Define a function to convert a set of trees to a PCFG in Chomsky normal form.\n",
        "def pcfg_from_trees(trees, start=Nonterminal('TOP')):\n",
        "  \"\"\"Returns an NLTK PCFG in CNF with rules and counts extracted from a set of trees.\n",
        "\n",
        "  The `trees` argument is a list of strings in the form interpretable by\n",
        "  `Tree.fromstring`. The trees are converted to CNF using NLTK's\n",
        "  `treetransforms.collapse_unary` and `treetransforms.chomsky_normal_form`.\n",
        "\n",
        "  The `start` argument is the start nonterminal symbol of the returned\n",
        "  grammar.\"\"\"\n",
        "  count_dict = defaultdict(lambda: defaultdict(int))\n",
        "\n",
        "  # count productions in trees\n",
        "  for tree_str in trees:\n",
        "    tree = nltk.Tree.fromstring(tree_str)\n",
        "    treetransforms.collapse_unary(tree, collapsePOS=True)\n",
        "    treetransforms.chomsky_normal_form(tree)\n",
        "    for production in tree.productions():\n",
        "      count_dict[production.lhs()][production.rhs()] += 1\n",
        "\n",
        "  # convert counts to probabilities\n",
        "  prob_dict = defaultdict(lambda: defaultdict(float))\n",
        "  for lhs in count_dict:\n",
        "    total_count = sum(count_dict[lhs].values())\n",
        "    for rhs in count_dict[lhs]:\n",
        "      prob_dict[lhs][rhs] = count_dict[lhs][rhs] / total_count\n",
        "\n",
        "  # create PCFG from probabilities per production\n",
        "  prob_production_list = []\n",
        "  for lhs in prob_dict:\n",
        "    for rhs in prob_dict[lhs]:\n",
        "      prob_production_list.append(nltk.grammar.ProbabilisticProduction(lhs, rhs, prob=prob_dict[lhs][rhs]))\n",
        "\n",
        "  return nltk.grammar.PCFG(start, prob_production_list)"
      ]
    },
    {
      "cell_type": "markdown",
      "id": "67b594c7",
      "metadata": {
        "id": "67b594c7"
      },
      "source": [
        "We can now train a PCFG on the *train* split `train.trees` that we downloaded in the setup at the start of the notebook."
      ]
    },
    {
      "cell_type": "code",
      "execution_count": 76,
      "id": "ed7320e6",
      "metadata": {
        "id": "ed7320e6"
      },
      "outputs": [],
      "source": [
        "with open('data/train.trees') as file:\n",
        "  ## Convert the probabilistic productions to an NLTK probabilistic CFG.\n",
        "  pgrammar = pcfg_from_trees(file.readlines())\n",
        "\n",
        "## Verify that the grammar is in CNF\n",
        "assert(pgrammar.is_chomsky_normal_form())"
      ]
    },
    {
      "cell_type": "markdown",
      "id": "0cb17bf5",
      "metadata": {
        "id": "0cb17bf5"
      },
      "source": [
        "## Part 5: Probabilistic CKY parsing\n",
        "\n",
        "Finally, we are ready to implement probabilistic CKY parsing under PCFGs. Adapt the CKY parser from Part 3 to return the **most likely parse** and its **log probability** (base 2) given a PCFG. Note that to avoid underflows we want to work in the log space.\n",
        "> **Hint:** `production.logprob()` will return the log probability of a PCFG production `production`."
      ]
    },
    {
      "cell_type": "code",
      "execution_count": 77,
      "id": "501326c6",
      "metadata": {
        "id": "501326c6"
      },
      "outputs": [],
      "source": [
        "## TODO – Implement a CKY parser under PCFGs\n",
        "def cky_parse_probabilistic(grammar, tokens):\n",
        "  \"\"\"Returns the NLTK parse tree of `tokens` with the highest probability\n",
        "  as specified by the PCFG `grammar` along with its log probability as a tuple.\n",
        "\n",
        "  Returns (None, -float('inf')) if `tokens` is not parsable.\n",
        "  Implements the CKY algorithm, and therefore assumes `grammar` is in\n",
        "  Chomsky normal form.\n",
        "  \"\"\"\n",
        "  assert(grammar.is_chomsky_normal_form())\n",
        "\n",
        "  N = len(tokens)\n",
        "\n",
        "  T = defaultdict(lambda: defaultdict(dict))\n",
        "  log_probs = defaultdict(lambda: defaultdict(dict))\n",
        "\n",
        "  for j in range(1, N + 1):\n",
        "      for production in grammar.productions():\n",
        "          if len(production.rhs()) == 1 and production.rhs()[0] == tokens[j - 1]:\n",
        "              T[j - 1][j][production.lhs()] = Tree(str(production.lhs()), [tokens[j - 1]])\n",
        "              log_probs[j - 1][j][production.lhs()] = production.logprob()\n",
        "\n",
        "  for j in range(2, N + 1):\n",
        "      for i in range(j - 2, -1, -1):\n",
        "          for split in range(i + 1, j):\n",
        "              for production in grammar.productions():\n",
        "                  if len(production.rhs()) == 2:\n",
        "                      B, C = production.rhs()\n",
        "                      if B in T[i][split] and C in T[split][j]:\n",
        "                          prob = log_probs[i][split][B] + log_probs[split][j][C] + production.logprob()\n",
        "                          if production.lhs() not in log_probs[i][j] or prob > log_probs[i][j][production.lhs()]:\n",
        "                              log_probs[i][j][production.lhs()] = prob\n",
        "                              T[i][j][production.lhs()] = Tree(str(production.lhs()), [T[i][split][B], T[split][j][C]])\n",
        "\n",
        "  if grammar.start() not in T[0][N]:\n",
        "      return None, -float('inf')\n",
        "\n",
        "  return T[0][N][grammar.start()], log_probs[0][N][grammar.start()]\n"
      ]
    },
    {
      "cell_type": "markdown",
      "id": "44d65284",
      "metadata": {
        "id": "44d65284"
      },
      "source": [
        "As an aid in debugging, you may want to start by testing your implementation of probabilistic CKY on a much smaller grammar than the one you trained from the ATIS corpus. Here's a little grammar that you can play with.\n",
        "\n",
        "> **Hint:** By \"play with\", we mean that you can change the grammar to try out the behavior of your parser on different test grammars, including ambiguous cases."
      ]
    },
    {
      "cell_type": "code",
      "execution_count": 78,
      "id": "337b12a7",
      "metadata": {
        "id": "337b12a7"
      },
      "outputs": [],
      "source": [
        "grammar = PCFG.fromstring(\"\"\"\n",
        "  S -> NP VP [1.0]\n",
        "  VP -> V NP [1.0]\n",
        "  PP -> P NP [1.0]\n",
        "  NP -> 'sam' [.3]\n",
        "  NP -> 'ham' [.7]\n",
        "  V -> 'likes' [1.0]\n",
        "  \"\"\")"
      ]
    },
    {
      "cell_type": "code",
      "execution_count": 79,
      "id": "3dcff11c",
      "metadata": {
        "id": "3dcff11c",
        "colab": {
          "base_uri": "https://localhost:8080/"
        },
        "outputId": "d327014d-16f9-4f6b-dc86-d978cb41576f"
      },
      "outputs": [
        {
          "output_type": "stream",
          "name": "stdout",
          "text": [
            "      S          \n",
            "  ____|____       \n",
            " |         VP    \n",
            " |     ____|___   \n",
            " NP   V        NP\n",
            " |    |        |  \n",
            "sam likes     ham\n",
            "\n",
            "logprob: -2.25 | probability: 0.21\n"
          ]
        }
      ],
      "source": [
        "tree, logprob = cky_parse_probabilistic(grammar, tokenize('sam likes ham'))\n",
        "tree.pretty_print()\n",
        "print(f\"logprob: {logprob:4.3g} | probability: {2**logprob:4.3g}\")"
      ]
    },
    {
      "cell_type": "code",
      "execution_count": 80,
      "id": "f6851210",
      "metadata": {
        "id": "f6851210",
        "colab": {
          "base_uri": "https://localhost:8080/"
        },
        "outputId": "2869df34-bf1d-4847-a8be-dbf0a80af032"
      },
      "outputs": [
        {
          "output_type": "stream",
          "name": "stdout",
          "text": [
            "                           TOP                     \n",
            "                      ______|___________________    \n",
            "                    FRAG                        |  \n",
            "                     |                          |   \n",
            "                     NP                         |  \n",
            "    _________________|___________               |   \n",
            "   |          PP                 PP             |  \n",
            "   |      ____|______        ____|_____         |   \n",
            "   NP    |           NP     |          NP       |  \n",
            "   |     |           |      |     _____|___     |   \n",
            "  NNS    IN         NNP     TO  NNP       NNP  PUNC\n",
            "   |     |           |      |    |         |    |   \n",
            "Flights from     Cleveland  to Kansas     City  .  \n",
            "\n",
            "logprob:  -27 | probability: 7.42e-09\n"
          ]
        }
      ],
      "source": [
        "# We don't use our tokenizer because the gold trees do not lowercase tokens\n",
        "sent = \"Flights from Cleveland to Kansas City .\".split()\n",
        "tree, logprob = cky_parse_probabilistic(pgrammar, sent)\n",
        "tree.un_chomsky_normal_form()\n",
        "tree.pretty_print()\n",
        "print(f\"logprob: {logprob:4.3g} | probability: {2**logprob:4.3g}\")"
      ]
    },
    {
      "cell_type": "markdown",
      "id": "fa4cc578",
      "metadata": {
        "id": "fa4cc578"
      },
      "source": [
        "## Evaluation of the grammar\n",
        "\n",
        "There are a number of ways to evaluate parsing algorithms. In this project segment, you will use the [\"industry-standard\" `evalb` implementation](https://nlp.cs.nyu.edu/evalb/) for computing constituent precision, recall, and F1 scores. We downloaded `evalb` during setup.\n",
        "\n",
        "We read in the test data..."
      ]
    },
    {
      "cell_type": "code",
      "execution_count": 81,
      "id": "7f40ac35",
      "metadata": {
        "id": "7f40ac35"
      },
      "outputs": [],
      "source": [
        "with open('data/test.trees') as file:\n",
        "  test_trees = [Tree.fromstring(line.strip()) for line in file.readlines()]\n",
        "\n",
        "test_sents = [tree.leaves() for tree in test_trees]"
      ]
    },
    {
      "cell_type": "markdown",
      "id": "c974d317",
      "metadata": {
        "id": "c974d317"
      },
      "source": [
        "...and parse the test sentences using your probabilistic CKY implementation, writing the output trees to a file."
      ]
    },
    {
      "cell_type": "code",
      "execution_count": 82,
      "id": "404b5490",
      "metadata": {
        "id": "404b5490",
        "colab": {
          "base_uri": "https://localhost:8080/"
        },
        "outputId": "825e604d-dce7-4ca0-d3c8-b9a44032b519"
      },
      "outputs": [
        {
          "output_type": "stream",
          "name": "stderr",
          "text": [
            "100%|██████████| 58/58 [00:03<00:00, 16.68it/s]\n"
          ]
        }
      ],
      "source": [
        "trees_out = []\n",
        "for sent in tqdm(test_sents):\n",
        "  tree, prob = cky_parse_probabilistic(pgrammar, sent)\n",
        "  if tree is not None:\n",
        "    tree.un_chomsky_normal_form()\n",
        "    trees_out.append(tree.pformat(margin=9999999999))\n",
        "  else:\n",
        "    trees_out.append('()')\n",
        "\n",
        "with open('data/outp.trees', 'w') as file:\n",
        "  for line in trees_out:\n",
        "    file.write(line + '\\n')"
      ]
    },
    {
      "cell_type": "markdown",
      "id": "644f4113",
      "metadata": {
        "id": "644f4113"
      },
      "source": [
        "Now we can compare the predicted trees to the ground truth trees, using `evalb`. You should expect to achieve F1 of about 0.83."
      ]
    },
    {
      "cell_type": "code",
      "execution_count": 83,
      "id": "17eb11a6",
      "metadata": {
        "id": "17eb11a6",
        "colab": {
          "base_uri": "https://localhost:8080/"
        },
        "outputId": "a1b4ee40-5532-4463-962e-bdf58b233798"
      },
      "outputs": [
        {
          "output_type": "stream",
          "name": "stdout",
          "text": [
            "data/outp.trees\t345 brackets\n",
            "data/test.trees\t471 brackets\n",
            "matching\t339 brackets\n",
            "precision\t0.9826086956521739\n",
            "recall\t0.7197452229299363\n",
            "F1\t0.8308823529411764\n"
          ]
        }
      ],
      "source": [
        "shell(\"python data/evalb.py data/outp.trees data/test.trees\")"
      ]
    },
    {
      "cell_type": "markdown",
      "id": "fe1d82b2",
      "metadata": {
        "deletable": false,
        "editable": false,
        "id": "fe1d82b2"
      },
      "source": [
        "<!-- BEGIN QUESTION -->\n",
        "\n",
        "# Prompting Modern Large Language Models (LLMs)\n",
        "\n",
        "**Question:** Modern large-scale language models (such as Claude, ChatGPT, Gemini, Llama) have various capabilities, that can be shown by prompting them correctly (i.e. giving them a correct input prompt). Try to see if you can prompt an LLM (of your choosing) to solve the task of **constituency parsing** on a few sample sentences (you can use the ones from this segement, or any other source of data). Write a short paragraph about your experience - what worked better, what worked worse. Note that your not expected to devise a fool-proof prompting method, but only to qualitatively experiment with prompting.\n",
        "\n",
        "<!--\n",
        "BEGIN QUESTION\n",
        "name: lm_experimentation\n",
        "manual: true\n",
        "-->"
      ]
    },
    {
      "cell_type": "markdown",
      "id": "9e3cebea",
      "metadata": {
        "id": "9e3cebea"
      },
      "source": [
        "We experimented with ChatGPT 4o with several levels of detail:\n",
        "1. Level 1 - has minimal information needed to understand its task.\n",
        "2. Level 2 - Contains a bit more detail than level 1, still without extra guidelines or tips.\n",
        "3. Level 3 - Verbose, with added guidelines and tips.\n",
        "\n",
        "We used 5 training examples and 3 test examples, and evaluated the results using the precision, recall and f1 metrics.\n",
        "\n",
        "Level 1 and 2 had quite similar prompts, and unsurprisingly they both reached  the same performance:\n",
        "* Outputed a wrong tree structure for the 2nd test sentence (missing one closing bracket)\n",
        "* precision: 0.9607843137254902\n",
        "* recall: 0.9607843137254902\n",
        "* f1: 0.9607843137254902\n",
        "\n",
        "Level 3 included, besides ordinary guidelines, specific instructions to validate the resulting tree both in terms of the correct label and verifying the numbers of opening and closing brackets.\n",
        "\n",
        "Level 3 Performance:\n",
        "* precision: 0.9158926728586172\n",
        "* recall: 0.9009803921568628\n",
        "* f1: 0.90824534942182\n",
        "\n",
        "We observe that Level 3 did worse than Levels 1 & 2 it terms of the discussed metrics (0.91 being worse than 0.96). However, all 3 trees contrusted by the Level 3 chatbot had a valid structure. In this case, adding the extra information and asking the LLM to validate itself also presented a drawback - worsening performance. This may be seen as a trade-off between optimizing performance metrics (Levels 1&2) and showing consistent and valid results (Level 3). It would be interesting trying out other prompts, opting to achieve results both valid and with a high f1 score."
      ]
    },
    {
      "cell_type": "markdown",
      "source": [
        "## Notes / Appendix\n",
        "\n",
        "Prompts we used:\n",
        "\n",
        "Level 1: Minimal information needed to understand its task.\n",
        "Prompt: Training Data for constituency parsing:\n",
        "<5 training examples of sentences and their respective parse trees>\n",
        "Test Mode – Predict the parse tree for the following sentences:\n",
        "<3 test sentences>\n",
        "\n",
        "Level 2: Some extra information added\n",
        "Prompt: You will be shown examples of sentences and their corresponding constituency parse trees in the following format:\n",
        "[EXAMPLES]\n",
        "Sentence: <sentence>\n",
        "Parse: <parse>\n",
        "[EXAMPLES END]\n",
        "From now on, when given a sentence, output its constituency parse tree using the same format shown in the examples. Ensure your parse trees follow standard syntactic bracketing notation and include part-of-speech tags. If there are several matching parse trees, make sure to select the most probable one.\n",
        "\n",
        "Level 3: Verbose prompt including tips and validation of the resulting tree\n",
        "Prompt: You will be shown examples of sentences and their corresponding constituency parse trees in the following format:\n",
        "[EXAMPLES] Sentence: The cat sat on the mat. Parse: (S (NP (DT The) (NN cat)) (VP (VBD sat) (PP (IN on) (NP (DT the) (NN mat)))) (.))\n",
        "[EXAMPLES END]\n",
        "When generating parse trees for new sentences, follow these important guidelines:\n",
        "1.\tAlways start by identifying the core sentence structure (S) and its main constituents (NP, VP).\n",
        "2.\tFor each word, assign the appropriate part-of-speech tag (e.g., DT for determiners, NN for nouns, VB* for verbs).\n",
        "3.\tBuild the tree systematically - either:\n",
        "o\tBottom-up: Start with POS tags and words, then combine into phrases\n",
        "o\tTop-down: Begin with S, break into major phrases, then subphrases\n",
        "4.\tValidate your output by:\n",
        "o\tCounting opening and closing brackets - they must match exactly\n",
        "o\tEnsuring every word has a POS tag\n",
        "o\tVerifying each phrase has an appropriate label (NP, VP, PP, etc.)\n",
        "o\tChecking that the tree structure could be reconstructed to form the original sentence\n",
        "5.\tCommon structures to watch for:\n",
        "o\tPrepositional phrases (PP) always contain IN/TO + NP\n",
        "o\tVerb phrases (VP) must contain a verb\n",
        "o\tNoun phrases (NP) typically start with determiners (DT) or adjectives (JJ)\n",
        "o\tClausal structures (S) need both NP and VP components\n",
        "After seeing these examples, provide complete and accurate constituency parse trees for any input sentence, following the same format and ensuring all brackets and tags are properly matched and nested."
      ],
      "metadata": {
        "id": "vkwbpzKNMBUC"
      },
      "id": "vkwbpzKNMBUC"
    },
    {
      "cell_type": "markdown",
      "id": "34b675d3",
      "metadata": {
        "id": "34b675d3"
      },
      "source": [
        "<!-- END QUESTION -->\n",
        "\n",
        "\n",
        "\n",
        "## Debrief\n",
        "\n",
        "**Question:** We're interested in any thoughts you have about this project segment so that we can improve it for later years, and to inform later segments for this year. Please list any issues that arose or comments you have to improve the project segment. Useful things to comment on might include the following, but you are not restricted to these:\n",
        "\n",
        "* Was the project segment clear or unclear? Which portions?\n",
        "* Were the readings appropriate background for the project segment?\n",
        "* Are there additions or changes you think would make the project segment better?\n",
        "    ```\n",
        "    BEGIN QUESTION\n",
        "    name: open_response_debrief\n",
        "    manual: true\n",
        "    ```"
      ]
    },
    {
      "cell_type": "markdown",
      "id": "2b33b0af",
      "metadata": {
        "id": "2b33b0af"
      },
      "source": [
        "_Type your answer here, replacing this text._"
      ]
    },
    {
      "cell_type": "markdown",
      "id": "c7629ad4",
      "metadata": {
        "id": "c7629ad4"
      },
      "source": [
        "# Instructions for submission of the project segment\n",
        "\n",
        "This project segment should be submitted to Gradescope, which will be made available some time before the due date.\n",
        "\n",
        "Project segment notebooks are manually graded, not autograded using otter as labs are. (Otter is used within project segment notebooks to synchronize distribution and solution code however.) **We will not run your notebook before grading it.** Instead, we ask that you **submit the already freshly run notebook**. The best method is to \"restart kernel and run all cells\", allowing time for all cells to be run to completion. You should submit your code to Gradescope at the code submission assignment. **Make sure that you are also submitting your `data/grammar` file as part of your solution code as well.**\n",
        "\n",
        "We also request that you **submit a PDF of the freshly run notebook**. The simplest method is to use \"Export notebook to PDF\", which will render the notebook to PDF via LaTeX. If that doesn't work, the method that seems to be most reliable is to export the notebook as HTML (if you are using Jupyter Notebook, you can do so using `File -> Print Preview`), open the HTML in a browser, and print it to a file. Then make sure to add the file to your git commit. Please name the file the same name as this notebook, but with a `.pdf` extension. (Conveniently, the methods just described will use that name by default.) You can then perform a git commit and push and submit the commit to Gradescope at the PDF submission assignment. **Make sure all of your solution pages are formatted correctly and that nothing got truncated when converting to PDF**."
      ]
    },
    {
      "cell_type": "markdown",
      "id": "d34e1ce5",
      "metadata": {
        "id": "d34e1ce5"
      },
      "source": [
        "# End of project segment 3 {-}"
      ]
    }
  ],
  "metadata": {
    "celltoolbar": "Edit Metadata",
    "colab": {
      "provenance": []
    },
    "kernelspec": {
      "display_name": "Python 3 (ipykernel)",
      "language": "python",
      "name": "python3"
    },
    "language_info": {
      "codemirror_mode": {
        "name": "ipython",
        "version": 3
      },
      "file_extension": ".py",
      "mimetype": "text/x-python",
      "name": "python",
      "nbconvert_exporter": "python",
      "pygments_lexer": "ipython3",
      "version": "3.8.3"
    },
    "title": "CS187 Project Segment 3: Parsing – The CKY Algorithm"
  },
  "nbformat": 4,
  "nbformat_minor": 5
}