{
  "cells": [
    {
      "cell_type": "code",
      "execution_count": 1,
      "id": "f3f358bc",
      "metadata": {
        "deletable": false,
        "editable": false,
        "jupyter": {
          "outputs_hidden": true,
          "source_hidden": true
        },
        "colab": {
          "base_uri": "https://localhost:8080/"
        },
        "id": "f3f358bc",
        "outputId": "bd30eb95-de58-417b-9dae-e7a6308ab130"
      },
      "outputs": [
        {
          "output_type": "stream",
          "name": "stdout",
          "text": [
            "\n"
          ]
        }
      ],
      "source": [
        "# Please do not change this cell because some hidden tests might depend on it.\n",
        "import os\n",
        "\n",
        "# Otter grader does not handle ! commands well, so we define and use our\n",
        "# own function to execute shell commands.\n",
        "def shell(commands, warn=True):\n",
        "    \"\"\"Executes the string `commands` as a sequence of shell commands.\n",
        "\n",
        "       Prints the result to stdout and returns the exit status.\n",
        "       Provides a printed warning on non-zero exit status unless `warn`\n",
        "       flag is unset.\n",
        "    \"\"\"\n",
        "    file = os.popen(commands)\n",
        "    print (file.read().rstrip('\\n'))\n",
        "    exit_status = file.close()\n",
        "    if warn and exit_status != None:\n",
        "        print(f\"Completed with errors. Exit status: {exit_status}\\n\")\n",
        "    return exit_status\n",
        "\n",
        "shell(\"\"\"\n",
        "ls requirements.txt >/dev/null 2>&1\n",
        "if [ ! $? = 0 ]; then\n",
        " rm -rf .tmp\n",
        " git clone https://github.com/cs236299-2024-winter/lab1-5.git .tmp\n",
        " mv .tmp/tests ./\n",
        " mv .tmp/requirements.txt ./\n",
        " rm -rf .tmp\n",
        "fi\n",
        "pip install -q -r requirements.txt\n",
        "\"\"\")"
      ]
    },
    {
      "cell_type": "code",
      "execution_count": 2,
      "id": "08360191",
      "metadata": {
        "deletable": false,
        "editable": false,
        "id": "08360191"
      },
      "outputs": [],
      "source": [
        "# Initialize Otter\n",
        "import otter\n",
        "grader = otter.Notebook()"
      ]
    },
    {
      "cell_type": "raw",
      "id": "d560c92d",
      "metadata": {
        "id": "d560c92d"
      },
      "source": [
        "%%latex\n",
        "\\newcommand{\\vect}[1]{\\mathbf{#1}}\n",
        "\\newcommand{\\cnt}[1]{\\sharp(#1)}\n",
        "\\newcommand{\\argmax}[1]{\\underset{#1}{\\operatorname{argmax}}}\n",
        "\\newcommand{\\softmax}{\\operatorname{softmax}}\n",
        "\\newcommand{\\Prob}{\\Pr}\n",
        "\\newcommand{\\given}{\\,|\\,}"
      ]
    },
    {
      "cell_type": "markdown",
      "id": "bc78f4f6",
      "metadata": {
        "id": "bc78f4f6"
      },
      "source": [
        "$$\n",
        "\\renewcommand{\\vect}[1]{\\mathbf{#1}}\n",
        "\\renewcommand{\\cnt}[1]{\\sharp(#1)}\n",
        "\\renewcommand{\\argmax}[1]{\\underset{#1}{\\operatorname{argmax}}}\n",
        "\\renewcommand{\\softmax}{\\operatorname{softmax}}\n",
        "\\renewcommand{\\Prob}{\\Pr}\n",
        "\\renewcommand{\\given}{\\,|\\,}\n",
        "$$"
      ]
    },
    {
      "cell_type": "markdown",
      "id": "025834ff",
      "metadata": {
        "tags": [
          "remove_for_latex"
        ],
        "id": "025834ff"
      },
      "source": [
        "# Course 236299\n",
        "## Lab 1-5 – Scaling up: Huggingface Datasets, Tokenizers, and PyTorch"
      ]
    },
    {
      "cell_type": "markdown",
      "id": "44bd8de3",
      "metadata": {
        "id": "44bd8de3"
      },
      "source": [
        "As you've seen, a typical pipeline for NLP applications based on supervised machine learning involves several standard components:\n",
        "\n",
        "1. Loading of annotated textual corpora.\n",
        "2. Tokenization and normalization of the text.\n",
        "3. Distributing instances into subcorpora, for instance, training, development, and test corpora.\n",
        "4. Training of models on training data, using development data for model selection.\n",
        "5. Evaluation of the models on test data.\n",
        "\n",
        "Rather than recapitulate all of these component tasks for each application, standard packages have been developed to facilitate them. In order to facilitate your own experimentation, it's time to make use of some of these packages to scale up your ability to build and test models. That is the subject of this lab.\n",
        "\n",
        "[Huggingface](https://huggingface.co) is a supplier of open tools for a variety of machine learning applications. Huggingface's `datasets` and `tokenizers` libraries provide a uniform system for establishing dataset objects that contain multiple examples, each of which may have multiple features. These libraries provide functions to preprocess, tokenize, or postprocess the data. Dataset objects can be easily split into parts (training and test, for instance), or turned into a sequence of small batches for processing by models. Most importantly, as you will see in future labs, these data loading libraries can be easily integrated with Huggingface's `transformers` library which is widely used in NLP applications these days.\n",
        "\n",
        "This lab provides an introduction to using `datasets`, `tokenizers`, and PyTorch in preparation for its appearance in later labs and homework problem sets.\n",
        "\n",
        "After this lab, you should be able to\n",
        "\n",
        "* Read data loading code implemented using `datasets` and `tokenizers` and understand what it is intending to accomplish.\n",
        "* Run experiments training and testing simple feed-forward neural networks using PyTorch."
      ]
    },
    {
      "cell_type": "markdown",
      "id": "b8b047ff",
      "metadata": {
        "id": "b8b047ff"
      },
      "source": [
        "New bits of Python used for the first time in the *distribution version* of this lab include:\n",
        "\n",
        "* Datasets\n",
        "    * [`datasets.load_dataset`](https://huggingface.co/docs/datasets/loading)\n",
        "\n",
        "    * [`datasets.Dataset`](https://huggingface.co/docs/datasets/package_reference/main_classes#datasets.Dataset)\n",
        "    * `datasets.Dataset.shuffle`\n",
        "    * `datasets.Dataset.train_test_split`\n",
        "    * `datasets.Dataset.add_column`\n",
        "    * `datasets.Dataset.map`\n",
        "    * `datasets.Dataset.class_encode_column`\n",
        "    * `datasets.Dataset.align_labels_with_mapping`\n",
        "   \n",
        "* Tokenizers\n",
        "    * [`tokenizers.Tokenizer`](https://huggingface.co/docs/tokenizers/pipeline)\n",
        "    * `tokenizer.Tokenizer.encode`\n",
        "    * `tokenizer.Tokenizer.decode`\n",
        "    * `tokenizer.Tokenizer.get_vocab`\n",
        "    * `tokenizer.Tokenizer.train_from_iterator`\n",
        "    * `tokenizer.processors.TemplateProcessing`\n",
        "\n",
        "* Transformers\n",
        "    * [`transformers.PreTrainedTokenizerFast`](https://huggingface.co/docs/transformers/fast_tokenizers)\n",
        "    \n",
        "* Torch\n",
        "    * [`torch.utils.data.DataLoader`](https://pytorch.org/docs/stable/data.html)\n",
        "    * [`torch.nn.Module.eval`](https://pytorch.org/docs/stable/generated/torch.nn.Module.html#torch.nn.Module.eval)\n",
        "    * `torch.nn.Linear`\n",
        "    * `torch.nn.Sigmoid`\n",
        "    * `torch.distributions.normal.Normal`\n",
        "    * `torch.distributions.uniform.Uniform`\n",
        "\n",
        "\n",
        "* `tqdm.tqdm` (for generating progress bars)\n",
        "\n",
        "New bits of Python used for the first time in the *solution set* for this lab, and which you may therefore find useful:\n",
        "\n",
        "* [`torch.Tensor.backward`](https://pytorch.org/docs/stable/autograd.html#torch.Tensor.backward)\n",
        "* [`torch.optim.Optimizer.step`](https://pytorch.org/docs/stable/generated/torch.optim.Optimizer.step.html#torch.optim.Optimizer.step)"
      ]
    },
    {
      "cell_type": "markdown",
      "id": "287f7d50",
      "metadata": {
        "id": "287f7d50"
      },
      "source": [
        "# Preparation – Loading packages and data {-}"
      ]
    },
    {
      "cell_type": "code",
      "execution_count": 3,
      "id": "43084b1c",
      "metadata": {
        "deletable": false,
        "editable": false,
        "id": "43084b1c"
      },
      "outputs": [],
      "source": [
        "import copy\n",
        "import math\n",
        "import random\n",
        "import matplotlib.pyplot as plt\n",
        "import os\n",
        "import re\n",
        "import sys\n",
        "import warnings\n",
        "import wget\n",
        "import csv\n",
        "\n",
        "import torch\n",
        "import torch.distributions as ds\n",
        "import torch.nn as nn\n",
        "import torch.nn.functional as F\n",
        "import datasets\n",
        "\n",
        "from copy import deepcopy\n",
        "\n",
        "from datasets import load_dataset\n",
        "from tokenizers import Tokenizer\n",
        "from tokenizers.pre_tokenizers import Whitespace\n",
        "from tokenizers.processors import TemplateProcessing\n",
        "from tokenizers import normalizers\n",
        "from tokenizers.models import WordLevel\n",
        "from tokenizers.trainers import WordLevelTrainer\n",
        "\n",
        "from transformers import PreTrainedTokenizerFast\n",
        "\n",
        "from torch import optim\n",
        "from tqdm import tqdm"
      ]
    },
    {
      "cell_type": "code",
      "execution_count": 4,
      "id": "66633f98",
      "metadata": {
        "colab": {
          "base_uri": "https://localhost:8080/"
        },
        "id": "66633f98",
        "outputId": "f9d19e33-f2c8-435e-c487-66d9a3318264"
      },
      "outputs": [
        {
          "output_type": "stream",
          "name": "stdout",
          "text": [
            "cpu\n"
          ]
        }
      ],
      "source": [
        "# Set up plotting\n",
        "plt.style.use('tableau-colorblind10')\n",
        "\n",
        "# Fix random seed for replicability\n",
        "random_seed = 1234\n",
        "random.seed(random_seed)\n",
        "torch.manual_seed(random_seed)\n",
        "\n",
        "## GPU check\n",
        "device = torch.device(\"cuda\" if torch.cuda.is_available() else \"cpu\")\n",
        "print(device)"
      ]
    },
    {
      "cell_type": "markdown",
      "id": "cea284b8",
      "metadata": {
        "id": "cea284b8"
      },
      "source": [
        "# Manipulating text corpora with `datasets`"
      ]
    },
    {
      "cell_type": "markdown",
      "id": "ec21f2e6",
      "metadata": {
        "id": "ec21f2e6"
      },
      "source": [
        "You'll use Huggingface's `datasets` to load the _Green Eggs and Ham_ (GEaH) dataset.\n",
        "\n",
        "We start with reading in the data and performing some ad hoc cleaning (removing comment lines and blank lines)."
      ]
    },
    {
      "cell_type": "code",
      "execution_count": 5,
      "id": "0a96eae4",
      "metadata": {
        "id": "0a96eae4"
      },
      "outputs": [],
      "source": [
        "def strip_file(text):\n",
        "    \"\"\"strip #comments and empty lines from `text` string\"\"\"\n",
        "    result = \"\"\n",
        "    for line in text.split(\"\\n\"):\n",
        "        line = line.strip()              # trim whitespace\n",
        "        line = re.sub('#.*$', '', line)  # trim comments\n",
        "        if line != '':                   # drop blank lines\n",
        "            result += line + '\\n'\n",
        "    return result\n",
        "\n",
        "# Read the GEaH data and write out a corresponding CSV file\n",
        "os.makedirs('data', exist_ok=True)\n",
        "wget.download(\"https://github.com/nlp-236299/data/raw/master/Seuss/seuss - 1960 - green eggs and ham.txt\", out=\"data/\")\n",
        "with open('data/seuss - 1960 - green eggs and ham.txt', 'r') as fin:\n",
        "    with open('data/geah.csv', 'w') as fout:\n",
        "        writer = csv.writer(fout)\n",
        "        writer.writerow(('label','text'))\n",
        "        text = strip_file(fin.read())\n",
        "        for line in text.strip().split('\\n'):\n",
        "            label, text = line.split('\\t')\n",
        "            writer.writerow((label, text))"
      ]
    },
    {
      "cell_type": "markdown",
      "id": "d38f1bb0",
      "metadata": {
        "id": "d38f1bb0"
      },
      "source": [
        "## Constructing training and test datasets\n",
        "\n",
        "Take a look at the file `geah.csv`, which we've just processed and placed into the sibling `data` folder."
      ]
    },
    {
      "cell_type": "code",
      "execution_count": 6,
      "id": "720960ba",
      "metadata": {
        "colab": {
          "base_uri": "https://localhost:8080/"
        },
        "id": "720960ba",
        "outputId": "484fdd9f-75a6-4d83-94ea-76479496a9cf"
      },
      "outputs": [
        {
          "output_type": "stream",
          "name": "stdout",
          "text": [
            "label,text\n",
            "SAM,I am Sam.\n",
            "SAM,I am Sam.\n",
            "SAM,Sam I am.\n",
            "GUY,That Sam-I-am!\n",
            "GUY,That Sam-I-am!\n",
            "GUY,I do not like that Sam-I-am!\n",
            "SAM,Do you like green eggs and ham?\n",
            "GUY,\"I do not like them, Sam-I-am.\"\n",
            "GUY,I do not like green eggs and ham.\n"
          ]
        }
      ],
      "source": [
        "shell('head \"data/geah.csv\"')"
      ]
    },
    {
      "cell_type": "markdown",
      "id": "8ed58359",
      "metadata": {
        "id": "8ed58359"
      },
      "source": [
        "Notice the structure of this corpus. Each line contains a sentence from the book, preceded by a label that provides the speaker of that sentence. The speaker and sentence are separated by a comma. The data is thus set up properly for using Huggingface's [`datasets.load_dataset`](https://huggingface.co/docs/datasets/loading) using its `\"CSV\"` (comma-separated values) format."
      ]
    },
    {
      "cell_type": "markdown",
      "id": "86d1ad6a",
      "metadata": {
        "deletable": false,
        "editable": false,
        "id": "86d1ad6a"
      },
      "source": [
        "Now, you can set up the dataset using [`load_dataset`](https://huggingface.co/docs/datasets/loading). It should look for the CSV data in the file `data/geah.csv`, and should pass the argument `split='all'` such that a `dataset.Dataset` object instead of `dataset.DatasetDict` is returned. We'll call the dataset `geah`.\n",
        "\n",
        "<!--\n",
        "BEGIN QUESTION\n",
        "name: dataset_setup\n",
        "-->"
      ]
    },
    {
      "cell_type": "code",
      "execution_count": 7,
      "id": "30a43cfe",
      "metadata": {
        "colab": {
          "base_uri": "https://localhost:8080/",
          "height": 49,
          "referenced_widgets": [
            "20e7be3170134582968dc83d801acd3a",
            "bbcc8bf86ace46ff892d32f5502699fb",
            "617767ad2738446aaf6f31f0b0611324",
            "6bbe1dcf15514ae5a22b80995ef1ce53",
            "46274b56775340bcbcf90bf1e02efd1e",
            "0b8ec68e039c4db399da084d406a0759",
            "b2bdca776651493b87498cc42bb58909",
            "01fc53e4d38b44838f30249c8bac0696",
            "b202ecc4f4274de693cd5e7fa285ef4e",
            "33d7eda747c04527a2f208469797f9d4",
            "22188b47124d415689677c9e2f513ba9"
          ]
        },
        "id": "30a43cfe",
        "outputId": "c70030d1-8367-4a2b-aa3a-ba44b42a8b81"
      },
      "outputs": [
        {
          "output_type": "display_data",
          "data": {
            "text/plain": [
              "Generating train split: 0 examples [00:00, ? examples/s]"
            ],
            "application/vnd.jupyter.widget-view+json": {
              "version_major": 2,
              "version_minor": 0,
              "model_id": "20e7be3170134582968dc83d801acd3a"
            }
          },
          "metadata": {}
        }
      ],
      "source": [
        "#TODO: Set up the dataset using `load_dataset`. You should pass\n",
        "# `split='all'` such that a `dataset.Dataset` object is returned.\n",
        "geah = load_dataset(\"csv\", data_files=\"data/geah.csv\", split='all')"
      ]
    },
    {
      "cell_type": "code",
      "execution_count": 8,
      "id": "352da137",
      "metadata": {
        "deletable": false,
        "editable": false,
        "colab": {
          "base_uri": "https://localhost:8080/",
          "height": 46
        },
        "id": "352da137",
        "outputId": "0b5b5fef-4b2a-4c45-e58f-3ea49acf9568"
      },
      "outputs": [
        {
          "output_type": "execute_result",
          "data": {
            "text/plain": [
              "\n",
              "    All tests passed!\n",
              "    "
            ],
            "text/html": [
              "\n",
              "    \n",
              "    \n",
              "        <p>All tests passed!</p>\n",
              "    \n",
              "    "
            ]
          },
          "metadata": {},
          "execution_count": 8
        }
      ],
      "source": [
        "grader.check(\"dataset_setup\")"
      ]
    },
    {
      "cell_type": "markdown",
      "id": "7369f71d",
      "metadata": {
        "id": "7369f71d"
      },
      "source": [
        "We can see that the loaded dataset has two features: label and text."
      ]
    },
    {
      "cell_type": "code",
      "execution_count": 9,
      "id": "f05dfd7e",
      "metadata": {
        "colab": {
          "base_uri": "https://localhost:8080/"
        },
        "id": "f05dfd7e",
        "outputId": "91cb2fd4-9a1b-46d0-9f0c-16f0ed0715ea"
      },
      "outputs": [
        {
          "output_type": "execute_result",
          "data": {
            "text/plain": [
              "Dataset({\n",
              "    features: ['label', 'text'],\n",
              "    num_rows: 139\n",
              "})"
            ]
          },
          "metadata": {},
          "execution_count": 9
        }
      ],
      "source": [
        "geah"
      ]
    },
    {
      "cell_type": "markdown",
      "id": "3d411f32",
      "metadata": {
        "id": "3d411f32"
      },
      "source": [
        "We can access examples from this dataset simply by indexing it similar to how we index a Python list."
      ]
    },
    {
      "cell_type": "code",
      "execution_count": 10,
      "id": "efc0e169",
      "metadata": {
        "colab": {
          "base_uri": "https://localhost:8080/"
        },
        "id": "efc0e169",
        "outputId": "bca9b4ae-7132-4f32-816d-c45cf09e6ca2"
      },
      "outputs": [
        {
          "output_type": "execute_result",
          "data": {
            "text/plain": [
              "{'label': 'SAM', 'text': 'I am Sam.'}"
            ]
          },
          "metadata": {},
          "execution_count": 10
        }
      ],
      "source": [
        "# The first example\n",
        "geah[0]"
      ]
    },
    {
      "cell_type": "code",
      "execution_count": 11,
      "id": "6bce33d2",
      "metadata": {
        "colab": {
          "base_uri": "https://localhost:8080/"
        },
        "id": "6bce33d2",
        "outputId": "5253d261-cbfb-4af8-f49d-aa35a75b438c"
      },
      "outputs": [
        {
          "output_type": "execute_result",
          "data": {
            "text/plain": [
              "{'label': ['SAM', 'SAM', 'GUY', 'GUY'],\n",
              " 'text': ['I am Sam.', 'Sam I am.', 'That Sam-I-am!', 'That Sam-I-am!']}"
            ]
          },
          "metadata": {},
          "execution_count": 11
        }
      ],
      "source": [
        "# The second to the fifth examples\n",
        "geah[1:5]"
      ]
    },
    {
      "cell_type": "markdown",
      "id": "344c3c21",
      "metadata": {
        "deletable": false,
        "editable": false,
        "id": "344c3c21"
      },
      "source": [
        "All [`dataset.Dataset`](https://huggingface.co/docs/datasets/package_reference/main_classes#datasets.Dataset) objects have a [`train_test_split`](https://huggingface.co/docs/datasets/package_reference/main_classes#datasets.Dataset.train_test_split) method that splits the dataset into two pieces, for instance, to have a separate training and test set. Use the `train_test_split` method to generate a 70%/30% split of the GEaH corpus into two subsets called `train` and `test`. You should pass `seed=random_seed` to make sure the splitting is deterministic and to pass the unit tests.\n",
        "<!--\n",
        "BEGIN QUESTION\n",
        "name: dataset_split\n",
        "-->"
      ]
    },
    {
      "cell_type": "code",
      "execution_count": 12,
      "id": "1e52194f",
      "metadata": {
        "id": "1e52194f"
      },
      "outputs": [],
      "source": [
        "#TODO: Split geah into 70% training data and 30% test data\n",
        "# Make sure to pass `random_seed` as the seed.\n",
        "train_test = geah.train_test_split(test_size=0.3, seed=random_seed)\n",
        "train = train_test['train']\n",
        "test = train_test['test']"
      ]
    },
    {
      "cell_type": "code",
      "execution_count": 13,
      "id": "e38b0753",
      "metadata": {
        "deletable": false,
        "editable": false,
        "colab": {
          "base_uri": "https://localhost:8080/",
          "height": 46
        },
        "id": "e38b0753",
        "outputId": "9579d6e7-f94a-4d6b-af76-ef7042912e71"
      },
      "outputs": [
        {
          "output_type": "execute_result",
          "data": {
            "text/plain": [
              "\n",
              "    All tests passed!\n",
              "    "
            ],
            "text/html": [
              "\n",
              "    \n",
              "    \n",
              "        <p>All tests passed!</p>\n",
              "    \n",
              "    "
            ]
          },
          "metadata": {},
          "execution_count": 13
        }
      ],
      "source": [
        "grader.check(\"dataset_split\")"
      ]
    },
    {
      "cell_type": "markdown",
      "id": "51d14609",
      "metadata": {
        "id": "51d14609"
      },
      "source": [
        "For the label feature, we can convert it to integer label ids to facilitate processing it with models such as neural networks using [`datasets.Dataset.class_encode_column`](https://huggingface.co/docs/datasets/v2.12.0/en/package_reference/main_classes#datasets.Dataset.class_encode_column)."
      ]
    },
    {
      "cell_type": "code",
      "execution_count": 14,
      "id": "1ba979e0",
      "metadata": {
        "colab": {
          "base_uri": "https://localhost:8080/",
          "height": 177,
          "referenced_widgets": [
            "87cef226847a45e29645a4a79f5064cd",
            "8e0e39d859f04853aee61a7b9be3dea2",
            "8338aa8978e94b6aae66fb3d489158c5",
            "21eaab0f62e648898986b97622033841",
            "60b414377b8b4580bbaca992ef381f04",
            "ccde23b4e5b94f1f9b65760287d80084",
            "1612cec72db844b386abed9cbc3c3d00",
            "84397ffb41494ae8a6b90e037f846b9c",
            "ca66ee5de39242c38982d60169fd12da",
            "4be95f2497e044fa818ee71968904069",
            "bcb97451476948d5a982a8773eea0312",
            "756af8c905234eef994aea186612fdfd",
            "ab5634c26aff419cb21930dee39948a8",
            "3afe8e71e16a4f48a7371b53f791aa92",
            "26f6c445c4334a6f8b2dcbd798ce99f9",
            "8deba076ea9e4853b55019e3d8ebf480",
            "978bc5fe39924ece8c522e6eb822cfc1",
            "5ad0b522f3f2447599e6f491a2292cfe",
            "562cc49771054cb1b9088235d68963d6",
            "e3f1854e66054b118db50fd5260db57c",
            "01b3533df71546019671751caf5bb2f9",
            "295208fcbaa0480d9bf226731886a78d",
            "6e1038a882a04d9bb3154f6495e5aea8",
            "6a08aaf3c385456788d018439e3c4c21",
            "818adb7e63b74625ae3891018da9a8b6",
            "6848e43513a343bfab6eb192be16263c",
            "7dbaff9c74e7496494648b014e3b1568",
            "298bcb03960d4ab396a868a335f83b90",
            "a63e3c477a5c4e1fbeb90423bdadaa68",
            "6d3c48a432544fb2b1e8d9d9a7208a50",
            "176a874ebf864ccbbe6d592c01fb00d6",
            "c824f9f58bc34ea4aa257d5ca57d02b5",
            "82ac38f5e9b44a13bd3ad8ac30c05637",
            "27360d6803384ae9a969df1a1abc5ac4",
            "9494ab78de424d26b2f6aa8467bd86e0",
            "930c28a2d9d0485fb1992118061c4f71",
            "2cb89fcda7584a60a3e3d7c7e4f1ffef",
            "5a6867a8e6e44320af44ea5b34daaaae",
            "843aa3bcbcbf4f07bb07d63081e8da48",
            "bd1bfc90b1df4981a2c593ed40d933bb",
            "35cd262c581e48c48b8f353b0c16c47c",
            "fa3944b5cb7d454386e36c03cae5434d",
            "3e35e025e5eb41ab86bb39b83008dffa",
            "3b127d8b7bcf4eec8a912d274a019ea1",
            "9e149592072d41a1ac4d90b59c9876f5",
            "5b8fdd4f3c6f42e0915c2defc28e0794",
            "d9963d2561e648da977e2ce606c1efb4",
            "0e9c688338e44d2c8eeb3f899b822d41",
            "9cb8ef0a846f4a47894c9af592c1eb8f",
            "95da6627e5814ecf8d610b5a966c181a",
            "60c72153bfc04fbf82fc433f9acb30db",
            "f1d636bae8074ffda3a09607bcb2cfdb",
            "4750de40e3df4d938bf8f9adb653034d",
            "dcb2c48652e74116880e62f97cfcc39e",
            "37a183265ed2416cab1bf3a6f9d8ee01"
          ]
        },
        "id": "1ba979e0",
        "outputId": "1656a9e3-290e-4970-be1b-330df83ac9fe"
      },
      "outputs": [
        {
          "output_type": "display_data",
          "data": {
            "text/plain": [
              "Flattening the indices:   0%|          | 0/97 [00:00<?, ? examples/s]"
            ],
            "application/vnd.jupyter.widget-view+json": {
              "version_major": 2,
              "version_minor": 0,
              "model_id": "87cef226847a45e29645a4a79f5064cd"
            }
          },
          "metadata": {}
        },
        {
          "output_type": "display_data",
          "data": {
            "text/plain": [
              "Flattening the indices:   0%|          | 0/42 [00:00<?, ? examples/s]"
            ],
            "application/vnd.jupyter.widget-view+json": {
              "version_major": 2,
              "version_minor": 0,
              "model_id": "756af8c905234eef994aea186612fdfd"
            }
          },
          "metadata": {}
        },
        {
          "output_type": "display_data",
          "data": {
            "text/plain": [
              "Casting to class labels:   0%|          | 0/97 [00:00<?, ? examples/s]"
            ],
            "application/vnd.jupyter.widget-view+json": {
              "version_major": 2,
              "version_minor": 0,
              "model_id": "6e1038a882a04d9bb3154f6495e5aea8"
            }
          },
          "metadata": {}
        },
        {
          "output_type": "display_data",
          "data": {
            "text/plain": [
              "Casting to class labels:   0%|          | 0/42 [00:00<?, ? examples/s]"
            ],
            "application/vnd.jupyter.widget-view+json": {
              "version_major": 2,
              "version_minor": 0,
              "model_id": "27360d6803384ae9a969df1a1abc5ac4"
            }
          },
          "metadata": {}
        },
        {
          "output_type": "display_data",
          "data": {
            "text/plain": [
              "Aligning the labels:   0%|          | 0/42 [00:00<?, ? examples/s]"
            ],
            "application/vnd.jupyter.widget-view+json": {
              "version_major": 2,
              "version_minor": 0,
              "model_id": "9e149592072d41a1ac4d90b59c9876f5"
            }
          },
          "metadata": {}
        }
      ],
      "source": [
        "train = train.add_column('label_id', train['label'])\n",
        "test = test.add_column('label_id', test['label'])\n",
        "train = train.class_encode_column('label_id')\n",
        "\n",
        "label2id = train.features['label_id']._str2int\n",
        "test = test.class_encode_column('label_id')\n",
        "test = test.align_labels_with_mapping(label2id, \"label_id\")"
      ]
    },
    {
      "cell_type": "markdown",
      "id": "528b7254",
      "metadata": {
        "id": "528b7254"
      },
      "source": [
        "The new feature `label_id` stores the label ids."
      ]
    },
    {
      "cell_type": "code",
      "execution_count": 15,
      "id": "ef7d14b6",
      "metadata": {
        "colab": {
          "base_uri": "https://localhost:8080/"
        },
        "id": "ef7d14b6",
        "outputId": "e2538722-0dfa-400e-acfb-0f3ffec1e605"
      },
      "outputs": [
        {
          "output_type": "execute_result",
          "data": {
            "text/plain": [
              "{'label': ['GUY', 'SAM', 'SAM', 'SAM'],\n",
              " 'text': ['I do!',\n",
              "  'Do you like green eggs and ham?',\n",
              "  'A train!',\n",
              "  'You may like them.'],\n",
              " 'label_id': [0, 1, 1, 1]}"
            ]
          },
          "metadata": {},
          "execution_count": 15
        }
      ],
      "source": [
        "train[1:5]"
      ]
    },
    {
      "cell_type": "markdown",
      "id": "5240dba8",
      "metadata": {
        "id": "5240dba8"
      },
      "source": [
        "## Tokenization\n",
        "\n",
        "Now let's turn our attention to text features. As we have explored in lab 1-1, text can be represented as a sequence of integer word ids. In Huggingface datasets, we need to create a tokenizer which both specifies how to tokenize text into a sequence of tokens and also internally maintains a _vocabulary_ which establishes the mapping from types to indices. We will use the training corpus to establish the vocabulary."
      ]
    },
    {
      "cell_type": "code",
      "execution_count": 16,
      "id": "b9b9934d",
      "metadata": {
        "id": "b9b9934d"
      },
      "outputs": [],
      "source": [
        "unk_token = '[UNK]' # a token representing unknown (out-of-vocabulary) tokens\n",
        "pad_token = '[PAD]' # a padding token\n",
        "\n",
        "# Instantiate a tokenizer\n",
        "tokenizer = Tokenizer(WordLevel(unk_token=unk_token))  # WordLevel is a simple tokenization model\n",
        "                                                       # that doesn't split the words\n",
        "tokenizer.pre_tokenizer = Whitespace()                 # pre-tokenizer splits the text into words\n",
        "tokenizer.normalizer = normalizers.Lowercase()         # normalizer lowercases the text\n",
        "\n",
        "# Build the vocabulary from training data\n",
        "trainer = WordLevelTrainer(special_tokens=[pad_token, unk_token]) # trainer is responsible for\n",
        "                                                                  # building the vocabulary\n",
        "tokenizer.train_from_iterator(train['text'], trainer=trainer)"
      ]
    },
    {
      "cell_type": "markdown",
      "id": "61ed26fa",
      "metadata": {
        "id": "61ed26fa"
      },
      "source": [
        "Let's try out the tokenizer on some examples."
      ]
    },
    {
      "cell_type": "code",
      "execution_count": 17,
      "id": "3815a725",
      "metadata": {
        "colab": {
          "base_uri": "https://localhost:8080/"
        },
        "id": "3815a725",
        "outputId": "b7ca7ace-52b2-4495-fdfa-9787d5bf0da1"
      },
      "outputs": [
        {
          "output_type": "stream",
          "name": "stdout",
          "text": [
            "tokens: ['i', 'am', 'sam', '.']\n",
            "word ids: [3, 19, 16, 2]\n",
            "converted back: i am sam .\n"
          ]
        }
      ],
      "source": [
        "encoded = tokenizer.encode('I am Sam.')\n",
        "print (f'tokens: {encoded.tokens}')\n",
        "print (f'word ids: {encoded.ids}')\n",
        "print (f'converted back: {tokenizer.decode(encoded.ids, skip_special_tokens=False)}')"
      ]
    },
    {
      "cell_type": "code",
      "execution_count": 18,
      "id": "a70d61d7",
      "metadata": {
        "colab": {
          "base_uri": "https://localhost:8080/"
        },
        "id": "a70d61d7",
        "outputId": "7d2b0249-a224-4b25-b4cb-dc502b013edf"
      },
      "outputs": [
        {
          "output_type": "stream",
          "name": "stdout",
          "text": [
            "tokens:         ['[UNK]', '[UNK]', 'with', '[UNK]', '[UNK]', '[UNK]', '.']\n",
            "word ids:       [1, 1, 20, 1, 1, 1, 2]\n",
            "converted back: [UNK] [UNK] with [UNK] [UNK] [UNK] .\n"
          ]
        }
      ],
      "source": [
        "encoded = tokenizer.encode('An example with many unknown tokens.')\n",
        "print (f'tokens:         {encoded.tokens}')\n",
        "print (f'word ids:       {encoded.ids}')\n",
        "print (f'converted back: {tokenizer.decode(encoded.ids, skip_special_tokens=False)}')"
      ]
    },
    {
      "cell_type": "markdown",
      "id": "5b7f629c",
      "metadata": {
        "id": "5b7f629c"
      },
      "source": [
        "### A digression: Postprocessing\n",
        "\n",
        "In future labs we will also use `tokenizer.post_processor` which can be used to post-process the tokenized text. In the following example we will add exclamation points `!` in the beginning and end of the tokenized text using [TemplateProcessing](https://huggingface.co/docs/tokenizers/v0.13.3/en/api/post-processors#tokenizers.processors.TemplateProcessing)."
      ]
    },
    {
      "cell_type": "code",
      "execution_count": 19,
      "id": "e816d786",
      "metadata": {
        "colab": {
          "base_uri": "https://localhost:8080/"
        },
        "id": "e816d786",
        "outputId": "4d837f02-7602-465b-9c9e-2992a546da99"
      },
      "outputs": [
        {
          "output_type": "stream",
          "name": "stdout",
          "text": [
            "tokens: ['!', 'i', 'am', 'sam', '.', '!']\n",
            "word ids: [7, 3, 19, 16, 2, 7]\n",
            "converted back: ! i am sam . !\n"
          ]
        }
      ],
      "source": [
        "exclamation_point = '!'\n",
        "post_processing_tokenizer = deepcopy(tokenizer) # we clone the tokenizer for this example\n",
        "post_processing_tokenizer.post_processor = \\\n",
        "  TemplateProcessing(single=f\"{exclamation_point} $A {exclamation_point}\",\n",
        "                     special_tokens=[(exclamation_point,\n",
        "                                      post_processing_tokenizer.token_to_id(exclamation_point))])\n",
        "\n",
        "encoded = post_processing_tokenizer.encode('I am Sam.')\n",
        "print (f'tokens: {encoded.tokens}')\n",
        "print (f'word ids: {encoded.ids}')\n",
        "print (f'converted back: {post_processing_tokenizer.decode(encoded.ids, skip_special_tokens=False)}')"
      ]
    },
    {
      "cell_type": "markdown",
      "id": "20be9f45",
      "metadata": {
        "id": "20be9f45"
      },
      "source": [
        "With a tokenizer, we can convert text strings into integer word ids using `datasets.Dataset.map`. But first we need to wrap `tokenizer` with the [`transformers.PreTrainedTokenizerFast`](https://huggingface.co/docs/transformers/v4.26.1/en/main_classes/tokenizer#transformers.PreTrainedTokenizerFast) class. `transformers.PreTrainedTokenizerFast` provide a convenient interface for tokenizers that are compatible with PyTorch tensors."
      ]
    },
    {
      "cell_type": "code",
      "execution_count": 20,
      "id": "e6579a33",
      "metadata": {
        "id": "e6579a33"
      },
      "outputs": [],
      "source": [
        "hf_tokenizer = PreTrainedTokenizerFast(tokenizer_object=tokenizer,\n",
        "                                       pad_token=pad_token,\n",
        "                                       unk_token=unk_token)"
      ]
    },
    {
      "cell_type": "markdown",
      "id": "dca03216",
      "metadata": {
        "id": "dca03216"
      },
      "source": [
        "This `hf_tokenizer` takes in a text string and converts it to a sequence of word ids stored in `input_ids` of the returned dictionary. (You can ignore `token_type_ids` and `attention_mask` for now.)"
      ]
    },
    {
      "cell_type": "code",
      "execution_count": 21,
      "id": "62fc7dbd",
      "metadata": {
        "colab": {
          "base_uri": "https://localhost:8080/"
        },
        "id": "62fc7dbd",
        "outputId": "00e507dc-8316-4b00-f4a5-52b3d6be5b9d"
      },
      "outputs": [
        {
          "output_type": "execute_result",
          "data": {
            "text/plain": [
              "{'input_ids': [3, 19, 16, 2], 'token_type_ids': [0, 0, 0, 0], 'attention_mask': [1, 1, 1, 1]}"
            ]
          },
          "metadata": {},
          "execution_count": 21
        }
      ],
      "source": [
        "text = 'I am Sam.'\n",
        "hf_tokenizer(text)"
      ]
    },
    {
      "cell_type": "markdown",
      "id": "da910461",
      "metadata": {
        "id": "da910461"
      },
      "source": [
        "We can use the `hf_tokenizer` to get a list of tokens."
      ]
    },
    {
      "cell_type": "code",
      "execution_count": 22,
      "id": "bc44c167",
      "metadata": {
        "colab": {
          "base_uri": "https://localhost:8080/"
        },
        "id": "bc44c167",
        "outputId": "78ce8424-e9d8-4d3b-ea61-adef1b22d708"
      },
      "outputs": [
        {
          "output_type": "execute_result",
          "data": {
            "text/plain": [
              "['i', 'am', 'sam', '.']"
            ]
          },
          "metadata": {},
          "execution_count": 22
        }
      ],
      "source": [
        "hf_tokenizer.tokenize(text)"
      ]
    },
    {
      "cell_type": "markdown",
      "id": "a779a43d",
      "metadata": {
        "id": "a779a43d"
      },
      "source": [
        "`hf_tokenizer` can also be used to decode some encoded text."
      ]
    },
    {
      "cell_type": "code",
      "execution_count": 23,
      "id": "e173a762",
      "metadata": {
        "colab": {
          "base_uri": "https://localhost:8080/"
        },
        "id": "e173a762",
        "outputId": "f4477528-8dd8-4935-eb0d-588cd3f7d08f"
      },
      "outputs": [
        {
          "output_type": "stream",
          "name": "stdout",
          "text": [
            "text: I am Sam.\n",
            "encoded text: [3, 19, 16, 2]\n",
            "decoded text: i am sam .\n",
            "decoded token list: ['i', 'am', 'sam', '.']\n"
          ]
        }
      ],
      "source": [
        "encoded_text = hf_tokenizer(text).input_ids\n",
        "decoded_text = hf_tokenizer.decode(encoded_text)\n",
        "decoded_tokens = hf_tokenizer.convert_ids_to_tokens(encoded_text)\n",
        "print(f\"text: {text}\")\n",
        "print(f\"encoded text: {encoded_text}\")\n",
        "print(f\"decoded text: {decoded_text}\")\n",
        "print(f\"decoded token list: {decoded_tokens}\")"
      ]
    },
    {
      "cell_type": "markdown",
      "id": "4a5fb7ea",
      "metadata": {
        "id": "4a5fb7ea"
      },
      "source": [
        "Note that `hf_tokenizer` also stores the vocabulary and the special tokens we provided it in the initialization."
      ]
    },
    {
      "cell_type": "code",
      "execution_count": 24,
      "id": "e65576e0",
      "metadata": {
        "colab": {
          "base_uri": "https://localhost:8080/"
        },
        "id": "e65576e0",
        "outputId": "9eddb941-2e37-43ef-a0d2-03a06c72f7c3"
      },
      "outputs": [
        {
          "output_type": "stream",
          "name": "stdout",
          "text": [
            "hf_tokenizer.unk_token: [UNK]\n",
            "hf_tokenizer.unk_token_id: 1\n",
            "hf_tokenizer.pad_token: [PAD]\n",
            "hf_tokenizer.pad_token_id: 0\n",
            "hf_tokenizer.get_vocab():\n",
            " {'mouse': 32, 'boat': 56, 'like': 8, 'with': 20, '.': 2, 'good': 51, 'green': 26, 'may': 45, ',': 9, 'thank': 52, 'could': 22, 'and': 13, 'dark': 31, 'i': 3, 'say': 38, '...': 55, 'try': 39, '[PAD]': 0, 'anywhere': 40, 'or': 34, 'will': 18, 'they': 53, 'house': 35, 'so': 36, 'eggs': 25, 'eat': 15, 'train': 28, 'if': 57, 'sam': 16, 'here': 23, 'be': 41, 'tree': 54, 'fox': 42, 'in': 11, 'see': 48, 'me': 46, 'that': 49, '-': 14, 'box': 37, '?': 21, '!': 7, '[UNK]': 1, 'the': 24, 'would': 17, 'do': 10, 'a': 6, 'are': 50, 'car': 30, 'not': 4, 'on': 33, 'them': 5, 'am': 19, 'there': 29, 'ham': 27, 'goat': 43, 'let': 44, 'rain': 47, 'you': 12}\n",
            "len(hf_tokenizer) == len(hf_tokenizer.get_vocab()): 58\n"
          ]
        }
      ],
      "source": [
        "print(f\"hf_tokenizer.unk_token: {hf_tokenizer.unk_token}\")\n",
        "print(f\"hf_tokenizer.unk_token_id: {hf_tokenizer.unk_token_id}\")\n",
        "print(f\"hf_tokenizer.pad_token: {hf_tokenizer.pad_token}\")\n",
        "print(f\"hf_tokenizer.pad_token_id: {hf_tokenizer.pad_token_id}\")\n",
        "print(f\"hf_tokenizer.get_vocab():\\n {hf_tokenizer.get_vocab()}\")\n",
        "print(f\"len(hf_tokenizer) == len(hf_tokenizer.get_vocab()): {len(hf_tokenizer)}\")"
      ]
    },
    {
      "cell_type": "markdown",
      "id": "9db9d4d2",
      "metadata": {
        "id": "9db9d4d2"
      },
      "source": [
        "Now we can convert the training and test sets into word ids using [`datasets.Dataset.map`](https://huggingface.co/docs/datasets/v2.12.0/en/package_reference/main_classes#datasets.Dataset.map)."
      ]
    },
    {
      "cell_type": "code",
      "execution_count": 25,
      "id": "cf98d6ef",
      "metadata": {
        "colab": {
          "base_uri": "https://localhost:8080/",
          "height": 81,
          "referenced_widgets": [
            "395bb90731b642459839c6f0ac23313c",
            "6f47b1d822944a85a0c7f1e049ec8848",
            "bcf7cec6d02d481fbf1053bd2e372ef2",
            "43759e09958d41e5b195e46c21d4bcfb",
            "f40cb5e38a5b4c84826d6af142afdc19",
            "525e51c6ca9e437699bae274e31d44c7",
            "ccd47d7a981847908e95fb4ce67aa3dd",
            "828a378fb47440e4812f14966239d12a",
            "b3eedd4fa8764a6081b4fef8f806e038",
            "c822d5f7525b4e7b8cdb0269aa745ded",
            "e96d31e1fcde41c9988cb56be3da2e05",
            "f38a4ec086cc4d0a8bbd94f73cf6a676",
            "e7895679176a40729740c3aceffd097b",
            "39d0a31f42544fa1b0778d62fe0d87ce",
            "f855b2d600d049c298e7c2114c6b0b9d",
            "170a9b285c334d948afc822912aad48a",
            "5582aabff8dd4d6cbe41f89db26d84e9",
            "3e15d46cd4044314b4b8c6eacb7066ba",
            "60bd8d3607254a85b96d4e208c8a6a50",
            "5404ea6e042844f4ba52c87eb00b7adf",
            "4bd87dc41ff345319bf47888b2087168",
            "d4c8b37bfaa6447fa291eecd60717579"
          ]
        },
        "id": "cf98d6ef",
        "outputId": "d76c8b5a-0826-492c-dd7c-a0d241af1f71"
      },
      "outputs": [
        {
          "output_type": "display_data",
          "data": {
            "text/plain": [
              "Map:   0%|          | 0/97 [00:00<?, ? examples/s]"
            ],
            "application/vnd.jupyter.widget-view+json": {
              "version_major": 2,
              "version_minor": 0,
              "model_id": "395bb90731b642459839c6f0ac23313c"
            }
          },
          "metadata": {}
        },
        {
          "output_type": "display_data",
          "data": {
            "text/plain": [
              "Map:   0%|          | 0/42 [00:00<?, ? examples/s]"
            ],
            "application/vnd.jupyter.widget-view+json": {
              "version_major": 2,
              "version_minor": 0,
              "model_id": "f38a4ec086cc4d0a8bbd94f73cf6a676"
            }
          },
          "metadata": {}
        }
      ],
      "source": [
        "def encode(example):\n",
        "    return hf_tokenizer(example['text'])\n",
        "\n",
        "train = train.map(encode)\n",
        "test = test.map(encode)"
      ]
    },
    {
      "cell_type": "markdown",
      "id": "808a346d",
      "metadata": {
        "id": "808a346d"
      },
      "source": [
        "Let's take a look at one example from the mapped dataset. The new feature `input_ids` contain the word ids."
      ]
    },
    {
      "cell_type": "code",
      "execution_count": 26,
      "id": "b4bdbed1",
      "metadata": {
        "colab": {
          "base_uri": "https://localhost:8080/"
        },
        "id": "b4bdbed1",
        "outputId": "b8db59ae-377e-4374-df34-3557c7a40f2f"
      },
      "outputs": [
        {
          "output_type": "execute_result",
          "data": {
            "text/plain": [
              "{'label': 'SAM',\n",
              " 'text': 'Would you like them in a house?',\n",
              " 'label_id': 1,\n",
              " 'input_ids': [17, 12, 8, 5, 11, 6, 35, 21],\n",
              " 'token_type_ids': [0, 0, 0, 0, 0, 0, 0, 0],\n",
              " 'attention_mask': [1, 1, 1, 1, 1, 1, 1, 1]}"
            ]
          },
          "metadata": {},
          "execution_count": 26
        }
      ],
      "source": [
        "train[0]"
      ]
    },
    {
      "cell_type": "markdown",
      "id": "a1ac83b3",
      "metadata": {
        "id": "a1ac83b3"
      },
      "source": [
        "Again, we can view several examples at once."
      ]
    },
    {
      "cell_type": "code",
      "execution_count": 27,
      "id": "32167064",
      "metadata": {
        "colab": {
          "base_uri": "https://localhost:8080/"
        },
        "id": "32167064",
        "outputId": "e35914b8-4c8c-4a84-d8d3-9b501491f0b6"
      },
      "outputs": [
        {
          "output_type": "execute_result",
          "data": {
            "text/plain": [
              "{'label': ['GUY', 'SAM', 'SAM', 'SAM'],\n",
              " 'text': ['I do!',\n",
              "  'Do you like green eggs and ham?',\n",
              "  'A train!',\n",
              "  'You may like them.'],\n",
              " 'label_id': [0, 1, 1, 1],\n",
              " 'input_ids': [[3, 10, 7],\n",
              "  [10, 12, 8, 26, 25, 13, 27, 21],\n",
              "  [6, 28, 7],\n",
              "  [12, 45, 8, 5, 2]],\n",
              " 'token_type_ids': [[0, 0, 0],\n",
              "  [0, 0, 0, 0, 0, 0, 0, 0],\n",
              "  [0, 0, 0],\n",
              "  [0, 0, 0, 0, 0]],\n",
              " 'attention_mask': [[1, 1, 1],\n",
              "  [1, 1, 1, 1, 1, 1, 1, 1],\n",
              "  [1, 1, 1],\n",
              "  [1, 1, 1, 1, 1]]}"
            ]
          },
          "metadata": {},
          "execution_count": 27
        }
      ],
      "source": [
        "train[1:5]"
      ]
    },
    {
      "cell_type": "markdown",
      "id": "a73a2e0e",
      "metadata": {
        "id": "a73a2e0e"
      },
      "source": [
        "The text and label features now have vocabularies that maps the elements of the vocabulary to integer index representations of the elements, accessible via the below code."
      ]
    },
    {
      "cell_type": "code",
      "execution_count": 28,
      "id": "36ea78ff",
      "metadata": {
        "id": "36ea78ff"
      },
      "outputs": [],
      "source": [
        "text_vocab = tokenizer.get_vocab()\n",
        "label_vocab = train.features['label_id']._str2int"
      ]
    },
    {
      "cell_type": "code",
      "execution_count": 29,
      "id": "dc4ed484",
      "metadata": {
        "colab": {
          "base_uri": "https://localhost:8080/"
        },
        "id": "dc4ed484",
        "outputId": "d8370fcc-061f-4791-9a1b-efecdcf6bffd"
      },
      "outputs": [
        {
          "output_type": "execute_result",
          "data": {
            "text/plain": [
              "{'GUY': 0, 'SAM': 1}"
            ]
          },
          "metadata": {},
          "execution_count": 29
        }
      ],
      "source": [
        "label_vocab"
      ]
    },
    {
      "cell_type": "code",
      "execution_count": 30,
      "id": "bac98022",
      "metadata": {
        "colab": {
          "base_uri": "https://localhost:8080/"
        },
        "id": "bac98022",
        "outputId": "8fa2b99c-fb82-496c-8edf-ab3aae8b685b"
      },
      "outputs": [
        {
          "output_type": "execute_result",
          "data": {
            "text/plain": [
              "{'the': 24,\n",
              " 'do': 10,\n",
              " 'good': 51,\n",
              " '[PAD]': 0,\n",
              " 'they': 53,\n",
              " '[UNK]': 1,\n",
              " 'will': 18,\n",
              " 'car': 30,\n",
              " 'fox': 42,\n",
              " 'a': 6,\n",
              " 'them': 5,\n",
              " 'try': 39,\n",
              " 'anywhere': 40,\n",
              " 'or': 34,\n",
              " 'on': 33,\n",
              " 'be': 41,\n",
              " 'may': 45,\n",
              " 'and': 13,\n",
              " 'would': 17,\n",
              " '!': 7,\n",
              " 'with': 20,\n",
              " 'in': 11,\n",
              " 'that': 49,\n",
              " 'box': 37,\n",
              " 'me': 46,\n",
              " 'rain': 47,\n",
              " 'see': 48,\n",
              " 'there': 29,\n",
              " 'mouse': 32,\n",
              " 'not': 4,\n",
              " 'dark': 31,\n",
              " '-': 14,\n",
              " 'you': 12,\n",
              " 'here': 23,\n",
              " 'eggs': 25,\n",
              " 'tree': 54,\n",
              " 'eat': 15,\n",
              " 'thank': 52,\n",
              " 'train': 28,\n",
              " 'ham': 27,\n",
              " 'house': 35,\n",
              " 'goat': 43,\n",
              " 'i': 3,\n",
              " 'sam': 16,\n",
              " 'could': 22,\n",
              " ',': 9,\n",
              " 'green': 26,\n",
              " 'let': 44,\n",
              " 'so': 36,\n",
              " 'say': 38,\n",
              " '...': 55,\n",
              " 'are': 50,\n",
              " 'if': 57,\n",
              " 'am': 19,\n",
              " '?': 21,\n",
              " 'boat': 56,\n",
              " '.': 2,\n",
              " 'like': 8}"
            ]
          },
          "metadata": {},
          "execution_count": 30
        }
      ],
      "source": [
        "text_vocab"
      ]
    },
    {
      "cell_type": "markdown",
      "id": "fcd1d56d",
      "metadata": {
        "deletable": false,
        "editable": false,
        "id": "fcd1d56d"
      },
      "source": [
        "How many elements are there in these vocabularies? You can use the `len` function to find out.\n",
        "<!--\n",
        "BEGIN QUESTION\n",
        "name: vocab_sizes\n",
        "-->"
      ]
    },
    {
      "cell_type": "code",
      "execution_count": 31,
      "id": "b5afa020",
      "metadata": {
        "id": "b5afa020"
      },
      "outputs": [],
      "source": [
        "#TODO: Calculate the sizes of label_vocab and text_vocab\n",
        "label_vocab_size = len(label_vocab)\n",
        "text_vocab_size = len(text_vocab)"
      ]
    },
    {
      "cell_type": "code",
      "execution_count": 32,
      "id": "a3899dd5",
      "metadata": {
        "deletable": false,
        "editable": false,
        "colab": {
          "base_uri": "https://localhost:8080/",
          "height": 46
        },
        "id": "a3899dd5",
        "outputId": "8988c3b0-3055-452f-e992-7ffef255bd64"
      },
      "outputs": [
        {
          "output_type": "execute_result",
          "data": {
            "text/plain": [
              "\n",
              "    All tests passed!\n",
              "    "
            ],
            "text/html": [
              "\n",
              "    \n",
              "    \n",
              "        <p>All tests passed!</p>\n",
              "    \n",
              "    "
            ]
          },
          "metadata": {},
          "execution_count": 32
        }
      ],
      "source": [
        "grader.check(\"vocab_sizes\")"
      ]
    },
    {
      "cell_type": "code",
      "execution_count": 33,
      "id": "704d1a99",
      "metadata": {
        "colab": {
          "base_uri": "https://localhost:8080/"
        },
        "id": "704d1a99",
        "outputId": "942e9508-8150-48f8-a87f-5e758a2587c6"
      },
      "outputs": [
        {
          "output_type": "stream",
          "name": "stdout",
          "text": [
            "label vocabulary size is 2\n",
            "text vocabulary size is 58\n"
          ]
        }
      ],
      "source": [
        "print(f\"label vocabulary size is {label_vocab_size}\\n\"\n",
        "      f\"text vocabulary size is {text_vocab_size}\")"
      ]
    },
    {
      "cell_type": "markdown",
      "id": "ba2b42e3",
      "metadata": {
        "id": "ba2b42e3"
      },
      "source": [
        "## Operations over datasets\n",
        "\n",
        "We now have training and test datasets. You can experiment with the kinds of operations you'll need to do to implement models like Naive Bayes or logistic regression.\n",
        "\n",
        "For instance, you can inspect an example from the dataset."
      ]
    },
    {
      "cell_type": "code",
      "execution_count": 34,
      "id": "daa6a12c",
      "metadata": {
        "colab": {
          "base_uri": "https://localhost:8080/"
        },
        "id": "daa6a12c",
        "outputId": "ca187f3f-af1c-4c86-c143-a8a6ac06ce4e"
      },
      "outputs": [
        {
          "output_type": "stream",
          "name": "stdout",
          "text": [
            "text: I do!\n",
            "label: GUY\n"
          ]
        }
      ],
      "source": [
        "example = train[1] # the second instance\n",
        "print (f\"text: {example['text']}\\n\"\n",
        "       f\"label: {example['label']}\")"
      ]
    },
    {
      "cell_type": "markdown",
      "id": "13a8c008",
      "metadata": {
        "deletable": false,
        "editable": false,
        "id": "13a8c008"
      },
      "source": [
        "You might also need to iterate over the different class labels (`label_vocab`) or the word types (`text_vocab`). Define a function that iterates over a vocabulary and prints each one out in alphabetical order along with their corresponding ids like this:\n",
        "\n",
        "```\n",
        ">>> print_vocab(label_vocab)\n",
        "GUY: 0\n",
        "SAM: 1\n",
        "```\n",
        "\n",
        "<!--\n",
        "BEGIN QUESTION\n",
        "name: print_vocab\n",
        "-->"
      ]
    },
    {
      "cell_type": "code",
      "execution_count": 35,
      "id": "888dd0d4",
      "metadata": {
        "id": "888dd0d4"
      },
      "outputs": [],
      "source": [
        "#TODO: print out vocabulary in alphabetical order with ids\n",
        "def print_vocab(vocab):\n",
        "    for word in sorted(vocab): # gets a sorted *list* of the *keys* od the input dictionary\n",
        "        print(f\"{word}: {vocab[word]}\")"
      ]
    },
    {
      "cell_type": "code",
      "execution_count": 36,
      "id": "180837be",
      "metadata": {
        "deletable": false,
        "editable": false,
        "colab": {
          "base_uri": "https://localhost:8080/",
          "height": 46
        },
        "id": "180837be",
        "outputId": "8f0dbed1-5739-4439-e101-ac9124f73e08"
      },
      "outputs": [
        {
          "output_type": "execute_result",
          "data": {
            "text/plain": [
              "\n",
              "    All tests passed!\n",
              "    "
            ],
            "text/html": [
              "\n",
              "    \n",
              "    \n",
              "        <p>All tests passed!</p>\n",
              "    \n",
              "    "
            ]
          },
          "metadata": {},
          "execution_count": 36
        }
      ],
      "source": [
        "grader.check(\"print_vocab\")"
      ]
    },
    {
      "cell_type": "markdown",
      "id": "b6498d6e",
      "metadata": {
        "id": "b6498d6e"
      },
      "source": [
        " We can use the `print_vocab` function to print out the different class labels."
      ]
    },
    {
      "cell_type": "code",
      "execution_count": 37,
      "id": "0c08fa9a",
      "metadata": {
        "colab": {
          "base_uri": "https://localhost:8080/"
        },
        "id": "0c08fa9a",
        "outputId": "32dac6e1-a309-43c9-b85d-96eeac77e8c6"
      },
      "outputs": [
        {
          "output_type": "stream",
          "name": "stdout",
          "text": [
            "GUY: 0\n",
            "SAM: 1\n"
          ]
        }
      ],
      "source": [
        "print_vocab(label_vocab)"
      ]
    },
    {
      "cell_type": "markdown",
      "id": "01749eda",
      "metadata": {
        "id": "01749eda"
      },
      "source": [
        "Similarly, we can also print out `text_vocab`."
      ]
    },
    {
      "cell_type": "code",
      "execution_count": 38,
      "id": "a3d0ac2b",
      "metadata": {
        "colab": {
          "base_uri": "https://localhost:8080/"
        },
        "id": "a3d0ac2b",
        "outputId": "fe9efe35-82dc-4a17-ad06-3b7e0e96b1d6"
      },
      "outputs": [
        {
          "output_type": "stream",
          "name": "stdout",
          "text": [
            "!: 7\n",
            ",: 9\n",
            "-: 14\n",
            ".: 2\n",
            "...: 55\n",
            "?: 21\n",
            "[PAD]: 0\n",
            "[UNK]: 1\n",
            "a: 6\n",
            "am: 19\n",
            "and: 13\n",
            "anywhere: 40\n",
            "are: 50\n",
            "be: 41\n",
            "boat: 56\n",
            "box: 37\n",
            "car: 30\n",
            "could: 22\n",
            "dark: 31\n",
            "do: 10\n",
            "eat: 15\n",
            "eggs: 25\n",
            "fox: 42\n",
            "goat: 43\n",
            "good: 51\n",
            "green: 26\n",
            "ham: 27\n",
            "here: 23\n",
            "house: 35\n",
            "i: 3\n",
            "if: 57\n",
            "in: 11\n",
            "let: 44\n",
            "like: 8\n",
            "may: 45\n",
            "me: 46\n",
            "mouse: 32\n",
            "not: 4\n",
            "on: 33\n",
            "or: 34\n",
            "rain: 47\n",
            "sam: 16\n",
            "say: 38\n",
            "see: 48\n",
            "so: 36\n",
            "thank: 52\n",
            "that: 49\n",
            "the: 24\n",
            "them: 5\n",
            "there: 29\n",
            "they: 53\n",
            "train: 28\n",
            "tree: 54\n",
            "try: 39\n",
            "will: 18\n",
            "with: 20\n",
            "would: 17\n",
            "you: 12\n"
          ]
        }
      ],
      "source": [
        "print_vocab(text_vocab)"
      ]
    },
    {
      "cell_type": "markdown",
      "id": "402a56ed",
      "metadata": {
        "deletable": false,
        "editable": false,
        "id": "402a56ed"
      },
      "source": [
        "Other simple calculations that will be useful in implementing the various models:\n",
        "\n",
        "1. Counting how many instances there are in a dataset.\n",
        "2. Counting how many instances of a certain class there are in a dataset.\n",
        "3. Counting how many tokens of a certain type there are in the text of an instance.\n",
        "\n",
        "Let's write functions for these. They'll come in handy in the first problem set.\n",
        "\n",
        "<!--\n",
        "BEGIN QUESTION\n",
        "name: count_instances\n",
        "-->"
      ]
    },
    {
      "cell_type": "code",
      "execution_count": 39,
      "id": "41e86cc1",
      "metadata": {
        "id": "41e86cc1"
      },
      "outputs": [],
      "source": [
        "#TODO - 1. Counting how many instances there are in a dataset.\n",
        "def count_instances(dataset):\n",
        "    return len(dataset)"
      ]
    },
    {
      "cell_type": "code",
      "execution_count": 40,
      "id": "439a91ff",
      "metadata": {
        "deletable": false,
        "editable": false,
        "colab": {
          "base_uri": "https://localhost:8080/",
          "height": 46
        },
        "id": "439a91ff",
        "outputId": "2dc7ade7-0fce-440a-95d2-b142e49dcdca"
      },
      "outputs": [
        {
          "output_type": "execute_result",
          "data": {
            "text/plain": [
              "\n",
              "    All tests passed!\n",
              "    "
            ],
            "text/html": [
              "\n",
              "    \n",
              "    \n",
              "        <p>All tests passed!</p>\n",
              "    \n",
              "    "
            ]
          },
          "metadata": {},
          "execution_count": 40
        }
      ],
      "source": [
        "grader.check(\"count_instances\")"
      ]
    },
    {
      "cell_type": "code",
      "execution_count": 41,
      "id": "15332b40",
      "metadata": {
        "id": "15332b40"
      },
      "outputs": [],
      "source": [
        "#TODO - 2. Counting how many instances of a certain class there are in a dataset.\n",
        "# Note: recall that you can access the label of an instance using `instance['label']`\n",
        "def count_instances_class(dataset, label):\n",
        "    return len([instance for instance in dataset if instance['label'] == label])"
      ]
    },
    {
      "cell_type": "code",
      "execution_count": 42,
      "id": "6adfb459",
      "metadata": {
        "deletable": false,
        "editable": false,
        "colab": {
          "base_uri": "https://localhost:8080/",
          "height": 46
        },
        "id": "6adfb459",
        "outputId": "f6a762a4-5b06-4432-8efe-f8da6ea551d4"
      },
      "outputs": [
        {
          "output_type": "execute_result",
          "data": {
            "text/plain": [
              "\n",
              "    All tests passed!\n",
              "    "
            ],
            "text/html": [
              "\n",
              "    \n",
              "    \n",
              "        <p>All tests passed!</p>\n",
              "    \n",
              "    "
            ]
          },
          "metadata": {},
          "execution_count": 42
        }
      ],
      "source": [
        "grader.check(\"count_instances_class\")"
      ]
    },
    {
      "cell_type": "code",
      "execution_count": 43,
      "id": "b05d2ca7",
      "metadata": {
        "id": "b05d2ca7"
      },
      "outputs": [],
      "source": [
        "#TODO - 3. Counting how many tokens of a certain type there are in the text of an instance.\n",
        "# Hint: we have provided code for extracting tokens from the text of an instance.\n",
        "def count_tokens_instance(instance, tokentype):\n",
        "    tokens = tokenizer.encode(instance['text']).tokens\n",
        "    return tokens.count(tokentype)"
      ]
    },
    {
      "cell_type": "code",
      "execution_count": 44,
      "id": "fa1ec576",
      "metadata": {
        "deletable": false,
        "editable": false,
        "colab": {
          "base_uri": "https://localhost:8080/",
          "height": 46
        },
        "id": "fa1ec576",
        "outputId": "f071531c-bedc-40dd-e835-9fb86b3d9338"
      },
      "outputs": [
        {
          "output_type": "execute_result",
          "data": {
            "text/plain": [
              "\n",
              "    All tests passed!\n",
              "    "
            ],
            "text/html": [
              "\n",
              "    \n",
              "    \n",
              "        <p>All tests passed!</p>\n",
              "    \n",
              "    "
            ]
          },
          "metadata": {},
          "execution_count": 44
        }
      ],
      "source": [
        "grader.check(\"count_tokens_instances\")"
      ]
    },
    {
      "cell_type": "markdown",
      "id": "aece62de",
      "metadata": {
        "id": "aece62de"
      },
      "source": [
        "Recall that the purpose of these tokenizer objects is to map back and forth between strings and word ids. Below provides an example of how to do that."
      ]
    },
    {
      "cell_type": "code",
      "execution_count": 45,
      "id": "7c67cc0d",
      "metadata": {
        "colab": {
          "base_uri": "https://localhost:8080/"
        },
        "id": "7c67cc0d",
        "outputId": "d9dbd3f6-55da-4369-afec-c4c090bfd4f9"
      },
      "outputs": [
        {
          "output_type": "stream",
          "name": "stdout",
          "text": [
            "text: I do!\n",
            "Mapped to word ids: [3, 10, 7]\n",
            "Mapped back: i do !\n"
          ]
        }
      ],
      "source": [
        "example = train[1]\n",
        "print (f'text: {example[\"text\"]}')\n",
        "word_ids = example['input_ids']\n",
        "print (f\"Mapped to word ids: {word_ids}\\n\"\n",
        "       f\"Mapped back: {hf_tokenizer.decode(word_ids)}\")"
      ]
    },
    {
      "cell_type": "markdown",
      "id": "28f0685d",
      "metadata": {
        "id": "28f0685d"
      },
      "source": [
        "We can also do the conversion for a batch of examples, which will be very useful in future labs when we take advantage of the parallelism provided by parallel hardware such as GPUs."
      ]
    },
    {
      "cell_type": "code",
      "execution_count": 46,
      "id": "d7f7e976",
      "metadata": {
        "colab": {
          "base_uri": "https://localhost:8080/"
        },
        "id": "d7f7e976",
        "outputId": "edcfc24b-853f-4c94-9668-8dcbf75fed74"
      },
      "outputs": [
        {
          "output_type": "stream",
          "name": "stdout",
          "text": [
            "text: ['I do!', 'Do you like green eggs and ham?', 'A train!', 'You may like them.']\n",
            "Mapped to word ids: [[3, 10, 7], [10, 12, 8, 26, 25, 13, 27, 21], [6, 28, 7], [12, 45, 8, 5, 2]]\n",
            "Mapped back: ['i do !', 'do you like green eggs and ham ?', 'a train !', 'you may like them .']\n",
            "Mapped back skipping padding: ['i do !', 'do you like green eggs and ham ?', 'a train !', 'you may like them .']\n"
          ]
        }
      ],
      "source": [
        "examples = train[1:5]\n",
        "print (f'text: {examples[\"text\"]}')\n",
        "word_ids_batch = examples['input_ids']\n",
        "print (f\"Mapped to word ids: {word_ids_batch}\\n\"\n",
        "       f\"Mapped back: {hf_tokenizer.batch_decode(word_ids_batch)}\\n\"\n",
        "       f\"Mapped back skipping padding: {hf_tokenizer.batch_decode(word_ids_batch, skip_special_tokens=True)}\")"
      ]
    },
    {
      "cell_type": "markdown",
      "id": "c167a3ad",
      "metadata": {
        "id": "c167a3ad"
      },
      "source": [
        "You might have noticed that in the above example, different sentences are of different lengths. This makes it hard for processing on parallel hardware, and we need to *pad* all sentences to the length of the longest sentence in each batch before converting them to tensors, as shown below. (You will see the below code in project 1 and in future labs.)"
      ]
    },
    {
      "cell_type": "code",
      "execution_count": 47,
      "id": "dd062a31",
      "metadata": {
        "id": "dd062a31"
      },
      "outputs": [],
      "source": [
        "pad_id = hf_tokenizer.pad_token_id\n",
        "BATCH_SIZE = 32\n",
        "\n",
        "# Defines how to batch a list of examples together\n",
        "def collate_fn(examples):\n",
        "    batch = {}\n",
        "    bsz = len(examples)\n",
        "    label_ids = []\n",
        "    for example in examples:\n",
        "        label_ids.append(example['label_id'])\n",
        "    label_batch = torch.LongTensor(label_ids).to(device)\n",
        "    input_ids = []\n",
        "    for example in examples:\n",
        "        input_ids.append(example['input_ids'])\n",
        "    max_length = max([len(word_ids) for word_ids in input_ids])\n",
        "    text_batch = torch.zeros(bsz, max_length).long().fill_(pad_id).to(device)\n",
        "    for b in range(bsz):\n",
        "        text_batch[b][:len(input_ids[b])] = torch.LongTensor(input_ids[b]).to(device)\n",
        "\n",
        "    batch['label_ids'] = label_batch\n",
        "    batch['input_ids'] = text_batch\n",
        "    return batch\n",
        "\n",
        "train_iter = torch.utils.data.DataLoader(train, batch_size=BATCH_SIZE, collate_fn=collate_fn)\n",
        "test_iter = torch.utils.data.DataLoader(test, batch_size=BATCH_SIZE, collate_fn=collate_fn)"
      ]
    },
    {
      "cell_type": "markdown",
      "id": "0b5eec3d",
      "metadata": {
        "id": "0b5eec3d"
      },
      "source": [
        "Let's look at a single batch from one of these iterators. Each sentence is the same length, with padding as needed with the `PAD` token, which has id `0`."
      ]
    },
    {
      "cell_type": "code",
      "execution_count": 48,
      "id": "0bf67f3e",
      "metadata": {
        "colab": {
          "base_uri": "https://localhost:8080/"
        },
        "id": "0bf67f3e",
        "outputId": "ee1c4927-669f-42f2-abb5-18ec9ffa2824"
      },
      "outputs": [
        {
          "output_type": "execute_result",
          "data": {
            "text/plain": [
              "{'label_ids': tensor([1, 0, 1, 1, 1, 0, 1, 0, 0, 1, 0, 0, 0, 1, 0, 1, 1, 0, 1, 0, 0, 0, 0, 0,\n",
              "         0, 0, 0, 0, 0, 0, 0, 0]),\n",
              " 'input_ids': tensor([[17, 12,  8,  5, 11,  6, 35, 21,  0,  0],\n",
              "         [ 3, 10,  7,  0,  0,  0,  0,  0,  0,  0],\n",
              "         [10, 12,  8, 26, 25, 13, 27, 21,  0,  0],\n",
              "         [ 6, 28,  7,  0,  0,  0,  0,  0,  0,  0],\n",
              "         [12, 45,  8,  5,  2,  0,  0,  0,  0,  0],\n",
              "         [ 3, 18,  4, 15,  5, 11, 24, 47,  2,  0],\n",
              "         [17, 12,  8,  5, 23, 34, 29, 21,  0,  0],\n",
              "         [16,  7,  0,  0,  0,  0,  0,  0,  0,  0],\n",
              "         [13, 11,  6, 30,  2, 13, 11,  6, 54,  2],\n",
              "         [12, 10,  4,  8, 26, 25, 13, 27, 21,  0],\n",
              "         [ 4, 33,  6, 28,  7,  0,  0,  0,  0,  0],\n",
              "         [ 3, 10,  4,  8, 26, 25, 13, 27,  2,  0],\n",
              "         [12, 18, 48,  2,  0,  0,  0,  0,  0,  0],\n",
              "         [22, 12, 21,  0,  0,  0,  0,  0,  0,  0],\n",
              "         [ 3, 10,  4,  8,  5, 23, 34, 29,  2,  0],\n",
              "         [39,  5, 13, 12, 45,  9,  3, 38,  2,  0],\n",
              "         [36, 12, 38,  2,  0,  0,  0,  0,  0,  0],\n",
              "         [ 3, 10,  4,  8,  5, 40,  7,  0,  0,  0],\n",
              "         [38,  7,  0,  0,  0,  0,  0,  0,  0,  0],\n",
              "         [ 4, 11,  6, 30,  2,  0,  0,  0,  0,  0],\n",
              "         [ 3, 17,  4,  8,  5, 23, 34, 29,  2,  0],\n",
              "         [ 3, 18,  4, 15,  5, 23, 34, 29,  2,  0],\n",
              "         [ 3, 10,  4,  8,  5, 20,  6, 32,  2,  0],\n",
              "         [13,  3, 18, 15,  5, 23, 13, 29,  2,  0],\n",
              "         [ 3, 18, 15,  5, 40,  7,  0,  0,  0,  0],\n",
              "         [ 3, 10,  4,  8,  5, 23, 34, 29,  2,  0],\n",
              "         [ 4, 20,  6, 42,  2,  0,  0,  0,  0,  0],\n",
              "         [49, 16, 14,  3, 14, 19,  7,  0,  0,  0],\n",
              "         [ 4, 11,  6, 35,  2,  0,  0,  0,  0,  0],\n",
              "         [ 4, 11, 24, 31,  2,  0,  0,  0,  0,  0],\n",
              "         [ 3, 10,  4, 15, 26, 25, 13, 27,  2,  0],\n",
              "         [ 3, 18,  4, 15,  5, 33,  6, 28,  2,  0]])}"
            ]
          },
          "metadata": {},
          "execution_count": 48
        }
      ],
      "source": [
        "next(iter(train_iter))"
      ]
    },
    {
      "cell_type": "markdown",
      "id": "8962381a",
      "metadata": {
        "id": "8962381a"
      },
      "source": [
        "# Training and testing with PyTorch\n",
        "\n",
        "Past labs have shown that all of the detail about\n",
        "\n",
        "* establishing models and their parameters,\n",
        "* using them to calculate the outputs for some inputs,\n",
        "* training them to optimize the parameters via stochastic gradient descent, and\n",
        "* evaluating them by testing on held-out data\n",
        "\n",
        "is tedious to manage. Fortunately, it is also so formulaic, at least for a certain class of models, that general tools can be deployed to manage the process. In the remainder of this lab, you'll use one such tool, PyTorch. For simplicity, rather than a natural-language task, you'll be training a model to fit a curve; it has an especially simple structure: one scalar input and one scalar output."
      ]
    },
    {
      "cell_type": "markdown",
      "id": "dea27f77",
      "metadata": {
        "id": "dea27f77"
      },
      "source": [
        "## Generating training and test data\n",
        "\n",
        "We start by generating some training and test data. The data is generated as a noisy sine function, calculated by the function `sinusoid`. (Here we make use of the PyTorch [distributions](https://pytorch.org/docs/stable/distributions.html) package, which was imported above as `ds`.)"
      ]
    },
    {
      "cell_type": "code",
      "execution_count": 49,
      "id": "d71a1912",
      "metadata": {
        "id": "d71a1912"
      },
      "outputs": [],
      "source": [
        "def sinusoid(x, amplitude=1., phase=0., frequency=1., noise=1e-5):\n",
        "    \"\"\"Returns the values on input(s) `x` of a sinusoid determined by `amplitude`,\n",
        "       `phase`, and angular `frequency`, with some added normal noise with variance\n",
        "       given by `noise`.\"\"\"\n",
        "    normal_noise = ds.normal.Normal(torch.tensor([0.0]), torch.tensor([noise]))\n",
        "    noise_sample = normal_noise.sample(x.size()).view(-1)\n",
        "    y = amplitude * torch.sin(x * frequency + phase) + noise_sample\n",
        "    return y"
      ]
    },
    {
      "cell_type": "markdown",
      "id": "9977cbac",
      "metadata": {
        "id": "9977cbac"
      },
      "source": [
        "We can generate data for training and testing by sampling this function."
      ]
    },
    {
      "cell_type": "code",
      "execution_count": 50,
      "id": "64284491",
      "metadata": {
        "id": "64284491"
      },
      "outputs": [],
      "source": [
        "def sample_input(func, count, bound, **kwargs):\n",
        "    \"\"\"Returns `count` samples of x-y pairs of function `func`, with the x\n",
        "       values sampled uniformly between +/-`bound`. The `kwargs` are passed\n",
        "       on to `func`.\"\"\"\n",
        "    input_unif = ds.uniform.Uniform(-bound, +bound)\n",
        "    x = input_unif.sample(torch.Size([count]))\n",
        "    y = func(x, **kwargs)\n",
        "    return x, y"
      ]
    },
    {
      "cell_type": "markdown",
      "id": "b5adb7dd",
      "metadata": {
        "id": "b5adb7dd"
      },
      "source": [
        "To give a sense of what a data sample looks like, we plot a sample of 100 points."
      ]
    },
    {
      "cell_type": "code",
      "execution_count": 51,
      "id": "2a5ab2ad",
      "metadata": {
        "id": "2a5ab2ad"
      },
      "outputs": [],
      "source": [
        "def plot_sample(data):\n",
        "    \"\"\"Plots `data` given as a single pair of inputs and outputs.\"\"\"\n",
        "    X, Y = data\n",
        "    plt.plot(X.tolist(), Y.tolist(), '.')\n",
        "    plt.xlabel('Input')\n",
        "    plt.ylabel('Output')\n",
        "    # we cannot use plt.show() because otter-grader does not support it"
      ]
    },
    {
      "cell_type": "code",
      "execution_count": 52,
      "id": "ecea3547",
      "metadata": {
        "colab": {
          "base_uri": "https://localhost:8080/",
          "height": 449
        },
        "id": "ecea3547",
        "outputId": "54bef412-c875-4525-8a3c-520496b5d485"
      },
      "outputs": [
        {
          "output_type": "display_data",
          "data": {
            "text/plain": [
              "<Figure size 640x480 with 1 Axes>"
            ],
            "image/png": "[encoded data removed]"
          },
          "metadata": {}
        }
      ],
      "source": [
        "plot_sample(sample_input(sinusoid, 100, 5, noise=0.1))"
      ]
    },
    {
      "cell_type": "markdown",
      "id": "e31d8fb6",
      "metadata": {
        "deletable": false,
        "editable": false,
        "id": "e31d8fb6"
      },
      "source": [
        "## Specifying a feed-forward neural network\n",
        "\n",
        "\n",
        "<img src=\"https://github.com/nlp-236299/data/raw/master/Resources/ffnn-example.png\" width=33% align=right />\n",
        "\n",
        "The model that we will train to predict the output of this function based on a sample will consist of a series of sublayers as depicted in the figure at right. At the bottom of the figure, we start with $\\vect{x}$, the scalar input (of dimensionality $1$ as shown in the \"shape\" designation). The first layer is a perceptron layer, composed of a linear sublayer (with weights $\\vect{U}$) followed by a sigmoid sublayer. Since $\\vect{U}$ is of dimensionality $1 \\times D$, the output is a vector of dimensionality $D$. (We refer to $D$ as the *hidden dimension*.) Then comes another perceptron layer with input and output each of dimensionality $D$. Finally, a single linear layer reduces the dimensionality back to the predicted scalar output $\\tilde{y}$ of dimensionality $1$. The loss is calculated as the mean square error of $\\tilde{y}$ relative to $y$. (In this case, taking the mean for a single example is irrelevant, since $y$ is a scalar, though when training in \"batches\", the mean would be taken over the batch.)\n",
        "\n",
        "We define a class `FFNN` (**f**eed-**f**orward **n**eural **n**etwork), which inherits from the `nn.Module` class, PyTorch's class for neural network models. It takes an argument `hidden_dim` which is the size of the hidden layers, $D$ in the figure.\n",
        "\n",
        "The parameters of this model – the values that will be adjusted to minimize the loss – are the elements of the tensors $\\vect{U}$, $\\vect{V}$, and $\\vect{W}$. They don't appear explicitly in the code, but are PyTorch *parameters* created and tracked when the corresponding sublayers are created using `nn.Linear`. That's the wonder of using PyTorch – so much happens under the hood. But we can get access to the parameters because the `nn.Module` class provides a `parameters` method that returns an iterator over the parameters. (We use it to initialize the parameters to random values.)\n",
        "\n",
        "\n",
        "<!--\n",
        "BEGIN QUESTION\n",
        "name: FFNN\n",
        "-->"
      ]
    },
    {
      "cell_type": "code",
      "execution_count": 53,
      "id": "04fc09e4",
      "metadata": {
        "id": "04fc09e4"
      },
      "outputs": [],
      "source": [
        "class FFNN(nn.Module):\n",
        "    def __init__(self, hidden_dim, init_low=-2, init_high=2):\n",
        "        super().__init__()\n",
        "        # dimensionality of hidden layers\n",
        "        self.hidden_dim = hidden_dim\n",
        "        # establishing the sublayers -- two perceptrons (each with a linear\n",
        "        # layer and a sigmoid) and a final linear layer -- and their parameters\n",
        "        self.sublayer1 = nn.Linear(1, hidden_dim)          # U: 1 X D\n",
        "        self.sublayer2 = nn.Sigmoid()\n",
        "        self.sublayer3 = nn.Linear(hidden_dim, hidden_dim) # V: D X D\n",
        "        self.sublayer4 = nn.Sigmoid()\n",
        "        self.sublayer5 = nn.Linear(hidden_dim, 1)          # W: D X 1\n",
        "\n",
        "        # initialize parameters randomly\n",
        "        torch.manual_seed(random_seed)\n",
        "        for p in self.parameters():\n",
        "            p.data.uniform_(init_low, init_high)\n",
        "        # save a copy of the parameters to allow resetting\n",
        "        self.init_state = copy.deepcopy(self.state_dict())\n",
        "\n",
        "    # Resetting state: If you want to rerun a model, say, with a different\n",
        "    # training regime, you can reset the model's parameter state using\n",
        "    #    model.reset_state()\n",
        "    # before retraining, e.g.,\n",
        "    #    train_model(model, criterion, optim, train_data, n_epochs=50)\n",
        "    def reset_state(self):\n",
        "        self.load_state_dict(self.init_state)\n",
        "\n",
        "    def forward(self, x):\n",
        "        # first perceptron layer\n",
        "        z = self.sublayer2(self.sublayer1(x))\n",
        "        # second perceptron layer\n",
        "        z_prime = self.sublayer4(self.sublayer3(z))\n",
        "        # final linear layer\n",
        "        return self.sublayer5(z_prime)"
      ]
    },
    {
      "cell_type": "markdown",
      "id": "2e387727",
      "metadata": {
        "id": "2e387727"
      },
      "source": [
        "We can build a model by instantiating the `FFNN` class. We'll do so with a hidden dimension of 4, being careful to move the model with its parameters to the device we're using for calculations (a GPU if one is available, as on Google Colab)."
      ]
    },
    {
      "cell_type": "code",
      "execution_count": 54,
      "id": "0eb67b3a",
      "metadata": {
        "id": "0eb67b3a"
      },
      "outputs": [],
      "source": [
        "HIDDEN_DIMENSION = 4\n",
        "model = FFNN(HIDDEN_DIMENSION).to(device)"
      ]
    },
    {
      "cell_type": "markdown",
      "id": "ed7afc4d",
      "metadata": {
        "id": "ed7afc4d"
      },
      "source": [
        "We specify the criterion to be optimized as the mean square error loss function provided by PyTorch."
      ]
    },
    {
      "cell_type": "code",
      "execution_count": 55,
      "id": "84aa939e",
      "metadata": {
        "id": "84aa939e"
      },
      "outputs": [],
      "source": [
        "criterion = nn.MSELoss(reduction='mean')"
      ]
    },
    {
      "cell_type": "markdown",
      "id": "53aca506",
      "metadata": {
        "id": "53aca506"
      },
      "source": [
        "## Evaluating data according to a model\n",
        "\n",
        "To evaluate how well the model performs on some test data, we run the model forward on the $x$ values and compute the loss relative to the $y$ values. We define a function `eval_model` to carry out this calculation."
      ]
    },
    {
      "cell_type": "code",
      "execution_count": 56,
      "id": "a85f0160",
      "metadata": {
        "id": "a85f0160"
      },
      "outputs": [],
      "source": [
        "def eval_model(model, criterion, data):\n",
        "    \"\"\"Applies the `model` to the x values in the `data` and returns the\n",
        "       loss relative to the y values in the `data` along with the predicted\n",
        "       y values.\"\"\"\n",
        "    model.eval()                          # turn on evaluation mode\n",
        "    with torch.no_grad():                 # turn off propagating gradients\n",
        "        X, Y = data                       # extract x and y values\n",
        "        X = X.view(-1, 1).to(device)      # convert x and y to column vectors\n",
        "        Y = Y.view(-1, 1).to(device)      # ...and move them to the device\n",
        "        predictions = model(X)            # calculate the predicted y values\n",
        "        loss = criterion(predictions, Y)  # see how far off they are\n",
        "    return loss.item(), predictions"
      ]
    },
    {
      "cell_type": "markdown",
      "id": "dbb50fce",
      "metadata": {
        "id": "dbb50fce"
      },
      "source": [
        "All that remains is training the model. We'll use one of PyTorch's built in optimizers, the `Adam` optimizer. We set a few parameters for the training process: the learning rate, the number of \"epochs\" (passes through the training data) to perform, and the number of examples to train on at a time (the \"batch size\")."
      ]
    },
    {
      "cell_type": "code",
      "execution_count": 57,
      "id": "ba421652",
      "metadata": {
        "id": "ba421652"
      },
      "outputs": [],
      "source": [
        "## Parameters of the training regimen\n",
        "LEARNING_RATE = 0.003\n",
        "NUMBER_EPOCHS = 25\n",
        "BATCH_SIZE = 20\n",
        "\n",
        "## Choices for optimizers:\n",
        "\n",
        "# Stochastic Gradient Descent (SGD) optimizer\n",
        "# optim = torch.optim.SGD(model.parameters(), lr=learning_rate)\n",
        "\n",
        "# The Adam optimizer, as described in the paper:\n",
        "# Kingma and Ba. 2014. Adam: A Method for Stochastic Optimization.\n",
        "# [https://arxiv.org/abs/1412.6980]\n",
        "optim = torch.optim.Adam(model.parameters(), lr=LEARNING_RATE)"
      ]
    },
    {
      "cell_type": "markdown",
      "id": "2b978408",
      "metadata": {
        "id": "2b978408"
      },
      "source": [
        "## Training the parameters of a model\n",
        "\n",
        "Finally, we get to the function to train the parameters of the model so as to best fit the predictions to the actual values. We've provided the code, except for a few lines that you'll need to provide (marked `#TODO`), making use of some of the tools defined above. Those lines, which form the heart of the computation, calculate \"forwards\" to get the output predictions for the inputs, calculate the loss for those predictions, and calculate \"backwards\" the gradients of the loss for each of the parameters of the model. This sets up the optimizer to take a step of updating the parameters, making use of the calculated gradients to determine the direction to step. The saved gradients can then be zeroed and the process repeated.\n",
        "\n",
        "> Note: The code we're asking you to write is *tiny*. If you find yourself writing more than a short line of code per `#TODO`, you're missing something."
      ]
    },
    {
      "cell_type": "code",
      "execution_count": 58,
      "id": "0cc0c888",
      "metadata": {
        "id": "0cc0c888"
      },
      "outputs": [],
      "source": [
        "def train_model(model, criterion, optimizer, data,\n",
        "                n_epochs=NUMBER_EPOCHS, batch_size=BATCH_SIZE):\n",
        "    \"\"\"Optimizes the parameters of the `model` by minimizing the `criterion`\n",
        "       on the training `data`, using the `optimizer` algorithm for updates.\"\"\"\n",
        "    model.train()                     # Turn on training mode\n",
        "\n",
        "    X, Y = data\n",
        "    trainX_len = len(X)\n",
        "\n",
        "    loss_per_epoch = math.inf\n",
        "    with tqdm(range(n_epochs)) as pbar:\n",
        "        for epoch in pbar:\n",
        "            pbar.set_postfix(epoch=epoch+1, loss=loss_per_epoch)\n",
        "            loss_per_epoch = 0.\n",
        "            for batch_i in range(int(trainX_len/batch_size)):\n",
        "                optimizer.zero_grad()     # new batch; zero the gradients of the parameters\n",
        "\n",
        "                # Input tensors and their corresponding output values for this batch\n",
        "                batch_X = (X[batch_i * batch_size\n",
        "                             : (batch_i+1) * batch_size] # extract examples in batch\n",
        "                           .view(-1, 1)                  # reshape to column vector\n",
        "                           .to(device)                   # move to device\n",
        "                          )\n",
        "                batch_Y = (Y[batch_i * batch_size\n",
        "                             : (batch_i+1) * batch_size]\n",
        "                           .view(-1, 1)\n",
        "                           .to(device)\n",
        "                          )\n",
        "\n",
        "                #TODO: Calculate predictions for the x values in this batch\n",
        "                predictions = model(batch_X)\n",
        "\n",
        "                #TODO: Calculate the loss for the predictions\n",
        "                loss = criterion(predictions, batch_Y)\n",
        "\n",
        "                #TODO: Perform backpropagation to calculate gradients\n",
        "                loss.backward()\n",
        "\n",
        "                # Update all parameters\n",
        "                optimizer.step()\n",
        "\n",
        "                loss_per_epoch += loss.item()"
      ]
    },
    {
      "cell_type": "markdown",
      "id": "861e46c2",
      "metadata": {
        "id": "861e46c2"
      },
      "source": [
        "## Putting it all together\n",
        "\n",
        "Let's try it out. We start by generating some training and test data. The training data will be 10,000 samples of a noisy sinusoid. The test data, 100 samples from the same sinusoid, will be noise-free, so we can see how close the predictions are to noise-free outputs."
      ]
    },
    {
      "cell_type": "code",
      "execution_count": 59,
      "id": "938d64bd",
      "metadata": {
        "colab": {
          "base_uri": "https://localhost:8080/",
          "height": 449
        },
        "id": "938d64bd",
        "outputId": "f98c314e-061e-472e-ed4a-8385d9659148"
      },
      "outputs": [
        {
          "output_type": "display_data",
          "data": {
            "text/plain": [
              "<Figure size 640x480 with 1 Axes>"
            ],
            "image/png": "[encoded data removed]"
          },
          "metadata": {}
        }
      ],
      "source": [
        "train_data = sample_input(sinusoid, 10000, 5., frequency=1.5, noise=0.05)\n",
        "test_data = sample_input(sinusoid, 100, 5., frequency=1.5)\n",
        "\n",
        "plot_sample(train_data)"
      ]
    },
    {
      "cell_type": "markdown",
      "id": "ac52ad29",
      "metadata": {
        "id": "ac52ad29"
      },
      "source": [
        "We train the model."
      ]
    },
    {
      "cell_type": "code",
      "execution_count": 60,
      "id": "b0e37689",
      "metadata": {
        "colab": {
          "base_uri": "https://localhost:8080/"
        },
        "id": "b0e37689",
        "outputId": "2a601b17-ee32-4fdf-c2ce-4d1e52a062b5"
      },
      "outputs": [
        {
          "output_type": "stream",
          "name": "stderr",
          "text": [
            "100%|██████████| 25/25 [00:18<00:00,  1.37it/s, epoch=25, loss=11.1]\n"
          ]
        }
      ],
      "source": [
        "model.reset_state()\n",
        "train_model(model, criterion, optim, train_data)"
      ]
    },
    {
      "cell_type": "markdown",
      "id": "e4f5f8ba",
      "metadata": {
        "id": "e4f5f8ba"
      },
      "source": [
        "...and test the trained model by evaluating it on the the test data."
      ]
    },
    {
      "cell_type": "code",
      "execution_count": 61,
      "id": "69871e26",
      "metadata": {
        "id": "69871e26"
      },
      "outputs": [],
      "source": [
        "loss, predictions = eval_model(model, criterion, test_data)"
      ]
    },
    {
      "cell_type": "code",
      "source": [
        "print(f\"{loss = }\")"
      ],
      "metadata": {
        "colab": {
          "base_uri": "https://localhost:8080/"
        },
        "id": "rMXat0XlxdOV",
        "outputId": "f900cf58-4e5f-479a-97d2-2f83229b60ba"
      },
      "id": "rMXat0XlxdOV",
      "execution_count": 67,
      "outputs": [
        {
          "output_type": "stream",
          "name": "stdout",
          "text": [
            "loss = 0.013471275568008423\n"
          ]
        }
      ]
    },
    {
      "cell_type": "code",
      "execution_count": 62,
      "id": "0ff7a03f",
      "metadata": {
        "deletable": false,
        "editable": false,
        "colab": {
          "base_uri": "https://localhost:8080/",
          "height": 46
        },
        "id": "0ff7a03f",
        "outputId": "add11593-6d2c-4bde-d86c-c9a6586b8fa0"
      },
      "outputs": [
        {
          "output_type": "execute_result",
          "data": {
            "text/plain": [
              "\n",
              "    All tests passed!\n",
              "    "
            ],
            "text/html": [
              "\n",
              "    \n",
              "    \n",
              "        <p>All tests passed!</p>\n",
              "    \n",
              "    "
            ]
          },
          "metadata": {},
          "execution_count": 62
        }
      ],
      "source": [
        "grader.check(\"model_reduces_loss\")"
      ]
    },
    {
      "cell_type": "markdown",
      "id": "11599cf6",
      "metadata": {
        "id": "11599cf6"
      },
      "source": [
        "We can see how well the model works by plotting the test data (circles) along with the predicted values (crosses)."
      ]
    },
    {
      "cell_type": "code",
      "execution_count": 63,
      "id": "899264a1",
      "metadata": {
        "id": "899264a1"
      },
      "outputs": [],
      "source": [
        "def visualize_predictions(data, predictions):\n",
        "    X, Y = data\n",
        "\n",
        "    # Plot the actual output values\n",
        "    plt.plot(X.tolist(), Y.tolist(), '.', label = 'Target Values')\n",
        "\n",
        "    # Plot the predicted output values\n",
        "    predictions = predictions.view(-1, 1)\n",
        "    plt.plot(X.tolist(), predictions.tolist(), 'x', label = 'Predictions')\n",
        "\n",
        "    plt.xlabel('Input')\n",
        "    plt.ylabel('Output')\n",
        "    plt.legend()\n",
        "    # we cannot use plt.show() because otter-grader does not support it"
      ]
    },
    {
      "cell_type": "code",
      "execution_count": 64,
      "id": "15459ec8",
      "metadata": {
        "colab": {
          "base_uri": "https://localhost:8080/",
          "height": 449
        },
        "id": "15459ec8",
        "outputId": "f4be279e-1322-48dc-d112-3348744adb33"
      },
      "outputs": [
        {
          "output_type": "display_data",
          "data": {
            "text/plain": [
              "<Figure size 640x480 with 1 Axes>"
            ],
            "image/png": "[encoded data removed]"
          },
          "metadata": {}
        }
      ],
      "source": [
        "# Visualize the predictions\n",
        "visualize_predictions(test_data, predictions)"
      ]
    },
    {
      "cell_type": "markdown",
      "id": "7146664c",
      "metadata": {
        "id": "7146664c"
      },
      "source": [
        "## Trying different models\n",
        "\n",
        "Now that we have the infrastructure, try experimenting with different models. Here are a few things you might play with. (No need to try them all.) What happens if you change the hidden dimension, increasing it to 8 or decreasing it to 2? What happens if you drop the middle layer? What about no middle layer but a much higher hidden dimension size? Does running for more epochs improve performance? Does the SGD optimizer work better or worse than the Adam optimizer?\n",
        "\n",
        "**Perform any experimentation in cells below this point, so you don't modify the cells above that are being unit tested.**"
      ]
    },
    {
      "cell_type": "code",
      "source": [
        "# training different models\n",
        "all_losses = {}\n",
        "\n",
        "# First, we'll examine different Hidden Dimensions with an ADAM optimizer\n",
        "optim = torch.optim.Adam(model.parameters(), lr=LEARNING_RATE)\n",
        "\n",
        "HIDDEN_DIMENSION = 2\n",
        "model_2 = FFNN(HIDDEN_DIMENSION).to(device)\n",
        "model_2.reset_state()\n",
        "train_model(model_2, criterion, optim, train_data)\n",
        "loss_adam_2, _ = eval_model(model_2, criterion, test_data)\n",
        "all_losses['adam_2'] = loss_adam_2\n",
        "\n",
        "HIDDEN_DIMENSION = 4\n",
        "model_4 = FFNN(HIDDEN_DIMENSION).to(device)\n",
        "model_4.reset_state()\n",
        "train_model(model_4, criterion, optim, train_data)\n",
        "loss_adam_4, _ = eval_model(model_4, criterion, test_data)\n",
        "all_losses['adam_4'] = loss_adam_4\n",
        "\n",
        "HIDDEN_DIMENSION = 8\n",
        "model_8 = FFNN(HIDDEN_DIMENSION).to(device)\n",
        "model_8.reset_state()\n",
        "train_model(model_8, criterion, optim, train_data)\n",
        "loss_adam_8, _ = eval_model(model_8, criterion, test_data)\n",
        "all_losses['adam_8'] = loss_adam_8"
      ],
      "metadata": {
        "colab": {
          "base_uri": "https://localhost:8080/"
        },
        "id": "1rMs28Vg40t6",
        "outputId": "dd38c967-0736-4e41-80d2-0f031277ffcb"
      },
      "id": "1rMs28Vg40t6",
      "execution_count": 76,
      "outputs": [
        {
          "output_type": "stream",
          "name": "stderr",
          "text": [
            "100%|██████████| 25/25 [00:12<00:00,  2.04it/s, epoch=25, loss=1.82e+3]\n",
            "100%|██████████| 25/25 [00:11<00:00,  2.10it/s, epoch=25, loss=733]\n",
            "100%|██████████| 25/25 [00:12<00:00,  2.05it/s, epoch=25, loss=1.54e+3]\n"
          ]
        }
      ]
    },
    {
      "cell_type": "code",
      "source": [
        "# Now we'll compare the same models with an SGD optimizer\n",
        "optim = torch.optim.SGD(model.parameters(), lr=LEARNING_RATE)\n",
        "\n",
        "HIDDEN_DIMENSION = 2\n",
        "model_2_sgd = FFNN(HIDDEN_DIMENSION).to(device)\n",
        "model_2_sgd.reset_state()\n",
        "train_model(model_2_sgd, criterion, optim, train_data)\n",
        "loss_sgd_2, _ = eval_model(model_2_sgd, criterion, test_data)\n",
        "all_losses['sgd_2'] = loss_sgd_2\n",
        "\n",
        "HIDDEN_DIMENSION = 4\n",
        "model_4_sgd = FFNN(HIDDEN_DIMENSION).to(device)\n",
        "model_4_sgd.reset_state()\n",
        "train_model(model_4_sgd, criterion, optim, train_data)\n",
        "loss_sgd_4, _ = eval_model(model_4_sgd, criterion, test_data)\n",
        "all_losses['sgd_4'] = loss_sgd_4\n",
        "\n",
        "HIDDEN_DIMENSION = 8\n",
        "model_8_sgd = FFNN(HIDDEN_DIMENSION).to(device)\n",
        "model_8_sgd.reset_state()\n",
        "train_model(model_8_sgd, criterion, optim, train_data)\n",
        "loss_sgd_8, _ = eval_model(model_8_sgd, criterion, test_data)\n",
        "all_losses['sgd_8'] = loss_sgd_8"
      ],
      "metadata": {
        "colab": {
          "base_uri": "https://localhost:8080/"
        },
        "id": "On-8-SHF7nRy",
        "outputId": "241176e2-69b0-4db9-a893-d75e555b7926"
      },
      "id": "On-8-SHF7nRy",
      "execution_count": 77,
      "outputs": [
        {
          "output_type": "stream",
          "name": "stderr",
          "text": [
            "100%|██████████| 25/25 [00:10<00:00,  2.47it/s, epoch=25, loss=1.82e+3]\n",
            "100%|██████████| 25/25 [00:11<00:00,  2.22it/s, epoch=25, loss=733]\n",
            "100%|██████████| 25/25 [00:13<00:00,  1.90it/s, epoch=25, loss=1.54e+3]\n"
          ]
        }
      ]
    },
    {
      "cell_type": "code",
      "source": [
        "for key in all_losses:\n",
        "    print(f\"{key}: {all_losses[key]}\")\n",
        "\n",
        "print(all_losses['adam_2']-all_losses['sgd_2'])\n",
        "print(all_losses['adam_4']-all_losses['sgd_4'])\n",
        "print(all_losses['adam_8']-all_losses['sgd_8'])"
      ],
      "metadata": {
        "colab": {
          "base_uri": "https://localhost:8080/"
        },
        "id": "7v2JX4iHQENL",
        "outputId": "bc45b803-f490-4d0f-8d4b-2ce8ad20c190"
      },
      "execution_count": 78,
      "outputs": [
        {
          "output_type": "stream",
          "name": "stdout",
          "text": [
            "adam_2: 3.555123805999756\n",
            "adam_4: 1.4087191820144653\n",
            "adam_8: 3.295992374420166\n",
            "sgd_2: 3.555123805999756\n",
            "sgd_4: 1.4087191820144653\n",
            "sgd_8: 3.295992374420166\n",
            "0.0\n",
            "0.0\n",
            "0.0\n"
          ]
        }
      ],
      "id": "7v2JX4iHQENL"
    },
    {
      "cell_type": "markdown",
      "id": "a012820e",
      "metadata": {
        "deletable": false,
        "editable": false,
        "id": "a012820e"
      },
      "source": [
        "<!-- BEGIN QUESTION -->\n",
        "\n",
        "**Question:** What conclusions have you drawn from your experimentation?\n",
        "<!--\n",
        "BEGIN QUESTION\n",
        "name: open_response_testing_models\n",
        "manual: true\n",
        "-->"
      ]
    },
    {
      "cell_type": "markdown",
      "id": "ea2e4b68",
      "metadata": {
        "id": "ea2e4b68"
      },
      "source": [
        "We ran cross-expiriments on two factors of the model: the hidden dimension size (2, 4, 8) and the optimization method (ADAM vs SGD).\n",
        "The first conclusion we drew from the expiriments is about the dimension sizes:\n",
        "We found that for the selcted dimensions and model shape, the middle size (hidden_dimension=4) was the ideal dimension. We can explain this result based on these general points:\n",
        "1. If the model is too small, it has a limited ability to learn complex relations and patterns in the data. Therefore making it underfit and unable to \"correctly\" classify the data.\n",
        "2. However, for models that are too large, we risk overfitting the training data, hence harming the models generalization ability, creating a model that is also unable to \"correctly\" classify the data.\n",
        "In this trade-off, it seems that hidden_dim = 4 is a good balancing point for the model and our data.\n",
        "Of course, this is not a magic number, and it dependes on other factors in the model such as the number of layers, activation functions, size of the training data etc.\n",
        "\n",
        "The second conclusion we drew is that the optimizer had no impact on the final model on the given dataset, for all dimension sizes we checked. We can simply assume that in the specific settings of our expiriment, both optimizers eventually reached the same minimum point (for the loss function), creating a pretty similar (or maybe even exactly similar) models. There is however a plausible possibility that during the training, the different optimizers took different number of epochs to reach this minimum, which means that for different num_epochs we might have gotten different results. Again, this also depends on other factors such as the loss function, the learning rate, the models architecture etc."
      ]
    },
    {
      "cell_type": "markdown",
      "id": "0512adb0",
      "metadata": {
        "deletable": false,
        "editable": false,
        "id": "0512adb0"
      },
      "source": [
        "<!-- END QUESTION -->\n",
        "\n",
        "<!-- BEGIN QUESTION -->\n",
        "\n",
        "# Lab debrief\n",
        "\n",
        "**Question:** We're interested in any thoughts you have about this lab so that we can improve this lab for later years, and to inform later labs for this year. Please list any issues that arose or comments you have to improve the lab. Useful things to comment on include the following, but you're not restricted to these:\n",
        "\n",
        "* Was the lab too long or too short?\n",
        "* Were the readings appropriate for the lab?\n",
        "* Was it clear (at least after you completed the lab) what the points of the exercises were?\n",
        "* Are there additions or changes you think would make the lab better?\n",
        "\n",
        "<!--\n",
        "BEGIN QUESTION\n",
        "name: open_response_debrief\n",
        "manual: true\n",
        "-->"
      ]
    },
    {
      "cell_type": "markdown",
      "id": "3d45e865",
      "metadata": {
        "id": "3d45e865"
      },
      "source": [
        "_Type your answer here, replacing this text._"
      ]
    },
    {
      "cell_type": "markdown",
      "id": "be53eb0a",
      "metadata": {
        "id": "be53eb0a"
      },
      "source": [
        "<!-- END QUESTION -->\n",
        "\n",
        "\n",
        "\n",
        "# End of lab 1-5 {-}"
      ]
    },
    {
      "cell_type": "markdown",
      "id": "949a7e4b",
      "metadata": {
        "deletable": false,
        "editable": false,
        "id": "949a7e4b"
      },
      "source": [
        "---\n",
        "\n",
        "To double-check your work, the cell below will rerun all of the autograder tests."
      ]
    },
    {
      "cell_type": "code",
      "execution_count": 66,
      "id": "af728ec4",
      "metadata": {
        "deletable": false,
        "editable": false,
        "colab": {
          "base_uri": "https://localhost:8080/",
          "height": 397
        },
        "id": "af728ec4",
        "outputId": "0a25e5e6-4db3-4b5e-c58d-d0a3838b40a1"
      },
      "outputs": [
        {
          "output_type": "execute_result",
          "data": {
            "text/plain": [
              "count_instances:\n",
              "\n",
              "    All tests passed!\n",
              "    \n",
              "\n",
              "count_instances_class:\n",
              "\n",
              "    All tests passed!\n",
              "    \n",
              "\n",
              "count_tokens_instances:\n",
              "\n",
              "    All tests passed!\n",
              "    \n",
              "\n",
              "dataset_setup:\n",
              "\n",
              "    All tests passed!\n",
              "    \n",
              "\n",
              "dataset_split:\n",
              "\n",
              "    All tests passed!\n",
              "    \n",
              "\n",
              "model_reduces_loss:\n",
              "\n",
              "    All tests passed!\n",
              "    \n",
              "\n",
              "print_vocab:\n",
              "\n",
              "    All tests passed!\n",
              "    \n",
              "\n",
              "vocab_sizes:\n",
              "\n",
              "    All tests passed!\n",
              "    \n"
            ],
            "text/html": [
              "<p><strong>count_instances:</strong></p>\n",
              "\n",
              "    \n",
              "    \n",
              "        <p>All tests passed!</p>\n",
              "    \n",
              "    \n",
              "\n",
              "<p><strong>count_instances_class:</strong></p>\n",
              "\n",
              "    \n",
              "    \n",
              "        <p>All tests passed!</p>\n",
              "    \n",
              "    \n",
              "\n",
              "<p><strong>count_tokens_instances:</strong></p>\n",
              "\n",
              "    \n",
              "    \n",
              "        <p>All tests passed!</p>\n",
              "    \n",
              "    \n",
              "\n",
              "<p><strong>dataset_setup:</strong></p>\n",
              "\n",
              "    \n",
              "    \n",
              "        <p>All tests passed!</p>\n",
              "    \n",
              "    \n",
              "\n",
              "<p><strong>dataset_split:</strong></p>\n",
              "\n",
              "    \n",
              "    \n",
              "        <p>All tests passed!</p>\n",
              "    \n",
              "    \n",
              "\n",
              "<p><strong>model_reduces_loss:</strong></p>\n",
              "\n",
              "    \n",
              "    \n",
              "        <p>All tests passed!</p>\n",
              "    \n",
              "    \n",
              "\n",
              "<p><strong>print_vocab:</strong></p>\n",
              "\n",
              "    \n",
              "    \n",
              "        <p>All tests passed!</p>\n",
              "    \n",
              "    \n",
              "\n",
              "<p><strong>vocab_sizes:</strong></p>\n",
              "\n",
              "    \n",
              "    \n",
              "        <p>All tests passed!</p>\n",
              "    \n",
              "    \n",
              "\n"
            ]
          },
          "metadata": {},
          "execution_count": 66
        }
      ],
      "source": [
        "grader.check_all()"
      ]
    }
  ],
  "metadata": {
    "celltoolbar": "Edit Metadata",
    "kernelspec": {
      "display_name": "Python 3 (ipykernel)",
      "language": "python",
      "name": "python3"
    },
    "language_info": {
      "codemirror_mode": {
        "name": "ipython",
        "version": 3
      },
      "file_extension": ".py",
      "mimetype": "text/x-python",
      "name": "python",
      "nbconvert_exporter": "python",
      "pygments_lexer": "ipython3",
      "version": "3.8.3"
    },
    "title": "Course 236299 Lab 1-5: Scaling up: Huggingface Datasets, Tokenizers, and PyTorch",
    "widgets": {
      "application/vnd.jupyter.widget-state+json": {
        "20e7be3170134582968dc83d801acd3a": {
          "model_module": "@jupyter-widgets/controls",
          "model_name": "HBoxModel",
          "model_module_version": "1.5.0",
          "state": {
            "_dom_classes": [],
            "_model_module": "@jupyter-widgets/controls",
            "_model_module_version": "1.5.0",
            "_model_name": "HBoxModel",
            "_view_count": null,
            "_view_module": "@jupyter-widgets/controls",
            "_view_module_version": "1.5.0",
            "_view_name": "HBoxView",
            "box_style": "",
            "children": [
              "IPY_MODEL_bbcc8bf86ace46ff892d32f5502699fb",
              "IPY_MODEL_617767ad2738446aaf6f31f0b0611324",
              "IPY_MODEL_6bbe1dcf15514ae5a22b80995ef1ce53"
            ],
            "layout": "IPY_MODEL_46274b56775340bcbcf90bf1e02efd1e"
          }
        },
        "bbcc8bf86ace46ff892d32f5502699fb": {
          "model_module": "@jupyter-widgets/controls",
          "model_name": "HTMLModel",
          "model_module_version": "1.5.0",
          "state": {
            "_dom_classes": [],
            "_model_module": "@jupyter-widgets/controls",
            "_model_module_version": "1.5.0",
            "_model_name": "HTMLModel",
            "_view_count": null,
            "_view_module": "@jupyter-widgets/controls",
            "_view_module_version": "1.5.0",
            "_view_name": "HTMLView",
            "description": "",
            "description_tooltip": null,
            "layout": "IPY_MODEL_0b8ec68e039c4db399da084d406a0759",
            "placeholder": "​",
            "style": "IPY_MODEL_b2bdca776651493b87498cc42bb58909",
            "value": "Generating train split: "
          }
        },
        "617767ad2738446aaf6f31f0b0611324": {
          "model_module": "@jupyter-widgets/controls",
          "model_name": "FloatProgressModel",
          "model_module_version": "1.5.0",
          "state": {
            "_dom_classes": [],
            "_model_module": "@jupyter-widgets/controls",
            "_model_module_version": "1.5.0",
            "_model_name": "FloatProgressModel",
            "_view_count": null,
            "_view_module": "@jupyter-widgets/controls",
            "_view_module_version": "1.5.0",
            "_view_name": "ProgressView",
            "bar_style": "success",
            "description": "",
            "description_tooltip": null,
            "layout": "IPY_MODEL_01fc53e4d38b44838f30249c8bac0696",
            "max": 1,
            "min": 0,
            "orientation": "horizontal",
            "style": "IPY_MODEL_b202ecc4f4274de693cd5e7fa285ef4e",
            "value": 1
          }
        },
        "6bbe1dcf15514ae5a22b80995ef1ce53": {
          "model_module": "@jupyter-widgets/controls",
          "model_name": "HTMLModel",
          "model_module_version": "1.5.0",
          "state": {
            "_dom_classes": [],
            "_model_module": "@jupyter-widgets/controls",
            "_model_module_version": "1.5.0",
            "_model_name": "HTMLModel",
            "_view_count": null,
            "_view_module": "@jupyter-widgets/controls",
            "_view_module_version": "1.5.0",
            "_view_name": "HTMLView",
            "description": "",
            "description_tooltip": null,
            "layout": "IPY_MODEL_33d7eda747c04527a2f208469797f9d4",
            "placeholder": "​",
            "style": "IPY_MODEL_22188b47124d415689677c9e2f513ba9",
            "value": " 139/0 [00:00&lt;00:00, 815.45 examples/s]"
          }
        },
        "46274b56775340bcbcf90bf1e02efd1e": {
          "model_module": "@jupyter-widgets/base",
          "model_name": "LayoutModel",
          "model_module_version": "1.2.0",
          "state": {
            "_model_module": "@jupyter-widgets/base",
            "_model_module_version": "1.2.0",
            "_model_name": "LayoutModel",
            "_view_count": null,
            "_view_module": "@jupyter-widgets/base",
            "_view_module_version": "1.2.0",
            "_view_name": "LayoutView",
            "align_content": null,
            "align_items": null,
            "align_self": null,
            "border": null,
            "bottom": null,
            "display": null,
            "flex": null,
            "flex_flow": null,
            "grid_area": null,
            "grid_auto_columns": null,
            "grid_auto_flow": null,
            "grid_auto_rows": null,
            "grid_column": null,
            "grid_gap": null,
            "grid_row": null,
            "grid_template_areas": null,
            "grid_template_columns": null,
            "grid_template_rows": null,
            "height": null,
            "justify_content": null,
            "justify_items": null,
            "left": null,
            "margin": null,
            "max_height": null,
            "max_width": null,
            "min_height": null,
            "min_width": null,
            "object_fit": null,
            "object_position": null,
            "order": null,
            "overflow": null,
            "overflow_x": null,
            "overflow_y": null,
            "padding": null,
            "right": null,
            "top": null,
            "visibility": null,
            "width": null
          }
        },
        "0b8ec68e039c4db399da084d406a0759": {
          "model_module": "@jupyter-widgets/base",
          "model_name": "LayoutModel",
          "model_module_version": "1.2.0",
          "state": {
            "_model_module": "@jupyter-widgets/base",
            "_model_module_version": "1.2.0",
            "_model_name": "LayoutModel",
            "_view_count": null,
            "_view_module": "@jupyter-widgets/base",
            "_view_module_version": "1.2.0",
            "_view_name": "LayoutView",
            "align_content": null,
            "align_items": null,
            "align_self": null,
            "border": null,
            "bottom": null,
            "display": null,
            "flex": null,
            "flex_flow": null,
            "grid_area": null,
            "grid_auto_columns": null,
            "grid_auto_flow": null,
            "grid_auto_rows": null,
            "grid_column": null,
            "grid_gap": null,
            "grid_row": null,
            "grid_template_areas": null,
            "grid_template_columns": null,
            "grid_template_rows": null,
            "height": null,
            "justify_content": null,
            "justify_items": null,
            "left": null,
            "margin": null,
            "max_height": null,
            "max_width": null,
            "min_height": null,
            "min_width": null,
            "object_fit": null,
            "object_position": null,
            "order": null,
            "overflow": null,
            "overflow_x": null,
            "overflow_y": null,
            "padding": null,
            "right": null,
            "top": null,
            "visibility": null,
            "width": null
          }
        },
        "b2bdca776651493b87498cc42bb58909": {
          "model_module": "@jupyter-widgets/controls",
          "model_name": "DescriptionStyleModel",
          "model_module_version": "1.5.0",
          "state": {
            "_model_module": "@jupyter-widgets/controls",
            "_model_module_version": "1.5.0",
            "_model_name": "DescriptionStyleModel",
            "_view_count": null,
            "_view_module": "@jupyter-widgets/base",
            "_view_module_version": "1.2.0",
            "_view_name": "StyleView",
            "description_width": ""
          }
        },
        "01fc53e4d38b44838f30249c8bac0696": {
          "model_module": "@jupyter-widgets/base",
          "model_name": "LayoutModel",
          "model_module_version": "1.2.0",
          "state": {
            "_model_module": "@jupyter-widgets/base",
            "_model_module_version": "1.2.0",
            "_model_name": "LayoutModel",
            "_view_count": null,
            "_view_module": "@jupyter-widgets/base",
            "_view_module_version": "1.2.0",
            "_view_name": "LayoutView",
            "align_content": null,
            "align_items": null,
            "align_self": null,
            "border": null,
            "bottom": null,
            "display": null,
            "flex": null,
            "flex_flow": null,
            "grid_area": null,
            "grid_auto_columns": null,
            "grid_auto_flow": null,
            "grid_auto_rows": null,
            "grid_column": null,
            "grid_gap": null,
            "grid_row": null,
            "grid_template_areas": null,
            "grid_template_columns": null,
            "grid_template_rows": null,
            "height": null,
            "justify_content": null,
            "justify_items": null,
            "left": null,
            "margin": null,
            "max_height": null,
            "max_width": null,
            "min_height": null,
            "min_width": null,
            "object_fit": null,
            "object_position": null,
            "order": null,
            "overflow": null,
            "overflow_x": null,
            "overflow_y": null,
            "padding": null,
            "right": null,
            "top": null,
            "visibility": null,
            "width": "20px"
          }
        },
        "b202ecc4f4274de693cd5e7fa285ef4e": {
          "model_module": "@jupyter-widgets/controls",
          "model_name": "ProgressStyleModel",
          "model_module_version": "1.5.0",
          "state": {
            "_model_module": "@jupyter-widgets/controls",
            "_model_module_version": "1.5.0",
            "_model_name": "ProgressStyleModel",
            "_view_count": null,
            "_view_module": "@jupyter-widgets/base",
            "_view_module_version": "1.2.0",
            "_view_name": "StyleView",
            "bar_color": null,
            "description_width": ""
          }
        },
        "33d7eda747c04527a2f208469797f9d4": {
          "model_module": "@jupyter-widgets/base",
          "model_name": "LayoutModel",
          "model_module_version": "1.2.0",
          "state": {
            "_model_module": "@jupyter-widgets/base",
            "_model_module_version": "1.2.0",
            "_model_name": "LayoutModel",
            "_view_count": null,
            "_view_module": "@jupyter-widgets/base",
            "_view_module_version": "1.2.0",
            "_view_name": "LayoutView",
            "align_content": null,
            "align_items": null,
            "align_self": null,
            "border": null,
            "bottom": null,
            "display": null,
            "flex": null,
            "flex_flow": null,
            "grid_area": null,
            "grid_auto_columns": null,
            "grid_auto_flow": null,
            "grid_auto_rows": null,
            "grid_column": null,
            "grid_gap": null,
            "grid_row": null,
            "grid_template_areas": null,
            "grid_template_columns": null,
            "grid_template_rows": null,
            "height": null,
            "justify_content": null,
            "justify_items": null,
            "left": null,
            "margin": null,
            "max_height": null,
            "max_width": null,
            "min_height": null,
            "min_width": null,
            "object_fit": null,
            "object_position": null,
            "order": null,
            "overflow": null,
            "overflow_x": null,
            "overflow_y": null,
            "padding": null,
            "right": null,
            "top": null,
            "visibility": null,
            "width": null
          }
        },
        "22188b47124d415689677c9e2f513ba9": {
          "model_module": "@jupyter-widgets/controls",
          "model_name": "DescriptionStyleModel",
          "model_module_version": "1.5.0",
          "state": {
            "_model_module": "@jupyter-widgets/controls",
            "_model_module_version": "1.5.0",
            "_model_name": "DescriptionStyleModel",
            "_view_count": null,
            "_view_module": "@jupyter-widgets/base",
            "_view_module_version": "1.2.0",
            "_view_name": "StyleView",
            "description_width": ""
          }
        },
        "87cef226847a45e29645a4a79f5064cd": {
          "model_module": "@jupyter-widgets/controls",
          "model_name": "HBoxModel",
          "model_module_version": "1.5.0",
          "state": {
            "_dom_classes": [],
            "_model_module": "@jupyter-widgets/controls",
            "_model_module_version": "1.5.0",
            "_model_name": "HBoxModel",
            "_view_count": null,
            "_view_module": "@jupyter-widgets/controls",
            "_view_module_version": "1.5.0",
            "_view_name": "HBoxView",
            "box_style": "",
            "children": [
              "IPY_MODEL_8e0e39d859f04853aee61a7b9be3dea2",
              "IPY_MODEL_8338aa8978e94b6aae66fb3d489158c5",
              "IPY_MODEL_21eaab0f62e648898986b97622033841"
            ],
            "layout": "IPY_MODEL_60b414377b8b4580bbaca992ef381f04"
          }
        },
        "8e0e39d859f04853aee61a7b9be3dea2": {
          "model_module": "@jupyter-widgets/controls",
          "model_name": "HTMLModel",
          "model_module_version": "1.5.0",
          "state": {
            "_dom_classes": [],
            "_model_module": "@jupyter-widgets/controls",
            "_model_module_version": "1.5.0",
            "_model_name": "HTMLModel",
            "_view_count": null,
            "_view_module": "@jupyter-widgets/controls",
            "_view_module_version": "1.5.0",
            "_view_name": "HTMLView",
            "description": "",
            "description_tooltip": null,
            "layout": "IPY_MODEL_ccde23b4e5b94f1f9b65760287d80084",
            "placeholder": "​",
            "style": "IPY_MODEL_1612cec72db844b386abed9cbc3c3d00",
            "value": "Flattening the indices: 100%"
          }
        },
        "8338aa8978e94b6aae66fb3d489158c5": {
          "model_module": "@jupyter-widgets/controls",
          "model_name": "FloatProgressModel",
          "model_module_version": "1.5.0",
          "state": {
            "_dom_classes": [],
            "_model_module": "@jupyter-widgets/controls",
            "_model_module_version": "1.5.0",
            "_model_name": "FloatProgressModel",
            "_view_count": null,
            "_view_module": "@jupyter-widgets/controls",
            "_view_module_version": "1.5.0",
            "_view_name": "ProgressView",
            "bar_style": "success",
            "description": "",
            "description_tooltip": null,
            "layout": "IPY_MODEL_84397ffb41494ae8a6b90e037f846b9c",
            "max": 97,
            "min": 0,
            "orientation": "horizontal",
            "style": "IPY_MODEL_ca66ee5de39242c38982d60169fd12da",
            "value": 97
          }
        },
        "21eaab0f62e648898986b97622033841": {
          "model_module": "@jupyter-widgets/controls",
          "model_name": "HTMLModel",
          "model_module_version": "1.5.0",
          "state": {
            "_dom_classes": [],
            "_model_module": "@jupyter-widgets/controls",
            "_model_module_version": "1.5.0",
            "_model_name": "HTMLModel",
            "_view_count": null,
            "_view_module": "@jupyter-widgets/controls",
            "_view_module_version": "1.5.0",
            "_view_name": "HTMLView",
            "description": "",
            "description_tooltip": null,
            "layout": "IPY_MODEL_4be95f2497e044fa818ee71968904069",
            "placeholder": "​",
            "style": "IPY_MODEL_bcb97451476948d5a982a8773eea0312",
            "value": " 97/97 [00:00&lt;00:00, 1875.91 examples/s]"
          }
        },
        "60b414377b8b4580bbaca992ef381f04": {
          "model_module": "@jupyter-widgets/base",
          "model_name": "LayoutModel",
          "model_module_version": "1.2.0",
          "state": {
            "_model_module": "@jupyter-widgets/base",
            "_model_module_version": "1.2.0",
            "_model_name": "LayoutModel",
            "_view_count": null,
            "_view_module": "@jupyter-widgets/base",
            "_view_module_version": "1.2.0",
            "_view_name": "LayoutView",
            "align_content": null,
            "align_items": null,
            "align_self": null,
            "border": null,
            "bottom": null,
            "display": null,
            "flex": null,
            "flex_flow": null,
            "grid_area": null,
            "grid_auto_columns": null,
            "grid_auto_flow": null,
            "grid_auto_rows": null,
            "grid_column": null,
            "grid_gap": null,
            "grid_row": null,
            "grid_template_areas": null,
            "grid_template_columns": null,
            "grid_template_rows": null,
            "height": null,
            "justify_content": null,
            "justify_items": null,
            "left": null,
            "margin": null,
            "max_height": null,
            "max_width": null,
            "min_height": null,
            "min_width": null,
            "object_fit": null,
            "object_position": null,
            "order": null,
            "overflow": null,
            "overflow_x": null,
            "overflow_y": null,
            "padding": null,
            "right": null,
            "top": null,
            "visibility": null,
            "width": null
          }
        },
        "ccde23b4e5b94f1f9b65760287d80084": {
          "model_module": "@jupyter-widgets/base",
          "model_name": "LayoutModel",
          "model_module_version": "1.2.0",
          "state": {
            "_model_module": "@jupyter-widgets/base",
            "_model_module_version": "1.2.0",
            "_model_name": "LayoutModel",
            "_view_count": null,
            "_view_module": "@jupyter-widgets/base",
            "_view_module_version": "1.2.0",
            "_view_name": "LayoutView",
            "align_content": null,
            "align_items": null,
            "align_self": null,
            "border": null,
            "bottom": null,
            "display": null,
            "flex": null,
            "flex_flow": null,
            "grid_area": null,
            "grid_auto_columns": null,
            "grid_auto_flow": null,
            "grid_auto_rows": null,
            "grid_column": null,
            "grid_gap": null,
            "grid_row": null,
            "grid_template_areas": null,
            "grid_template_columns": null,
            "grid_template_rows": null,
            "height": null,
            "justify_content": null,
            "justify_items": null,
            "left": null,
            "margin": null,
            "max_height": null,
            "max_width": null,
            "min_height": null,
            "min_width": null,
            "object_fit": null,
            "object_position": null,
            "order": null,
            "overflow": null,
            "overflow_x": null,
            "overflow_y": null,
            "padding": null,
            "right": null,
            "top": null,
            "visibility": null,
            "width": null
          }
        },
        "1612cec72db844b386abed9cbc3c3d00": {
          "model_module": "@jupyter-widgets/controls",
          "model_name": "DescriptionStyleModel",
          "model_module_version": "1.5.0",
          "state": {
            "_model_module": "@jupyter-widgets/controls",
            "_model_module_version": "1.5.0",
            "_model_name": "DescriptionStyleModel",
            "_view_count": null,
            "_view_module": "@jupyter-widgets/base",
            "_view_module_version": "1.2.0",
            "_view_name": "StyleView",
            "description_width": ""
          }
        },
        "84397ffb41494ae8a6b90e037f846b9c": {
          "model_module": "@jupyter-widgets/base",
          "model_name": "LayoutModel",
          "model_module_version": "1.2.0",
          "state": {
            "_model_module": "@jupyter-widgets/base",
            "_model_module_version": "1.2.0",
            "_model_name": "LayoutModel",
            "_view_count": null,
            "_view_module": "@jupyter-widgets/base",
            "_view_module_version": "1.2.0",
            "_view_name": "LayoutView",
            "align_content": null,
            "align_items": null,
            "align_self": null,
            "border": null,
            "bottom": null,
            "display": null,
            "flex": null,
            "flex_flow": null,
            "grid_area": null,
            "grid_auto_columns": null,
            "grid_auto_flow": null,
            "grid_auto_rows": null,
            "grid_column": null,
            "grid_gap": null,
            "grid_row": null,
            "grid_template_areas": null,
            "grid_template_columns": null,
            "grid_template_rows": null,
            "height": null,
            "justify_content": null,
            "justify_items": null,
            "left": null,
            "margin": null,
            "max_height": null,
            "max_width": null,
            "min_height": null,
            "min_width": null,
            "object_fit": null,
            "object_position": null,
            "order": null,
            "overflow": null,
            "overflow_x": null,
            "overflow_y": null,
            "padding": null,
            "right": null,
            "top": null,
            "visibility": null,
            "width": null
          }
        },
        "ca66ee5de39242c38982d60169fd12da": {
          "model_module": "@jupyter-widgets/controls",
          "model_name": "ProgressStyleModel",
          "model_module_version": "1.5.0",
          "state": {
            "_model_module": "@jupyter-widgets/controls",
            "_model_module_version": "1.5.0",
            "_model_name": "ProgressStyleModel",
            "_view_count": null,
            "_view_module": "@jupyter-widgets/base",
            "_view_module_version": "1.2.0",
            "_view_name": "StyleView",
            "bar_color": null,
            "description_width": ""
          }
        },
        "4be95f2497e044fa818ee71968904069": {
          "model_module": "@jupyter-widgets/base",
          "model_name": "LayoutModel",
          "model_module_version": "1.2.0",
          "state": {
            "_model_module": "@jupyter-widgets/base",
            "_model_module_version": "1.2.0",
            "_model_name": "LayoutModel",
            "_view_count": null,
            "_view_module": "@jupyter-widgets/base",
            "_view_module_version": "1.2.0",
            "_view_name": "LayoutView",
            "align_content": null,
            "align_items": null,
            "align_self": null,
            "border": null,
            "bottom": null,
            "display": null,
            "flex": null,
            "flex_flow": null,
            "grid_area": null,
            "grid_auto_columns": null,
            "grid_auto_flow": null,
            "grid_auto_rows": null,
            "grid_column": null,
            "grid_gap": null,
            "grid_row": null,
            "grid_template_areas": null,
            "grid_template_columns": null,
            "grid_template_rows": null,
            "height": null,
            "justify_content": null,
            "justify_items": null,
            "left": null,
            "margin": null,
            "max_height": null,
            "max_width": null,
            "min_height": null,
            "min_width": null,
            "object_fit": null,
            "object_position": null,
            "order": null,
            "overflow": null,
            "overflow_x": null,
            "overflow_y": null,
            "padding": null,
            "right": null,
            "top": null,
            "visibility": null,
            "width": null
          }
        },
        "bcb97451476948d5a982a8773eea0312": {
          "model_module": "@jupyter-widgets/controls",
          "model_name": "DescriptionStyleModel",
          "model_module_version": "1.5.0",
          "state": {
            "_model_module": "@jupyter-widgets/controls",
            "_model_module_version": "1.5.0",
            "_model_name": "DescriptionStyleModel",
            "_view_count": null,
            "_view_module": "@jupyter-widgets/base",
            "_view_module_version": "1.2.0",
            "_view_name": "StyleView",
            "description_width": ""
          }
        },
        "756af8c905234eef994aea186612fdfd": {
          "model_module": "@jupyter-widgets/controls",
          "model_name": "HBoxModel",
          "model_module_version": "1.5.0",
          "state": {
            "_dom_classes": [],
            "_model_module": "@jupyter-widgets/controls",
            "_model_module_version": "1.5.0",
            "_model_name": "HBoxModel",
            "_view_count": null,
            "_view_module": "@jupyter-widgets/controls",
            "_view_module_version": "1.5.0",
            "_view_name": "HBoxView",
            "box_style": "",
            "children": [
              "IPY_MODEL_ab5634c26aff419cb21930dee39948a8",
              "IPY_MODEL_3afe8e71e16a4f48a7371b53f791aa92",
              "IPY_MODEL_26f6c445c4334a6f8b2dcbd798ce99f9"
            ],
            "layout": "IPY_MODEL_8deba076ea9e4853b55019e3d8ebf480"
          }
        },
        "ab5634c26aff419cb21930dee39948a8": {
          "model_module": "@jupyter-widgets/controls",
          "model_name": "HTMLModel",
          "model_module_version": "1.5.0",
          "state": {
            "_dom_classes": [],
            "_model_module": "@jupyter-widgets/controls",
            "_model_module_version": "1.5.0",
            "_model_name": "HTMLModel",
            "_view_count": null,
            "_view_module": "@jupyter-widgets/controls",
            "_view_module_version": "1.5.0",
            "_view_name": "HTMLView",
            "description": "",
            "description_tooltip": null,
            "layout": "IPY_MODEL_978bc5fe39924ece8c522e6eb822cfc1",
            "placeholder": "​",
            "style": "IPY_MODEL_5ad0b522f3f2447599e6f491a2292cfe",
            "value": "Flattening the indices: 100%"
          }
        },
        "3afe8e71e16a4f48a7371b53f791aa92": {
          "model_module": "@jupyter-widgets/controls",
          "model_name": "FloatProgressModel",
          "model_module_version": "1.5.0",
          "state": {
            "_dom_classes": [],
            "_model_module": "@jupyter-widgets/controls",
            "_model_module_version": "1.5.0",
            "_model_name": "FloatProgressModel",
            "_view_count": null,
            "_view_module": "@jupyter-widgets/controls",
            "_view_module_version": "1.5.0",
            "_view_name": "ProgressView",
            "bar_style": "success",
            "description": "",
            "description_tooltip": null,
            "layout": "IPY_MODEL_562cc49771054cb1b9088235d68963d6",
            "max": 42,
            "min": 0,
            "orientation": "horizontal",
            "style": "IPY_MODEL_e3f1854e66054b118db50fd5260db57c",
            "value": 42
          }
        },
        "26f6c445c4334a6f8b2dcbd798ce99f9": {
          "model_module": "@jupyter-widgets/controls",
          "model_name": "HTMLModel",
          "model_module_version": "1.5.0",
          "state": {
            "_dom_classes": [],
            "_model_module": "@jupyter-widgets/controls",
            "_model_module_version": "1.5.0",
            "_model_name": "HTMLModel",
            "_view_count": null,
            "_view_module": "@jupyter-widgets/controls",
            "_view_module_version": "1.5.0",
            "_view_name": "HTMLView",
            "description": "",
            "description_tooltip": null,
            "layout": "IPY_MODEL_01b3533df71546019671751caf5bb2f9",
            "placeholder": "​",
            "style": "IPY_MODEL_295208fcbaa0480d9bf226731886a78d",
            "value": " 42/42 [00:00&lt;00:00, 845.89 examples/s]"
          }
        },
        "8deba076ea9e4853b55019e3d8ebf480": {
          "model_module": "@jupyter-widgets/base",
          "model_name": "LayoutModel",
          "model_module_version": "1.2.0",
          "state": {
            "_model_module": "@jupyter-widgets/base",
            "_model_module_version": "1.2.0",
            "_model_name": "LayoutModel",
            "_view_count": null,
            "_view_module": "@jupyter-widgets/base",
            "_view_module_version": "1.2.0",
            "_view_name": "LayoutView",
            "align_content": null,
            "align_items": null,
            "align_self": null,
            "border": null,
            "bottom": null,
            "display": null,
            "flex": null,
            "flex_flow": null,
            "grid_area": null,
            "grid_auto_columns": null,
            "grid_auto_flow": null,
            "grid_auto_rows": null,
            "grid_column": null,
            "grid_gap": null,
            "grid_row": null,
            "grid_template_areas": null,
            "grid_template_columns": null,
            "grid_template_rows": null,
            "height": null,
            "justify_content": null,
            "justify_items": null,
            "left": null,
            "margin": null,
            "max_height": null,
            "max_width": null,
            "min_height": null,
            "min_width": null,
            "object_fit": null,
            "object_position": null,
            "order": null,
            "overflow": null,
            "overflow_x": null,
            "overflow_y": null,
            "padding": null,
            "right": null,
            "top": null,
            "visibility": null,
            "width": null
          }
        },
        "978bc5fe39924ece8c522e6eb822cfc1": {
          "model_module": "@jupyter-widgets/base",
          "model_name": "LayoutModel",
          "model_module_version": "1.2.0",
          "state": {
            "_model_module": "@jupyter-widgets/base",
            "_model_module_version": "1.2.0",
            "_model_name": "LayoutModel",
            "_view_count": null,
            "_view_module": "@jupyter-widgets/base",
            "_view_module_version": "1.2.0",
            "_view_name": "LayoutView",
            "align_content": null,
            "align_items": null,
            "align_self": null,
            "border": null,
            "bottom": null,
            "display": null,
            "flex": null,
            "flex_flow": null,
            "grid_area": null,
            "grid_auto_columns": null,
            "grid_auto_flow": null,
            "grid_auto_rows": null,
            "grid_column": null,
            "grid_gap": null,
            "grid_row": null,
            "grid_template_areas": null,
            "grid_template_columns": null,
            "grid_template_rows": null,
            "height": null,
            "justify_content": null,
            "justify_items": null,
            "left": null,
            "margin": null,
            "max_height": null,
            "max_width": null,
            "min_height": null,
            "min_width": null,
            "object_fit": null,
            "object_position": null,
            "order": null,
            "overflow": null,
            "overflow_x": null,
            "overflow_y": null,
            "padding": null,
            "right": null,
            "top": null,
            "visibility": null,
            "width": null
          }
        },
        "5ad0b522f3f2447599e6f491a2292cfe": {
          "model_module": "@jupyter-widgets/controls",
          "model_name": "DescriptionStyleModel",
          "model_module_version": "1.5.0",
          "state": {
            "_model_module": "@jupyter-widgets/controls",
            "_model_module_version": "1.5.0",
            "_model_name": "DescriptionStyleModel",
            "_view_count": null,
            "_view_module": "@jupyter-widgets/base",
            "_view_module_version": "1.2.0",
            "_view_name": "StyleView",
            "description_width": ""
          }
        },
        "562cc49771054cb1b9088235d68963d6": {
          "model_module": "@jupyter-widgets/base",
          "model_name": "LayoutModel",
          "model_module_version": "1.2.0",
          "state": {
            "_model_module": "@jupyter-widgets/base",
            "_model_module_version": "1.2.0",
            "_model_name": "LayoutModel",
            "_view_count": null,
            "_view_module": "@jupyter-widgets/base",
            "_view_module_version": "1.2.0",
            "_view_name": "LayoutView",
            "align_content": null,
            "align_items": null,
            "align_self": null,
            "border": null,
            "bottom": null,
            "display": null,
            "flex": null,
            "flex_flow": null,
            "grid_area": null,
            "grid_auto_columns": null,
            "grid_auto_flow": null,
            "grid_auto_rows": null,
            "grid_column": null,
            "grid_gap": null,
            "grid_row": null,
            "grid_template_areas": null,
            "grid_template_columns": null,
            "grid_template_rows": null,
            "height": null,
            "justify_content": null,
            "justify_items": null,
            "left": null,
            "margin": null,
            "max_height": null,
            "max_width": null,
            "min_height": null,
            "min_width": null,
            "object_fit": null,
            "object_position": null,
            "order": null,
            "overflow": null,
            "overflow_x": null,
            "overflow_y": null,
            "padding": null,
            "right": null,
            "top": null,
            "visibility": null,
            "width": null
          }
        },
        "e3f1854e66054b118db50fd5260db57c": {
          "model_module": "@jupyter-widgets/controls",
          "model_name": "ProgressStyleModel",
          "model_module_version": "1.5.0",
          "state": {
            "_model_module": "@jupyter-widgets/controls",
            "_model_module_version": "1.5.0",
            "_model_name": "ProgressStyleModel",
            "_view_count": null,
            "_view_module": "@jupyter-widgets/base",
            "_view_module_version": "1.2.0",
            "_view_name": "StyleView",
            "bar_color": null,
            "description_width": ""
          }
        },
        "01b3533df71546019671751caf5bb2f9": {
          "model_module": "@jupyter-widgets/base",
          "model_name": "LayoutModel",
          "model_module_version": "1.2.0",
          "state": {
            "_model_module": "@jupyter-widgets/base",
            "_model_module_version": "1.2.0",
            "_model_name": "LayoutModel",
            "_view_count": null,
            "_view_module": "@jupyter-widgets/base",
            "_view_module_version": "1.2.0",
            "_view_name": "LayoutView",
            "align_content": null,
            "align_items": null,
            "align_self": null,
            "border": null,
            "bottom": null,
            "display": null,
            "flex": null,
            "flex_flow": null,
            "grid_area": null,
            "grid_auto_columns": null,
            "grid_auto_flow": null,
            "grid_auto_rows": null,
            "grid_column": null,
            "grid_gap": null,
            "grid_row": null,
            "grid_template_areas": null,
            "grid_template_columns": null,
            "grid_template_rows": null,
            "height": null,
            "justify_content": null,
            "justify_items": null,
            "left": null,
            "margin": null,
            "max_height": null,
            "max_width": null,
            "min_height": null,
            "min_width": null,
            "object_fit": null,
            "object_position": null,
            "order": null,
            "overflow": null,
            "overflow_x": null,
            "overflow_y": null,
            "padding": null,
            "right": null,
            "top": null,
            "visibility": null,
            "width": null
          }
        },
        "295208fcbaa0480d9bf226731886a78d": {
          "model_module": "@jupyter-widgets/controls",
          "model_name": "DescriptionStyleModel",
          "model_module_version": "1.5.0",
          "state": {
            "_model_module": "@jupyter-widgets/controls",
            "_model_module_version": "1.5.0",
            "_model_name": "DescriptionStyleModel",
            "_view_count": null,
            "_view_module": "@jupyter-widgets/base",
            "_view_module_version": "1.2.0",
            "_view_name": "StyleView",
            "description_width": ""
          }
        },
        "6e1038a882a04d9bb3154f6495e5aea8": {
          "model_module": "@jupyter-widgets/controls",
          "model_name": "HBoxModel",
          "model_module_version": "1.5.0",
          "state": {
            "_dom_classes": [],
            "_model_module": "@jupyter-widgets/controls",
            "_model_module_version": "1.5.0",
            "_model_name": "HBoxModel",
            "_view_count": null,
            "_view_module": "@jupyter-widgets/controls",
            "_view_module_version": "1.5.0",
            "_view_name": "HBoxView",
            "box_style": "",
            "children": [
              "IPY_MODEL_6a08aaf3c385456788d018439e3c4c21",
              "IPY_MODEL_818adb7e63b74625ae3891018da9a8b6",
              "IPY_MODEL_6848e43513a343bfab6eb192be16263c"
            ],
            "layout": "IPY_MODEL_7dbaff9c74e7496494648b014e3b1568"
          }
        },
        "6a08aaf3c385456788d018439e3c4c21": {
          "model_module": "@jupyter-widgets/controls",
          "model_name": "HTMLModel",
          "model_module_version": "1.5.0",
          "state": {
            "_dom_classes": [],
            "_model_module": "@jupyter-widgets/controls",
            "_model_module_version": "1.5.0",
            "_model_name": "HTMLModel",
            "_view_count": null,
            "_view_module": "@jupyter-widgets/controls",
            "_view_module_version": "1.5.0",
            "_view_name": "HTMLView",
            "description": "",
            "description_tooltip": null,
            "layout": "IPY_MODEL_298bcb03960d4ab396a868a335f83b90",
            "placeholder": "​",
            "style": "IPY_MODEL_a63e3c477a5c4e1fbeb90423bdadaa68",
            "value": "Casting to class labels: 100%"
          }
        },
        "818adb7e63b74625ae3891018da9a8b6": {
          "model_module": "@jupyter-widgets/controls",
          "model_name": "FloatProgressModel",
          "model_module_version": "1.5.0",
          "state": {
            "_dom_classes": [],
            "_model_module": "@jupyter-widgets/controls",
            "_model_module_version": "1.5.0",
            "_model_name": "FloatProgressModel",
            "_view_count": null,
            "_view_module": "@jupyter-widgets/controls",
            "_view_module_version": "1.5.0",
            "_view_name": "ProgressView",
            "bar_style": "success",
            "description": "",
            "description_tooltip": null,
            "layout": "IPY_MODEL_6d3c48a432544fb2b1e8d9d9a7208a50",
            "max": 97,
            "min": 0,
            "orientation": "horizontal",
            "style": "IPY_MODEL_176a874ebf864ccbbe6d592c01fb00d6",
            "value": 97
          }
        },
        "6848e43513a343bfab6eb192be16263c": {
          "model_module": "@jupyter-widgets/controls",
          "model_name": "HTMLModel",
          "model_module_version": "1.5.0",
          "state": {
            "_dom_classes": [],
            "_model_module": "@jupyter-widgets/controls",
            "_model_module_version": "1.5.0",
            "_model_name": "HTMLModel",
            "_view_count": null,
            "_view_module": "@jupyter-widgets/controls",
            "_view_module_version": "1.5.0",
            "_view_name": "HTMLView",
            "description": "",
            "description_tooltip": null,
            "layout": "IPY_MODEL_c824f9f58bc34ea4aa257d5ca57d02b5",
            "placeholder": "​",
            "style": "IPY_MODEL_82ac38f5e9b44a13bd3ad8ac30c05637",
            "value": " 97/97 [00:00&lt;00:00, 1559.82 examples/s]"
          }
        },
        "7dbaff9c74e7496494648b014e3b1568": {
          "model_module": "@jupyter-widgets/base",
          "model_name": "LayoutModel",
          "model_module_version": "1.2.0",
          "state": {
            "_model_module": "@jupyter-widgets/base",
            "_model_module_version": "1.2.0",
            "_model_name": "LayoutModel",
            "_view_count": null,
            "_view_module": "@jupyter-widgets/base",
            "_view_module_version": "1.2.0",
            "_view_name": "LayoutView",
            "align_content": null,
            "align_items": null,
            "align_self": null,
            "border": null,
            "bottom": null,
            "display": null,
            "flex": null,
            "flex_flow": null,
            "grid_area": null,
            "grid_auto_columns": null,
            "grid_auto_flow": null,
            "grid_auto_rows": null,
            "grid_column": null,
            "grid_gap": null,
            "grid_row": null,
            "grid_template_areas": null,
            "grid_template_columns": null,
            "grid_template_rows": null,
            "height": null,
            "justify_content": null,
            "justify_items": null,
            "left": null,
            "margin": null,
            "max_height": null,
            "max_width": null,
            "min_height": null,
            "min_width": null,
            "object_fit": null,
            "object_position": null,
            "order": null,
            "overflow": null,
            "overflow_x": null,
            "overflow_y": null,
            "padding": null,
            "right": null,
            "top": null,
            "visibility": null,
            "width": null
          }
        },
        "298bcb03960d4ab396a868a335f83b90": {
          "model_module": "@jupyter-widgets/base",
          "model_name": "LayoutModel",
          "model_module_version": "1.2.0",
          "state": {
            "_model_module": "@jupyter-widgets/base",
            "_model_module_version": "1.2.0",
            "_model_name": "LayoutModel",
            "_view_count": null,
            "_view_module": "@jupyter-widgets/base",
            "_view_module_version": "1.2.0",
            "_view_name": "LayoutView",
            "align_content": null,
            "align_items": null,
            "align_self": null,
            "border": null,
            "bottom": null,
            "display": null,
            "flex": null,
            "flex_flow": null,
            "grid_area": null,
            "grid_auto_columns": null,
            "grid_auto_flow": null,
            "grid_auto_rows": null,
            "grid_column": null,
            "grid_gap": null,
            "grid_row": null,
            "grid_template_areas": null,
            "grid_template_columns": null,
            "grid_template_rows": null,
            "height": null,
            "justify_content": null,
            "justify_items": null,
            "left": null,
            "margin": null,
            "max_height": null,
            "max_width": null,
            "min_height": null,
            "min_width": null,
            "object_fit": null,
            "object_position": null,
            "order": null,
            "overflow": null,
            "overflow_x": null,
            "overflow_y": null,
            "padding": null,
            "right": null,
            "top": null,
            "visibility": null,
            "width": null
          }
        },
        "a63e3c477a5c4e1fbeb90423bdadaa68": {
          "model_module": "@jupyter-widgets/controls",
          "model_name": "DescriptionStyleModel",
          "model_module_version": "1.5.0",
          "state": {
            "_model_module": "@jupyter-widgets/controls",
            "_model_module_version": "1.5.0",
            "_model_name": "DescriptionStyleModel",
            "_view_count": null,
            "_view_module": "@jupyter-widgets/base",
            "_view_module_version": "1.2.0",
            "_view_name": "StyleView",
            "description_width": ""
          }
        },
        "6d3c48a432544fb2b1e8d9d9a7208a50": {
          "model_module": "@jupyter-widgets/base",
          "model_name": "LayoutModel",
          "model_module_version": "1.2.0",
          "state": {
            "_model_module": "@jupyter-widgets/base",
            "_model_module_version": "1.2.0",
            "_model_name": "LayoutModel",
            "_view_count": null,
            "_view_module": "@jupyter-widgets/base",
            "_view_module_version": "1.2.0",
            "_view_name": "LayoutView",
            "align_content": null,
            "align_items": null,
            "align_self": null,
            "border": null,
            "bottom": null,
            "display": null,
            "flex": null,
            "flex_flow": null,
            "grid_area": null,
            "grid_auto_columns": null,
            "grid_auto_flow": null,
            "grid_auto_rows": null,
            "grid_column": null,
            "grid_gap": null,
            "grid_row": null,
            "grid_template_areas": null,
            "grid_template_columns": null,
            "grid_template_rows": null,
            "height": null,
            "justify_content": null,
            "justify_items": null,
            "left": null,
            "margin": null,
            "max_height": null,
            "max_width": null,
            "min_height": null,
            "min_width": null,
            "object_fit": null,
            "object_position": null,
            "order": null,
            "overflow": null,
            "overflow_x": null,
            "overflow_y": null,
            "padding": null,
            "right": null,
            "top": null,
            "visibility": null,
            "width": null
          }
        },
        "176a874ebf864ccbbe6d592c01fb00d6": {
          "model_module": "@jupyter-widgets/controls",
          "model_name": "ProgressStyleModel",
          "model_module_version": "1.5.0",
          "state": {
            "_model_module": "@jupyter-widgets/controls",
            "_model_module_version": "1.5.0",
            "_model_name": "ProgressStyleModel",
            "_view_count": null,
            "_view_module": "@jupyter-widgets/base",
            "_view_module_version": "1.2.0",
            "_view_name": "StyleView",
            "bar_color": null,
            "description_width": ""
          }
        },
        "c824f9f58bc34ea4aa257d5ca57d02b5": {
          "model_module": "@jupyter-widgets/base",
          "model_name": "LayoutModel",
          "model_module_version": "1.2.0",
          "state": {
            "_model_module": "@jupyter-widgets/base",
            "_model_module_version": "1.2.0",
            "_model_name": "LayoutModel",
            "_view_count": null,
            "_view_module": "@jupyter-widgets/base",
            "_view_module_version": "1.2.0",
            "_view_name": "LayoutView",
            "align_content": null,
            "align_items": null,
            "align_self": null,
            "border": null,
            "bottom": null,
            "display": null,
            "flex": null,
            "flex_flow": null,
            "grid_area": null,
            "grid_auto_columns": null,
            "grid_auto_flow": null,
            "grid_auto_rows": null,
            "grid_column": null,
            "grid_gap": null,
            "grid_row": null,
            "grid_template_areas": null,
            "grid_template_columns": null,
            "grid_template_rows": null,
            "height": null,
            "justify_content": null,
            "justify_items": null,
            "left": null,
            "margin": null,
            "max_height": null,
            "max_width": null,
            "min_height": null,
            "min_width": null,
            "object_fit": null,
            "object_position": null,
            "order": null,
            "overflow": null,
            "overflow_x": null,
            "overflow_y": null,
            "padding": null,
            "right": null,
            "top": null,
            "visibility": null,
            "width": null
          }
        },
        "82ac38f5e9b44a13bd3ad8ac30c05637": {
          "model_module": "@jupyter-widgets/controls",
          "model_name": "DescriptionStyleModel",
          "model_module_version": "1.5.0",
          "state": {
            "_model_module": "@jupyter-widgets/controls",
            "_model_module_version": "1.5.0",
            "_model_name": "DescriptionStyleModel",
            "_view_count": null,
            "_view_module": "@jupyter-widgets/base",
            "_view_module_version": "1.2.0",
            "_view_name": "StyleView",
            "description_width": ""
          }
        },
        "27360d6803384ae9a969df1a1abc5ac4": {
          "model_module": "@jupyter-widgets/controls",
          "model_name": "HBoxModel",
          "model_module_version": "1.5.0",
          "state": {
            "_dom_classes": [],
            "_model_module": "@jupyter-widgets/controls",
            "_model_module_version": "1.5.0",
            "_model_name": "HBoxModel",
            "_view_count": null,
            "_view_module": "@jupyter-widgets/controls",
            "_view_module_version": "1.5.0",
            "_view_name": "HBoxView",
            "box_style": "",
            "children": [
              "IPY_MODEL_9494ab78de424d26b2f6aa8467bd86e0",
              "IPY_MODEL_930c28a2d9d0485fb1992118061c4f71",
              "IPY_MODEL_2cb89fcda7584a60a3e3d7c7e4f1ffef"
            ],
            "layout": "IPY_MODEL_5a6867a8e6e44320af44ea5b34daaaae"
          }
        },
        "9494ab78de424d26b2f6aa8467bd86e0": {
          "model_module": "@jupyter-widgets/controls",
          "model_name": "HTMLModel",
          "model_module_version": "1.5.0",
          "state": {
            "_dom_classes": [],
            "_model_module": "@jupyter-widgets/controls",
            "_model_module_version": "1.5.0",
            "_model_name": "HTMLModel",
            "_view_count": null,
            "_view_module": "@jupyter-widgets/controls",
            "_view_module_version": "1.5.0",
            "_view_name": "HTMLView",
            "description": "",
            "description_tooltip": null,
            "layout": "IPY_MODEL_843aa3bcbcbf4f07bb07d63081e8da48",
            "placeholder": "​",
            "style": "IPY_MODEL_bd1bfc90b1df4981a2c593ed40d933bb",
            "value": "Casting to class labels: 100%"
          }
        },
        "930c28a2d9d0485fb1992118061c4f71": {
          "model_module": "@jupyter-widgets/controls",
          "model_name": "FloatProgressModel",
          "model_module_version": "1.5.0",
          "state": {
            "_dom_classes": [],
            "_model_module": "@jupyter-widgets/controls",
            "_model_module_version": "1.5.0",
            "_model_name": "FloatProgressModel",
            "_view_count": null,
            "_view_module": "@jupyter-widgets/controls",
            "_view_module_version": "1.5.0",
            "_view_name": "ProgressView",
            "bar_style": "success",
            "description": "",
            "description_tooltip": null,
            "layout": "IPY_MODEL_35cd262c581e48c48b8f353b0c16c47c",
            "max": 42,
            "min": 0,
            "orientation": "horizontal",
            "style": "IPY_MODEL_fa3944b5cb7d454386e36c03cae5434d",
            "value": 42
          }
        },
        "2cb89fcda7584a60a3e3d7c7e4f1ffef": {
          "model_module": "@jupyter-widgets/controls",
          "model_name": "HTMLModel",
          "model_module_version": "1.5.0",
          "state": {
            "_dom_classes": [],
            "_model_module": "@jupyter-widgets/controls",
            "_model_module_version": "1.5.0",
            "_model_name": "HTMLModel",
            "_view_count": null,
            "_view_module": "@jupyter-widgets/controls",
            "_view_module_version": "1.5.0",
            "_view_name": "HTMLView",
            "description": "",
            "description_tooltip": null,
            "layout": "IPY_MODEL_3e35e025e5eb41ab86bb39b83008dffa",
            "placeholder": "​",
            "style": "IPY_MODEL_3b127d8b7bcf4eec8a912d274a019ea1",
            "value": " 42/42 [00:00&lt;00:00, 647.42 examples/s]"
          }
        },
        "5a6867a8e6e44320af44ea5b34daaaae": {
          "model_module": "@jupyter-widgets/base",
          "model_name": "LayoutModel",
          "model_module_version": "1.2.0",
          "state": {
            "_model_module": "@jupyter-widgets/base",
            "_model_module_version": "1.2.0",
            "_model_name": "LayoutModel",
            "_view_count": null,
            "_view_module": "@jupyter-widgets/base",
            "_view_module_version": "1.2.0",
            "_view_name": "LayoutView",
            "align_content": null,
            "align_items": null,
            "align_self": null,
            "border": null,
            "bottom": null,
            "display": null,
            "flex": null,
            "flex_flow": null,
            "grid_area": null,
            "grid_auto_columns": null,
            "grid_auto_flow": null,
            "grid_auto_rows": null,
            "grid_column": null,
            "grid_gap": null,
            "grid_row": null,
            "grid_template_areas": null,
            "grid_template_columns": null,
            "grid_template_rows": null,
            "height": null,
            "justify_content": null,
            "justify_items": null,
            "left": null,
            "margin": null,
            "max_height": null,
            "max_width": null,
            "min_height": null,
            "min_width": null,
            "object_fit": null,
            "object_position": null,
            "order": null,
            "overflow": null,
            "overflow_x": null,
            "overflow_y": null,
            "padding": null,
            "right": null,
            "top": null,
            "visibility": null,
            "width": null
          }
        },
        "843aa3bcbcbf4f07bb07d63081e8da48": {
          "model_module": "@jupyter-widgets/base",
          "model_name": "LayoutModel",
          "model_module_version": "1.2.0",
          "state": {
            "_model_module": "@jupyter-widgets/base",
            "_model_module_version": "1.2.0",
            "_model_name": "LayoutModel",
            "_view_count": null,
            "_view_module": "@jupyter-widgets/base",
            "_view_module_version": "1.2.0",
            "_view_name": "LayoutView",
            "align_content": null,
            "align_items": null,
            "align_self": null,
            "border": null,
            "bottom": null,
            "display": null,
            "flex": null,
            "flex_flow": null,
            "grid_area": null,
            "grid_auto_columns": null,
            "grid_auto_flow": null,
            "grid_auto_rows": null,
            "grid_column": null,
            "grid_gap": null,
            "grid_row": null,
            "grid_template_areas": null,
            "grid_template_columns": null,
            "grid_template_rows": null,
            "height": null,
            "justify_content": null,
            "justify_items": null,
            "left": null,
            "margin": null,
            "max_height": null,
            "max_width": null,
            "min_height": null,
            "min_width": null,
            "object_fit": null,
            "object_position": null,
            "order": null,
            "overflow": null,
            "overflow_x": null,
            "overflow_y": null,
            "padding": null,
            "right": null,
            "top": null,
            "visibility": null,
            "width": null
          }
        },
        "bd1bfc90b1df4981a2c593ed40d933bb": {
          "model_module": "@jupyter-widgets/controls",
          "model_name": "DescriptionStyleModel",
          "model_module_version": "1.5.0",
          "state": {
            "_model_module": "@jupyter-widgets/controls",
            "_model_module_version": "1.5.0",
            "_model_name": "DescriptionStyleModel",
            "_view_count": null,
            "_view_module": "@jupyter-widgets/base",
            "_view_module_version": "1.2.0",
            "_view_name": "StyleView",
            "description_width": ""
          }
        },
        "35cd262c581e48c48b8f353b0c16c47c": {
          "model_module": "@jupyter-widgets/base",
          "model_name": "LayoutModel",
          "model_module_version": "1.2.0",
          "state": {
            "_model_module": "@jupyter-widgets/base",
            "_model_module_version": "1.2.0",
            "_model_name": "LayoutModel",
            "_view_count": null,
            "_view_module": "@jupyter-widgets/base",
            "_view_module_version": "1.2.0",
            "_view_name": "LayoutView",
            "align_content": null,
            "align_items": null,
            "align_self": null,
            "border": null,
            "bottom": null,
            "display": null,
            "flex": null,
            "flex_flow": null,
            "grid_area": null,
            "grid_auto_columns": null,
            "grid_auto_flow": null,
            "grid_auto_rows": null,
            "grid_column": null,
            "grid_gap": null,
            "grid_row": null,
            "grid_template_areas": null,
            "grid_template_columns": null,
            "grid_template_rows": null,
            "height": null,
            "justify_content": null,
            "justify_items": null,
            "left": null,
            "margin": null,
            "max_height": null,
            "max_width": null,
            "min_height": null,
            "min_width": null,
            "object_fit": null,
            "object_position": null,
            "order": null,
            "overflow": null,
            "overflow_x": null,
            "overflow_y": null,
            "padding": null,
            "right": null,
            "top": null,
            "visibility": null,
            "width": null
          }
        },
        "fa3944b5cb7d454386e36c03cae5434d": {
          "model_module": "@jupyter-widgets/controls",
          "model_name": "ProgressStyleModel",
          "model_module_version": "1.5.0",
          "state": {
            "_model_module": "@jupyter-widgets/controls",
            "_model_module_version": "1.5.0",
            "_model_name": "ProgressStyleModel",
            "_view_count": null,
            "_view_module": "@jupyter-widgets/base",
            "_view_module_version": "1.2.0",
            "_view_name": "StyleView",
            "bar_color": null,
            "description_width": ""
          }
        },
        "3e35e025e5eb41ab86bb39b83008dffa": {
          "model_module": "@jupyter-widgets/base",
          "model_name": "LayoutModel",
          "model_module_version": "1.2.0",
          "state": {
            "_model_module": "@jupyter-widgets/base",
            "_model_module_version": "1.2.0",
            "_model_name": "LayoutModel",
            "_view_count": null,
            "_view_module": "@jupyter-widgets/base",
            "_view_module_version": "1.2.0",
            "_view_name": "LayoutView",
            "align_content": null,
            "align_items": null,
            "align_self": null,
            "border": null,
            "bottom": null,
            "display": null,
            "flex": null,
            "flex_flow": null,
            "grid_area": null,
            "grid_auto_columns": null,
            "grid_auto_flow": null,
            "grid_auto_rows": null,
            "grid_column": null,
            "grid_gap": null,
            "grid_row": null,
            "grid_template_areas": null,
            "grid_template_columns": null,
            "grid_template_rows": null,
            "height": null,
            "justify_content": null,
            "justify_items": null,
            "left": null,
            "margin": null,
            "max_height": null,
            "max_width": null,
            "min_height": null,
            "min_width": null,
            "object_fit": null,
            "object_position": null,
            "order": null,
            "overflow": null,
            "overflow_x": null,
            "overflow_y": null,
            "padding": null,
            "right": null,
            "top": null,
            "visibility": null,
            "width": null
          }
        },
        "3b127d8b7bcf4eec8a912d274a019ea1": {
          "model_module": "@jupyter-widgets/controls",
          "model_name": "DescriptionStyleModel",
          "model_module_version": "1.5.0",
          "state": {
            "_model_module": "@jupyter-widgets/controls",
            "_model_module_version": "1.5.0",
            "_model_name": "DescriptionStyleModel",
            "_view_count": null,
            "_view_module": "@jupyter-widgets/base",
            "_view_module_version": "1.2.0",
            "_view_name": "StyleView",
            "description_width": ""
          }
        },
        "9e149592072d41a1ac4d90b59c9876f5": {
          "model_module": "@jupyter-widgets/controls",
          "model_name": "HBoxModel",
          "model_module_version": "1.5.0",
          "state": {
            "_dom_classes": [],
            "_model_module": "@jupyter-widgets/controls",
            "_model_module_version": "1.5.0",
            "_model_name": "HBoxModel",
            "_view_count": null,
            "_view_module": "@jupyter-widgets/controls",
            "_view_module_version": "1.5.0",
            "_view_name": "HBoxView",
            "box_style": "",
            "children": [
              "IPY_MODEL_5b8fdd4f3c6f42e0915c2defc28e0794",
              "IPY_MODEL_d9963d2561e648da977e2ce606c1efb4",
              "IPY_MODEL_0e9c688338e44d2c8eeb3f899b822d41"
            ],
            "layout": "IPY_MODEL_9cb8ef0a846f4a47894c9af592c1eb8f"
          }
        },
        "5b8fdd4f3c6f42e0915c2defc28e0794": {
          "model_module": "@jupyter-widgets/controls",
          "model_name": "HTMLModel",
          "model_module_version": "1.5.0",
          "state": {
            "_dom_classes": [],
            "_model_module": "@jupyter-widgets/controls",
            "_model_module_version": "1.5.0",
            "_model_name": "HTMLModel",
            "_view_count": null,
            "_view_module": "@jupyter-widgets/controls",
            "_view_module_version": "1.5.0",
            "_view_name": "HTMLView",
            "description": "",
            "description_tooltip": null,
            "layout": "IPY_MODEL_95da6627e5814ecf8d610b5a966c181a",
            "placeholder": "​",
            "style": "IPY_MODEL_60c72153bfc04fbf82fc433f9acb30db",
            "value": "Aligning the labels: 100%"
          }
        },
        "d9963d2561e648da977e2ce606c1efb4": {
          "model_module": "@jupyter-widgets/controls",
          "model_name": "FloatProgressModel",
          "model_module_version": "1.5.0",
          "state": {
            "_dom_classes": [],
            "_model_module": "@jupyter-widgets/controls",
            "_model_module_version": "1.5.0",
            "_model_name": "FloatProgressModel",
            "_view_count": null,
            "_view_module": "@jupyter-widgets/controls",
            "_view_module_version": "1.5.0",
            "_view_name": "ProgressView",
            "bar_style": "success",
            "description": "",
            "description_tooltip": null,
            "layout": "IPY_MODEL_f1d636bae8074ffda3a09607bcb2cfdb",
            "max": 42,
            "min": 0,
            "orientation": "horizontal",
            "style": "IPY_MODEL_4750de40e3df4d938bf8f9adb653034d",
            "value": 42
          }
        },
        "0e9c688338e44d2c8eeb3f899b822d41": {
          "model_module": "@jupyter-widgets/controls",
          "model_name": "HTMLModel",
          "model_module_version": "1.5.0",
          "state": {
            "_dom_classes": [],
            "_model_module": "@jupyter-widgets/controls",
            "_model_module_version": "1.5.0",
            "_model_name": "HTMLModel",
            "_view_count": null,
            "_view_module": "@jupyter-widgets/controls",
            "_view_module_version": "1.5.0",
            "_view_name": "HTMLView",
            "description": "",
            "description_tooltip": null,
            "layout": "IPY_MODEL_dcb2c48652e74116880e62f97cfcc39e",
            "placeholder": "​",
            "style": "IPY_MODEL_37a183265ed2416cab1bf3a6f9d8ee01",
            "value": " 42/42 [00:00&lt;00:00, 916.96 examples/s]"
          }
        },
        "9cb8ef0a846f4a47894c9af592c1eb8f": {
          "model_module": "@jupyter-widgets/base",
          "model_name": "LayoutModel",
          "model_module_version": "1.2.0",
          "state": {
            "_model_module": "@jupyter-widgets/base",
            "_model_module_version": "1.2.0",
            "_model_name": "LayoutModel",
            "_view_count": null,
            "_view_module": "@jupyter-widgets/base",
            "_view_module_version": "1.2.0",
            "_view_name": "LayoutView",
            "align_content": null,
            "align_items": null,
            "align_self": null,
            "border": null,
            "bottom": null,
            "display": null,
            "flex": null,
            "flex_flow": null,
            "grid_area": null,
            "grid_auto_columns": null,
            "grid_auto_flow": null,
            "grid_auto_rows": null,
            "grid_column": null,
            "grid_gap": null,
            "grid_row": null,
            "grid_template_areas": null,
            "grid_template_columns": null,
            "grid_template_rows": null,
            "height": null,
            "justify_content": null,
            "justify_items": null,
            "left": null,
            "margin": null,
            "max_height": null,
            "max_width": null,
            "min_height": null,
            "min_width": null,
            "object_fit": null,
            "object_position": null,
            "order": null,
            "overflow": null,
            "overflow_x": null,
            "overflow_y": null,
            "padding": null,
            "right": null,
            "top": null,
            "visibility": null,
            "width": null
          }
        },
        "95da6627e5814ecf8d610b5a966c181a": {
          "model_module": "@jupyter-widgets/base",
          "model_name": "LayoutModel",
          "model_module_version": "1.2.0",
          "state": {
            "_model_module": "@jupyter-widgets/base",
            "_model_module_version": "1.2.0",
            "_model_name": "LayoutModel",
            "_view_count": null,
            "_view_module": "@jupyter-widgets/base",
            "_view_module_version": "1.2.0",
            "_view_name": "LayoutView",
            "align_content": null,
            "align_items": null,
            "align_self": null,
            "border": null,
            "bottom": null,
            "display": null,
            "flex": null,
            "flex_flow": null,
            "grid_area": null,
            "grid_auto_columns": null,
            "grid_auto_flow": null,
            "grid_auto_rows": null,
            "grid_column": null,
            "grid_gap": null,
            "grid_row": null,
            "grid_template_areas": null,
            "grid_template_columns": null,
            "grid_template_rows": null,
            "height": null,
            "justify_content": null,
            "justify_items": null,
            "left": null,
            "margin": null,
            "max_height": null,
            "max_width": null,
            "min_height": null,
            "min_width": null,
            "object_fit": null,
            "object_position": null,
            "order": null,
            "overflow": null,
            "overflow_x": null,
            "overflow_y": null,
            "padding": null,
            "right": null,
            "top": null,
            "visibility": null,
            "width": null
          }
        },
        "60c72153bfc04fbf82fc433f9acb30db": {
          "model_module": "@jupyter-widgets/controls",
          "model_name": "DescriptionStyleModel",
          "model_module_version": "1.5.0",
          "state": {
            "_model_module": "@jupyter-widgets/controls",
            "_model_module_version": "1.5.0",
            "_model_name": "DescriptionStyleModel",
            "_view_count": null,
            "_view_module": "@jupyter-widgets/base",
            "_view_module_version": "1.2.0",
            "_view_name": "StyleView",
            "description_width": ""
          }
        },
        "f1d636bae8074ffda3a09607bcb2cfdb": {
          "model_module": "@jupyter-widgets/base",
          "model_name": "LayoutModel",
          "model_module_version": "1.2.0",
          "state": {
            "_model_module": "@jupyter-widgets/base",
            "_model_module_version": "1.2.0",
            "_model_name": "LayoutModel",
            "_view_count": null,
            "_view_module": "@jupyter-widgets/base",
            "_view_module_version": "1.2.0",
            "_view_name": "LayoutView",
            "align_content": null,
            "align_items": null,
            "align_self": null,
            "border": null,
            "bottom": null,
            "display": null,
            "flex": null,
            "flex_flow": null,
            "grid_area": null,
            "grid_auto_columns": null,
            "grid_auto_flow": null,
            "grid_auto_rows": null,
            "grid_column": null,
            "grid_gap": null,
            "grid_row": null,
            "grid_template_areas": null,
            "grid_template_columns": null,
            "grid_template_rows": null,
            "height": null,
            "justify_content": null,
            "justify_items": null,
            "left": null,
            "margin": null,
            "max_height": null,
            "max_width": null,
            "min_height": null,
            "min_width": null,
            "object_fit": null,
            "object_position": null,
            "order": null,
            "overflow": null,
            "overflow_x": null,
            "overflow_y": null,
            "padding": null,
            "right": null,
            "top": null,
            "visibility": null,
            "width": null
          }
        },
        "4750de40e3df4d938bf8f9adb653034d": {
          "model_module": "@jupyter-widgets/controls",
          "model_name": "ProgressStyleModel",
          "model_module_version": "1.5.0",
          "state": {
            "_model_module": "@jupyter-widgets/controls",
            "_model_module_version": "1.5.0",
            "_model_name": "ProgressStyleModel",
            "_view_count": null,
            "_view_module": "@jupyter-widgets/base",
            "_view_module_version": "1.2.0",
            "_view_name": "StyleView",
            "bar_color": null,
            "description_width": ""
          }
        },
        "dcb2c48652e74116880e62f97cfcc39e": {
          "model_module": "@jupyter-widgets/base",
          "model_name": "LayoutModel",
          "model_module_version": "1.2.0",
          "state": {
            "_model_module": "@jupyter-widgets/base",
            "_model_module_version": "1.2.0",
            "_model_name": "LayoutModel",
            "_view_count": null,
            "_view_module": "@jupyter-widgets/base",
            "_view_module_version": "1.2.0",
            "_view_name": "LayoutView",
            "align_content": null,
            "align_items": null,
            "align_self": null,
            "border": null,
            "bottom": null,
            "display": null,
            "flex": null,
            "flex_flow": null,
            "grid_area": null,
            "grid_auto_columns": null,
            "grid_auto_flow": null,
            "grid_auto_rows": null,
            "grid_column": null,
            "grid_gap": null,
            "grid_row": null,
            "grid_template_areas": null,
            "grid_template_columns": null,
            "grid_template_rows": null,
            "height": null,
            "justify_content": null,
            "justify_items": null,
            "left": null,
            "margin": null,
            "max_height": null,
            "max_width": null,
            "min_height": null,
            "min_width": null,
            "object_fit": null,
            "object_position": null,
            "order": null,
            "overflow": null,
            "overflow_x": null,
            "overflow_y": null,
            "padding": null,
            "right": null,
            "top": null,
            "visibility": null,
            "width": null
          }
        },
        "37a183265ed2416cab1bf3a6f9d8ee01": {
          "model_module": "@jupyter-widgets/controls",
          "model_name": "DescriptionStyleModel",
          "model_module_version": "1.5.0",
          "state": {
            "_model_module": "@jupyter-widgets/controls",
            "_model_module_version": "1.5.0",
            "_model_name": "DescriptionStyleModel",
            "_view_count": null,
            "_view_module": "@jupyter-widgets/base",
            "_view_module_version": "1.2.0",
            "_view_name": "StyleView",
            "description_width": ""
          }
        },
        "395bb90731b642459839c6f0ac23313c": {
          "model_module": "@jupyter-widgets/controls",
          "model_name": "HBoxModel",
          "model_module_version": "1.5.0",
          "state": {
            "_dom_classes": [],
            "_model_module": "@jupyter-widgets/controls",
            "_model_module_version": "1.5.0",
            "_model_name": "HBoxModel",
            "_view_count": null,
            "_view_module": "@jupyter-widgets/controls",
            "_view_module_version": "1.5.0",
            "_view_name": "HBoxView",
            "box_style": "",
            "children": [
              "IPY_MODEL_6f47b1d822944a85a0c7f1e049ec8848",
              "IPY_MODEL_bcf7cec6d02d481fbf1053bd2e372ef2",
              "IPY_MODEL_43759e09958d41e5b195e46c21d4bcfb"
            ],
            "layout": "IPY_MODEL_f40cb5e38a5b4c84826d6af142afdc19"
          }
        },
        "6f47b1d822944a85a0c7f1e049ec8848": {
          "model_module": "@jupyter-widgets/controls",
          "model_name": "HTMLModel",
          "model_module_version": "1.5.0",
          "state": {
            "_dom_classes": [],
            "_model_module": "@jupyter-widgets/controls",
            "_model_module_version": "1.5.0",
            "_model_name": "HTMLModel",
            "_view_count": null,
            "_view_module": "@jupyter-widgets/controls",
            "_view_module_version": "1.5.0",
            "_view_name": "HTMLView",
            "description": "",
            "description_tooltip": null,
            "layout": "IPY_MODEL_525e51c6ca9e437699bae274e31d44c7",
            "placeholder": "​",
            "style": "IPY_MODEL_ccd47d7a981847908e95fb4ce67aa3dd",
            "value": "Map: 100%"
          }
        },
        "bcf7cec6d02d481fbf1053bd2e372ef2": {
          "model_module": "@jupyter-widgets/controls",
          "model_name": "FloatProgressModel",
          "model_module_version": "1.5.0",
          "state": {
            "_dom_classes": [],
            "_model_module": "@jupyter-widgets/controls",
            "_model_module_version": "1.5.0",
            "_model_name": "FloatProgressModel",
            "_view_count": null,
            "_view_module": "@jupyter-widgets/controls",
            "_view_module_version": "1.5.0",
            "_view_name": "ProgressView",
            "bar_style": "success",
            "description": "",
            "description_tooltip": null,
            "layout": "IPY_MODEL_828a378fb47440e4812f14966239d12a",
            "max": 97,
            "min": 0,
            "orientation": "horizontal",
            "style": "IPY_MODEL_b3eedd4fa8764a6081b4fef8f806e038",
            "value": 97
          }
        },
        "43759e09958d41e5b195e46c21d4bcfb": {
          "model_module": "@jupyter-widgets/controls",
          "model_name": "HTMLModel",
          "model_module_version": "1.5.0",
          "state": {
            "_dom_classes": [],
            "_model_module": "@jupyter-widgets/controls",
            "_model_module_version": "1.5.0",
            "_model_name": "HTMLModel",
            "_view_count": null,
            "_view_module": "@jupyter-widgets/controls",
            "_view_module_version": "1.5.0",
            "_view_name": "HTMLView",
            "description": "",
            "description_tooltip": null,
            "layout": "IPY_MODEL_c822d5f7525b4e7b8cdb0269aa745ded",
            "placeholder": "​",
            "style": "IPY_MODEL_e96d31e1fcde41c9988cb56be3da2e05",
            "value": " 97/97 [00:00&lt;00:00, 660.59 examples/s]"
          }
        },
        "f40cb5e38a5b4c84826d6af142afdc19": {
          "model_module": "@jupyter-widgets/base",
          "model_name": "LayoutModel",
          "model_module_version": "1.2.0",
          "state": {
            "_model_module": "@jupyter-widgets/base",
            "_model_module_version": "1.2.0",
            "_model_name": "LayoutModel",
            "_view_count": null,
            "_view_module": "@jupyter-widgets/base",
            "_view_module_version": "1.2.0",
            "_view_name": "LayoutView",
            "align_content": null,
            "align_items": null,
            "align_self": null,
            "border": null,
            "bottom": null,
            "display": null,
            "flex": null,
            "flex_flow": null,
            "grid_area": null,
            "grid_auto_columns": null,
            "grid_auto_flow": null,
            "grid_auto_rows": null,
            "grid_column": null,
            "grid_gap": null,
            "grid_row": null,
            "grid_template_areas": null,
            "grid_template_columns": null,
            "grid_template_rows": null,
            "height": null,
            "justify_content": null,
            "justify_items": null,
            "left": null,
            "margin": null,
            "max_height": null,
            "max_width": null,
            "min_height": null,
            "min_width": null,
            "object_fit": null,
            "object_position": null,
            "order": null,
            "overflow": null,
            "overflow_x": null,
            "overflow_y": null,
            "padding": null,
            "right": null,
            "top": null,
            "visibility": null,
            "width": null
          }
        },
        "525e51c6ca9e437699bae274e31d44c7": {
          "model_module": "@jupyter-widgets/base",
          "model_name": "LayoutModel",
          "model_module_version": "1.2.0",
          "state": {
            "_model_module": "@jupyter-widgets/base",
            "_model_module_version": "1.2.0",
            "_model_name": "LayoutModel",
            "_view_count": null,
            "_view_module": "@jupyter-widgets/base",
            "_view_module_version": "1.2.0",
            "_view_name": "LayoutView",
            "align_content": null,
            "align_items": null,
            "align_self": null,
            "border": null,
            "bottom": null,
            "display": null,
            "flex": null,
            "flex_flow": null,
            "grid_area": null,
            "grid_auto_columns": null,
            "grid_auto_flow": null,
            "grid_auto_rows": null,
            "grid_column": null,
            "grid_gap": null,
            "grid_row": null,
            "grid_template_areas": null,
            "grid_template_columns": null,
            "grid_template_rows": null,
            "height": null,
            "justify_content": null,
            "justify_items": null,
            "left": null,
            "margin": null,
            "max_height": null,
            "max_width": null,
            "min_height": null,
            "min_width": null,
            "object_fit": null,
            "object_position": null,
            "order": null,
            "overflow": null,
            "overflow_x": null,
            "overflow_y": null,
            "padding": null,
            "right": null,
            "top": null,
            "visibility": null,
            "width": null
          }
        },
        "ccd47d7a981847908e95fb4ce67aa3dd": {
          "model_module": "@jupyter-widgets/controls",
          "model_name": "DescriptionStyleModel",
          "model_module_version": "1.5.0",
          "state": {
            "_model_module": "@jupyter-widgets/controls",
            "_model_module_version": "1.5.0",
            "_model_name": "DescriptionStyleModel",
            "_view_count": null,
            "_view_module": "@jupyter-widgets/base",
            "_view_module_version": "1.2.0",
            "_view_name": "StyleView",
            "description_width": ""
          }
        },
        "828a378fb47440e4812f14966239d12a": {
          "model_module": "@jupyter-widgets/base",
          "model_name": "LayoutModel",
          "model_module_version": "1.2.0",
          "state": {
            "_model_module": "@jupyter-widgets/base",
            "_model_module_version": "1.2.0",
            "_model_name": "LayoutModel",
            "_view_count": null,
            "_view_module": "@jupyter-widgets/base",
            "_view_module_version": "1.2.0",
            "_view_name": "LayoutView",
            "align_content": null,
            "align_items": null,
            "align_self": null,
            "border": null,
            "bottom": null,
            "display": null,
            "flex": null,
            "flex_flow": null,
            "grid_area": null,
            "grid_auto_columns": null,
            "grid_auto_flow": null,
            "grid_auto_rows": null,
            "grid_column": null,
            "grid_gap": null,
            "grid_row": null,
            "grid_template_areas": null,
            "grid_template_columns": null,
            "grid_template_rows": null,
            "height": null,
            "justify_content": null,
            "justify_items": null,
            "left": null,
            "margin": null,
            "max_height": null,
            "max_width": null,
            "min_height": null,
            "min_width": null,
            "object_fit": null,
            "object_position": null,
            "order": null,
            "overflow": null,
            "overflow_x": null,
            "overflow_y": null,
            "padding": null,
            "right": null,
            "top": null,
            "visibility": null,
            "width": null
          }
        },
        "b3eedd4fa8764a6081b4fef8f806e038": {
          "model_module": "@jupyter-widgets/controls",
          "model_name": "ProgressStyleModel",
          "model_module_version": "1.5.0",
          "state": {
            "_model_module": "@jupyter-widgets/controls",
            "_model_module_version": "1.5.0",
            "_model_name": "ProgressStyleModel",
            "_view_count": null,
            "_view_module": "@jupyter-widgets/base",
            "_view_module_version": "1.2.0",
            "_view_name": "StyleView",
            "bar_color": null,
            "description_width": ""
          }
        },
        "c822d5f7525b4e7b8cdb0269aa745ded": {
          "model_module": "@jupyter-widgets/base",
          "model_name": "LayoutModel",
          "model_module_version": "1.2.0",
          "state": {
            "_model_module": "@jupyter-widgets/base",
            "_model_module_version": "1.2.0",
            "_model_name": "LayoutModel",
            "_view_count": null,
            "_view_module": "@jupyter-widgets/base",
            "_view_module_version": "1.2.0",
            "_view_name": "LayoutView",
            "align_content": null,
            "align_items": null,
            "align_self": null,
            "border": null,
            "bottom": null,
            "display": null,
            "flex": null,
            "flex_flow": null,
            "grid_area": null,
            "grid_auto_columns": null,
            "grid_auto_flow": null,
            "grid_auto_rows": null,
            "grid_column": null,
            "grid_gap": null,
            "grid_row": null,
            "grid_template_areas": null,
            "grid_template_columns": null,
            "grid_template_rows": null,
            "height": null,
            "justify_content": null,
            "justify_items": null,
            "left": null,
            "margin": null,
            "max_height": null,
            "max_width": null,
            "min_height": null,
            "min_width": null,
            "object_fit": null,
            "object_position": null,
            "order": null,
            "overflow": null,
            "overflow_x": null,
            "overflow_y": null,
            "padding": null,
            "right": null,
            "top": null,
            "visibility": null,
            "width": null
          }
        },
        "e96d31e1fcde41c9988cb56be3da2e05": {
          "model_module": "@jupyter-widgets/controls",
          "model_name": "DescriptionStyleModel",
          "model_module_version": "1.5.0",
          "state": {
            "_model_module": "@jupyter-widgets/controls",
            "_model_module_version": "1.5.0",
            "_model_name": "DescriptionStyleModel",
            "_view_count": null,
            "_view_module": "@jupyter-widgets/base",
            "_view_module_version": "1.2.0",
            "_view_name": "StyleView",
            "description_width": ""
          }
        },
        "f38a4ec086cc4d0a8bbd94f73cf6a676": {
          "model_module": "@jupyter-widgets/controls",
          "model_name": "HBoxModel",
          "model_module_version": "1.5.0",
          "state": {
            "_dom_classes": [],
            "_model_module": "@jupyter-widgets/controls",
            "_model_module_version": "1.5.0",
            "_model_name": "HBoxModel",
            "_view_count": null,
            "_view_module": "@jupyter-widgets/controls",
            "_view_module_version": "1.5.0",
            "_view_name": "HBoxView",
            "box_style": "",
            "children": [
              "IPY_MODEL_e7895679176a40729740c3aceffd097b",
              "IPY_MODEL_39d0a31f42544fa1b0778d62fe0d87ce",
              "IPY_MODEL_f855b2d600d049c298e7c2114c6b0b9d"
            ],
            "layout": "IPY_MODEL_170a9b285c334d948afc822912aad48a"
          }
        },
        "e7895679176a40729740c3aceffd097b": {
          "model_module": "@jupyter-widgets/controls",
          "model_name": "HTMLModel",
          "model_module_version": "1.5.0",
          "state": {
            "_dom_classes": [],
            "_model_module": "@jupyter-widgets/controls",
            "_model_module_version": "1.5.0",
            "_model_name": "HTMLModel",
            "_view_count": null,
            "_view_module": "@jupyter-widgets/controls",
            "_view_module_version": "1.5.0",
            "_view_name": "HTMLView",
            "description": "",
            "description_tooltip": null,
            "layout": "IPY_MODEL_5582aabff8dd4d6cbe41f89db26d84e9",
            "placeholder": "​",
            "style": "IPY_MODEL_3e15d46cd4044314b4b8c6eacb7066ba",
            "value": "Map: 100%"
          }
        },
        "39d0a31f42544fa1b0778d62fe0d87ce": {
          "model_module": "@jupyter-widgets/controls",
          "model_name": "FloatProgressModel",
          "model_module_version": "1.5.0",
          "state": {
            "_dom_classes": [],
            "_model_module": "@jupyter-widgets/controls",
            "_model_module_version": "1.5.0",
            "_model_name": "FloatProgressModel",
            "_view_count": null,
            "_view_module": "@jupyter-widgets/controls",
            "_view_module_version": "1.5.0",
            "_view_name": "ProgressView",
            "bar_style": "success",
            "description": "",
            "description_tooltip": null,
            "layout": "IPY_MODEL_60bd8d3607254a85b96d4e208c8a6a50",
            "max": 42,
            "min": 0,
            "orientation": "horizontal",
            "style": "IPY_MODEL_5404ea6e042844f4ba52c87eb00b7adf",
            "value": 42
          }
        },
        "f855b2d600d049c298e7c2114c6b0b9d": {
          "model_module": "@jupyter-widgets/controls",
          "model_name": "HTMLModel",
          "model_module_version": "1.5.0",
          "state": {
            "_dom_classes": [],
            "_model_module": "@jupyter-widgets/controls",
            "_model_module_version": "1.5.0",
            "_model_name": "HTMLModel",
            "_view_count": null,
            "_view_module": "@jupyter-widgets/controls",
            "_view_module_version": "1.5.0",
            "_view_name": "HTMLView",
            "description": "",
            "description_tooltip": null,
            "layout": "IPY_MODEL_4bd87dc41ff345319bf47888b2087168",
            "placeholder": "​",
            "style": "IPY_MODEL_d4c8b37bfaa6447fa291eecd60717579",
            "value": " 42/42 [00:00&lt;00:00, 362.49 examples/s]"
          }
        },
        "170a9b285c334d948afc822912aad48a": {
          "model_module": "@jupyter-widgets/base",
          "model_name": "LayoutModel",
          "model_module_version": "1.2.0",
          "state": {
            "_model_module": "@jupyter-widgets/base",
            "_model_module_version": "1.2.0",
            "_model_name": "LayoutModel",
            "_view_count": null,
            "_view_module": "@jupyter-widgets/base",
            "_view_module_version": "1.2.0",
            "_view_name": "LayoutView",
            "align_content": null,
            "align_items": null,
            "align_self": null,
            "border": null,
            "bottom": null,
            "display": null,
            "flex": null,
            "flex_flow": null,
            "grid_area": null,
            "grid_auto_columns": null,
            "grid_auto_flow": null,
            "grid_auto_rows": null,
            "grid_column": null,
            "grid_gap": null,
            "grid_row": null,
            "grid_template_areas": null,
            "grid_template_columns": null,
            "grid_template_rows": null,
            "height": null,
            "justify_content": null,
            "justify_items": null,
            "left": null,
            "margin": null,
            "max_height": null,
            "max_width": null,
            "min_height": null,
            "min_width": null,
            "object_fit": null,
            "object_position": null,
            "order": null,
            "overflow": null,
            "overflow_x": null,
            "overflow_y": null,
            "padding": null,
            "right": null,
            "top": null,
            "visibility": null,
            "width": null
          }
        },
        "5582aabff8dd4d6cbe41f89db26d84e9": {
          "model_module": "@jupyter-widgets/base",
          "model_name": "LayoutModel",
          "model_module_version": "1.2.0",
          "state": {
            "_model_module": "@jupyter-widgets/base",
            "_model_module_version": "1.2.0",
            "_model_name": "LayoutModel",
            "_view_count": null,
            "_view_module": "@jupyter-widgets/base",
            "_view_module_version": "1.2.0",
            "_view_name": "LayoutView",
            "align_content": null,
            "align_items": null,
            "align_self": null,
            "border": null,
            "bottom": null,
            "display": null,
            "flex": null,
            "flex_flow": null,
            "grid_area": null,
            "grid_auto_columns": null,
            "grid_auto_flow": null,
            "grid_auto_rows": null,
            "grid_column": null,
            "grid_gap": null,
            "grid_row": null,
            "grid_template_areas": null,
            "grid_template_columns": null,
            "grid_template_rows": null,
            "height": null,
            "justify_content": null,
            "justify_items": null,
            "left": null,
            "margin": null,
            "max_height": null,
            "max_width": null,
            "min_height": null,
            "min_width": null,
            "object_fit": null,
            "object_position": null,
            "order": null,
            "overflow": null,
            "overflow_x": null,
            "overflow_y": null,
            "padding": null,
            "right": null,
            "top": null,
            "visibility": null,
            "width": null
          }
        },
        "3e15d46cd4044314b4b8c6eacb7066ba": {
          "model_module": "@jupyter-widgets/controls",
          "model_name": "DescriptionStyleModel",
          "model_module_version": "1.5.0",
          "state": {
            "_model_module": "@jupyter-widgets/controls",
            "_model_module_version": "1.5.0",
            "_model_name": "DescriptionStyleModel",
            "_view_count": null,
            "_view_module": "@jupyter-widgets/base",
            "_view_module_version": "1.2.0",
            "_view_name": "StyleView",
            "description_width": ""
          }
        },
        "60bd8d3607254a85b96d4e208c8a6a50": {
          "model_module": "@jupyter-widgets/base",
          "model_name": "LayoutModel",
          "model_module_version": "1.2.0",
          "state": {
            "_model_module": "@jupyter-widgets/base",
            "_model_module_version": "1.2.0",
            "_model_name": "LayoutModel",
            "_view_count": null,
            "_view_module": "@jupyter-widgets/base",
            "_view_module_version": "1.2.0",
            "_view_name": "LayoutView",
            "align_content": null,
            "align_items": null,
            "align_self": null,
            "border": null,
            "bottom": null,
            "display": null,
            "flex": null,
            "flex_flow": null,
            "grid_area": null,
            "grid_auto_columns": null,
            "grid_auto_flow": null,
            "grid_auto_rows": null,
            "grid_column": null,
            "grid_gap": null,
            "grid_row": null,
            "grid_template_areas": null,
            "grid_template_columns": null,
            "grid_template_rows": null,
            "height": null,
            "justify_content": null,
            "justify_items": null,
            "left": null,
            "margin": null,
            "max_height": null,
            "max_width": null,
            "min_height": null,
            "min_width": null,
            "object_fit": null,
            "object_position": null,
            "order": null,
            "overflow": null,
            "overflow_x": null,
            "overflow_y": null,
            "padding": null,
            "right": null,
            "top": null,
            "visibility": null,
            "width": null
          }
        },
        "5404ea6e042844f4ba52c87eb00b7adf": {
          "model_module": "@jupyter-widgets/controls",
          "model_name": "ProgressStyleModel",
          "model_module_version": "1.5.0",
          "state": {
            "_model_module": "@jupyter-widgets/controls",
            "_model_module_version": "1.5.0",
            "_model_name": "ProgressStyleModel",
            "_view_count": null,
            "_view_module": "@jupyter-widgets/base",
            "_view_module_version": "1.2.0",
            "_view_name": "StyleView",
            "bar_color": null,
            "description_width": ""
          }
        },
        "4bd87dc41ff345319bf47888b2087168": {
          "model_module": "@jupyter-widgets/base",
          "model_name": "LayoutModel",
          "model_module_version": "1.2.0",
          "state": {
            "_model_module": "@jupyter-widgets/base",
            "_model_module_version": "1.2.0",
            "_model_name": "LayoutModel",
            "_view_count": null,
            "_view_module": "@jupyter-widgets/base",
            "_view_module_version": "1.2.0",
            "_view_name": "LayoutView",
            "align_content": null,
            "align_items": null,
            "align_self": null,
            "border": null,
            "bottom": null,
            "display": null,
            "flex": null,
            "flex_flow": null,
            "grid_area": null,
            "grid_auto_columns": null,
            "grid_auto_flow": null,
            "grid_auto_rows": null,
            "grid_column": null,
            "grid_gap": null,
            "grid_row": null,
            "grid_template_areas": null,
            "grid_template_columns": null,
            "grid_template_rows": null,
            "height": null,
            "justify_content": null,
            "justify_items": null,
            "left": null,
            "margin": null,
            "max_height": null,
            "max_width": null,
            "min_height": null,
            "min_width": null,
            "object_fit": null,
            "object_position": null,
            "order": null,
            "overflow": null,
            "overflow_x": null,
            "overflow_y": null,
            "padding": null,
            "right": null,
            "top": null,
            "visibility": null,
            "width": null
          }
        },
        "d4c8b37bfaa6447fa291eecd60717579": {
          "model_module": "@jupyter-widgets/controls",
          "model_name": "DescriptionStyleModel",
          "model_module_version": "1.5.0",
          "state": {
            "_model_module": "@jupyter-widgets/controls",
            "_model_module_version": "1.5.0",
            "_model_name": "DescriptionStyleModel",
            "_view_count": null,
            "_view_module": "@jupyter-widgets/base",
            "_view_module_version": "1.2.0",
            "_view_name": "StyleView",
            "description_width": ""
          }
        }
      }
    },
    "colab": {
      "provenance": [],
      "toc_visible": true
    }
  },
  "nbformat": 4,
  "nbformat_minor": 5
}