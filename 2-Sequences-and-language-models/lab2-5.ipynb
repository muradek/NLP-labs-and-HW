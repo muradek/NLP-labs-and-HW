{
  "cells": [
    {
      "cell_type": "code",
      "execution_count": 1,
      "id": "8e5d1336",
      "metadata": {
        "deletable": false,
        "editable": false,
        "execution": {
          "iopub.execute_input": "2024-12-07T09:30:32.525892Z",
          "iopub.status.busy": "2024-12-07T09:30:32.525572Z",
          "iopub.status.idle": "2024-12-07T09:30:33.894259Z",
          "shell.execute_reply": "2024-12-07T09:30:33.893266Z"
        },
        "jupyter": {
          "outputs_hidden": true,
          "source_hidden": true
        },
        "colab": {
          "base_uri": "https://localhost:8080/"
        },
        "id": "8e5d1336",
        "outputId": "83ceb429-c896-40d5-86ff-01d6e0336a24"
      },
      "outputs": [
        {
          "output_type": "stream",
          "name": "stdout",
          "text": [
            "\n"
          ]
        }
      ],
      "source": [
        "# Please do not change this cell because some hidden tests might depend on it.\n",
        "import os\n",
        "\n",
        "# Otter grader does not handle ! commands well, so we define and use our\n",
        "# own function to execute shell commands.\n",
        "def shell(commands, warn=True):\n",
        "    \"\"\"Executes the string `commands` as a sequence of shell commands.\n",
        "\n",
        "       Prints the result to stdout and returns the exit status.\n",
        "       Provides a printed warning on non-zero exit status unless `warn`\n",
        "       flag is unset.\n",
        "    \"\"\"\n",
        "    file = os.popen(commands)\n",
        "    print (file.read().rstrip('\\n'))\n",
        "    exit_status = file.close()\n",
        "    if warn and exit_status != None:\n",
        "        print(f\"Completed with errors. Exit status: {exit_status}\\n\")\n",
        "    return exit_status\n",
        "\n",
        "shell(\"\"\"\n",
        "ls requirements.txt >/dev/null 2>&1\n",
        "if [ ! $? = 0 ]; then\n",
        " rm -rf .tmp\n",
        " git clone https://github.com/cs236299-2024-winter/lab2-5.git .tmp\n",
        " mv .tmp/tests ./\n",
        " mv .tmp/requirements.txt ./\n",
        " rm -rf .tmp\n",
        "fi\n",
        "pip install -q -r requirements.txt\n",
        "\"\"\")"
      ]
    },
    {
      "cell_type": "code",
      "execution_count": 2,
      "id": "5c58249e",
      "metadata": {
        "deletable": false,
        "editable": false,
        "id": "5c58249e"
      },
      "outputs": [],
      "source": [
        "# Initialize Otter\n",
        "import otter\n",
        "grader = otter.Notebook()"
      ]
    },
    {
      "cell_type": "raw",
      "id": "12d3dfd4",
      "metadata": {
        "id": "12d3dfd4"
      },
      "source": [
        "%%latex\n",
        "\\newcommand{\\vect}[1]{\\mathbf{#1}}\n",
        "\\newcommand{\\cnt}[1]{\\sharp(#1)}\n",
        "\\newcommand{\\argmax}[1]{\\underset{#1}{\\operatorname{argmax}}}\n",
        "\\newcommand{\\softmax}{\\operatorname{softmax}}\n",
        "\\newcommand{\\Prob}{\\Pr}\n",
        "\\newcommand{\\given}{\\,|\\,}"
      ]
    },
    {
      "cell_type": "markdown",
      "id": "c3893e06-dedf-452c-a716-b92da4ac1f43",
      "metadata": {
        "tags": [
          "remove_for_latex"
        ],
        "id": "c3893e06-dedf-452c-a716-b92da4ac1f43"
      },
      "source": [
        "# Course 236299\n",
        "\n",
        "## Lab 2-5 – A single-layered Transformer"
      ]
    },
    {
      "cell_type": "markdown",
      "id": "7a63fa93-7426-4768-865c-45b9e3f79f0d",
      "metadata": {
        "id": "7a63fa93-7426-4768-865c-45b9e3f79f0d"
      },
      "source": [
        "In the previous lab, you explored the **attention mechanism**, a crucial building block that enables models to dynamically focus on different parts of the input sequence. This marked a significant shift from traditional sequence models like n-grams and RNNs, which struggled with fixed context windows or vanishing gradients. By incorporating attention, we started to unlock the power of flexible, long-range context modeling.\n",
        "\n",
        "However, attention alone is not enough to fully capture the complexity of modern language models. In this lab, we will take the next step toward understanding the **Transformer** architecture by introducing several key components that, when combined with attention, form the backbone of this state-of-the-art model:\n",
        "\n",
        "1. **Positional Encoding:** Unlike RNNs, which inherently process input in sequence, the attention mechanism is inherently order-agnostic. (In fact, it's this property of attention that allows parallel implementation.) To give the model a sense of word order, we will add positional embeddings to the token embeddings, allowing the Transformer to account for sequence order during processing.\n",
        "2. **Multi-Layer Perceptrons (MLPs):** After attention has been applied, the output is passed through feed-forward neural networks. These MLPs, applied independently to each position, help the model process more complex representations of the input.\n",
        "3. **Normalization:** To improve training stability, we will introduce layer normalization, which ensures that the distribution of inputs to each layer remains balanced.\n",
        "4. **Residual Connections:** Finally, we will add residual connections, a technique that allows information to bypass certain layers. This enables the model to retain important information from earlier layers and helps mitigate the risk of gradient degradation during backpropagation.\n",
        "   \n",
        "By the end of this lab, you will have made use of all these components, which together form the foundation of the Transformer architecture. The Transformer model, through its parallelizable and scalable nature, has revolutionized fields like natural-language modeling, making it a central topic in modern deep learning."
      ]
    },
    {
      "cell_type": "markdown",
      "id": "2477bd27-f3c3-4f6c-8999-322796c01ba1",
      "metadata": {
        "id": "2477bd27-f3c3-4f6c-8999-322796c01ba1"
      },
      "source": [
        "# Preparation – Loading packages and data"
      ]
    },
    {
      "cell_type": "markdown",
      "id": "609888f6-3265-41d5-a387-a986e917faae",
      "metadata": {
        "id": "609888f6-3265-41d5-a387-a986e917faae"
      },
      "source": [
        "$$\n",
        "\\renewcommand{\\vect}[1]{\\mathbf{#1}}\n",
        "\\renewcommand{\\cnt}[1]{\\sharp(#1)}\n",
        "\\renewcommand{\\argmax}[1]{\\underset{#1}{\\operatorname{argmax}}}\n",
        "\\renewcommand{\\softmax}{\\operatorname{softmax}}\n",
        "\\renewcommand{\\Prob}{\\Pr}\n",
        "\\renewcommand{\\given}{\\,|\\,}\n",
        "$$"
      ]
    },
    {
      "cell_type": "code",
      "execution_count": 3,
      "id": "3632a011-c647-4f73-aa10-1ca54d420e0a",
      "metadata": {
        "execution": {
          "iopub.execute_input": "2024-12-07T09:30:33.897992Z",
          "iopub.status.busy": "2024-12-07T09:30:33.897535Z",
          "iopub.status.idle": "2024-12-07T09:30:38.788729Z",
          "shell.execute_reply": "2024-12-07T09:30:38.787924Z"
        },
        "id": "3632a011-c647-4f73-aa10-1ca54d420e0a"
      },
      "outputs": [],
      "source": [
        "import json\n",
        "import math\n",
        "import random\n",
        "import wget\n",
        "import numpy as np\n",
        "import matplotlib.pyplot as plt\n",
        "\n",
        "import torch\n",
        "import torch.nn as nn\n",
        "\n",
        "from math import inf\n",
        "from tokenizers import Tokenizer\n",
        "from transformers import PreTrainedTokenizerFast\n",
        "\n",
        "from tqdm.auto import tqdm"
      ]
    },
    {
      "cell_type": "code",
      "execution_count": 4,
      "id": "8efc7244-8650-4658-b03c-065ae93a629e",
      "metadata": {
        "execution": {
          "iopub.execute_input": "2024-12-07T09:30:38.792425Z",
          "iopub.status.busy": "2024-12-07T09:30:38.791831Z",
          "iopub.status.idle": "2024-12-07T09:30:38.799040Z",
          "shell.execute_reply": "2024-12-07T09:30:38.798215Z"
        },
        "colab": {
          "base_uri": "https://localhost:8080/"
        },
        "id": "8efc7244-8650-4658-b03c-065ae93a629e",
        "outputId": "a4494008-b65b-48b6-cf7c-76b6931b374d"
      },
      "outputs": [
        {
          "output_type": "stream",
          "name": "stdout",
          "text": [
            "cpu\n"
          ]
        }
      ],
      "source": [
        "# Set random seeds\n",
        "SEED = 1234\n",
        "torch.manual_seed(SEED)\n",
        "random.seed(SEED)\n",
        "\n",
        "# GPU check, sets runtime type to \"GPU\" where available\n",
        "device = torch.device(\"cuda\" if torch.cuda.is_available() else \"cpu\")\n",
        "print(device)"
      ]
    },
    {
      "cell_type": "markdown",
      "id": "4b4d90ac-6617-4d1c-8a20-a1893b561ee7",
      "metadata": {
        "id": "4b4d90ac-6617-4d1c-8a20-a1893b561ee7"
      },
      "source": [
        "Again, we use the *Federalist* papers."
      ]
    },
    {
      "cell_type": "code",
      "execution_count": 5,
      "id": "6f1f34f0-9955-4f74-a881-4e7449380413",
      "metadata": {
        "execution": {
          "iopub.execute_input": "2024-12-07T09:30:38.802252Z",
          "iopub.status.busy": "2024-12-07T09:30:38.801737Z",
          "iopub.status.idle": "2024-12-07T09:30:41.409614Z",
          "shell.execute_reply": "2024-12-07T09:30:41.408632Z"
        },
        "colab": {
          "base_uri": "https://localhost:8080/"
        },
        "id": "6f1f34f0-9955-4f74-a881-4e7449380413",
        "outputId": "1dd26998-5d67-4a9f-b9e0-274b06b54b74"
      },
      "outputs": [
        {
          "output_type": "stream",
          "name": "stdout",
          "text": [
            "./data/federalist_data_raw2.json\n",
            "Downloading federalist_data_raw2.json from https://github.com/nlp-236299/data/raw/refs/heads/master/Federalist/\n",
            "./data/tokenizer.pt\n",
            "Downloading tokenizer.pt from https://github.com/nlp-236299/data/raw/refs/heads/master/Federalist/\n",
            "./data/transformer_lm_h.pt\n",
            "Downloading transformer_lm_h.pt from https://github.com/nlp-236299/data/raw/refs/heads/master/Federalist/\n",
            "./data/transformer_lm_m.pt\n",
            "Downloading transformer_lm_m.pt from https://github.com/nlp-236299/data/raw/refs/heads/master/Federalist/\n"
          ]
        },
        {
          "output_type": "stream",
          "name": "stderr",
          "text": [
            "<ipython-input-5-a7ef7a718c83>:27: FutureWarning: You are using `torch.load` with `weights_only=False` (the current default value), which uses the default pickle module implicitly. It is possible to construct malicious pickle data which will execute arbitrary code during unpickling (See https://github.com/pytorch/pytorch/blob/main/SECURITY.md#untrusted-models for more details). In a future release, the default value for `weights_only` will be flipped to `True`. This limits the functions that could be executed during unpickling. Arbitrary objects will no longer be allowed to be loaded via this mode unless they are explicitly allowlisted by the user via `torch.serialization.add_safe_globals`. We recommend you start setting `weights_only=True` for any use case where you don't have full control of the loaded file. Please open an issue on GitHub for any issues related to this experimental feature.\n",
            "  hf_tokenizer = torch.load(data_path + \"tokenizer.pt\")\n"
          ]
        }
      ],
      "source": [
        "# Prepare to download needed data\n",
        "def download_if_needed(source, dest, filename):\n",
        "    print(f\"./{dest}{filename}\")\n",
        "    if os.path.exists(f\"./{dest}{filename}\"):\n",
        "        print (f\"Skipping {filename}\")\n",
        "    else:\n",
        "        print (f\"Downloading {filename} from {source}\")\n",
        "        wget.download(source + filename, out=dest)\n",
        "\n",
        "source_path = \"https://github.com/nlp-236299/data/raw/refs/heads/master/Federalist/\"\n",
        "data_path = \"data/\"\n",
        "\n",
        "os.makedirs(data_path, exist_ok=True)\n",
        "# Download files, including pretrained language models\n",
        "for filename in [\"federalist_data_raw2.json\",\n",
        "                 \"tokenizer.pt\",\n",
        "                 # language models:\n",
        "                 # Hamilton          Madison\n",
        "                 \"transformer_lm_h.pt\",   \"transformer_lm_m.pt\", # transformer\n",
        "                ]:\n",
        "    download_if_needed(source_path, data_path, filename)\n",
        "\n",
        "# Read in the raw data\n",
        "dataset = json.load(open(data_path + \"federalist_data_raw2.json\"))\n",
        "\n",
        "# Read in the pretrained tokenizer\n",
        "hf_tokenizer = torch.load(data_path + \"tokenizer.pt\")\n",
        "hf_tokenizer.split_special_tokens = False\n",
        "hf_tokenizer.pad_token_id = 1"
      ]
    },
    {
      "cell_type": "markdown",
      "id": "ffaa933b-3d25-4548-a490-41148a0a718d",
      "metadata": {
        "id": "ffaa933b-3d25-4548-a490-41148a0a718d"
      },
      "source": [
        "Once again we will split the dataset into training, validation, and test sets, but we won't be using the training set in this lab.\n",
        "\n",
        "Again, for the validation set, we have separate ones for papers authored by Hamilton (`validation_hamilton`) and papers authored by Madison (`validation_madison`)."
      ]
    },
    {
      "cell_type": "code",
      "execution_count": 6,
      "id": "61626a5a-7d4b-4cf1-b4d3-796cfe416427",
      "metadata": {
        "execution": {
          "iopub.execute_input": "2024-12-07T09:30:41.413354Z",
          "iopub.status.busy": "2024-12-07T09:30:41.412702Z",
          "iopub.status.idle": "2024-12-07T09:30:41.420913Z",
          "shell.execute_reply": "2024-12-07T09:30:41.420005Z"
        },
        "colab": {
          "base_uri": "https://localhost:8080/"
        },
        "id": "61626a5a-7d4b-4cf1-b4d3-796cfe416427",
        "outputId": "7bb0f57c-967d-41ec-ae2b-c8d499fd793e"
      },
      "outputs": [
        {
          "output_type": "stream",
          "name": "stdout",
          "text": [
            "Madison validation size:  3 documents\n",
            "Hamilton validation size: 6 documents\n"
          ]
        }
      ],
      "source": [
        "# Split training, validation, and test sets\n",
        "TRAIN_RATIO = 0.9\n",
        "# Extract the papers of unknown authorship\n",
        "testing = list(filter(lambda ex: ex['authors'] == 'Hamilton or Madison',\n",
        "                      dataset))\n",
        "# Change gold labels in-place\n",
        "for ex in testing:\n",
        "    ex['authors'] = 'Madison'\n",
        "\n",
        "# Extract the papers by Madison\n",
        "dataset_madison = list(filter(lambda ex: ex['authors']=='Madison', dataset))\n",
        "random.seed(SEED)\n",
        "random.shuffle(dataset_madison)\n",
        "training_size_madison = int(math.floor(TRAIN_RATIO * len(dataset_madison)))\n",
        "validation_madison = dataset_madison[training_size_madison:]\n",
        "\n",
        "# Extract the papers by Hamilton\n",
        "dataset_hamilton = list(filter(lambda ex: ex['authors']=='Hamilton', dataset))\n",
        "random.seed(SEED)\n",
        "random.shuffle(dataset_hamilton)\n",
        "training_size_hamilton = int(math.floor(TRAIN_RATIO * len(dataset_hamilton)))\n",
        "validation_hamilton = dataset_hamilton[training_size_hamilton:]\n",
        "\n",
        "# We only consider the first 200 tokens of each document for speed\n",
        "def truncate(s, k=200):\n",
        "    for document in s:\n",
        "        document['tokens'] = document['tokens'][:k]\n",
        "truncate(validation_madison)\n",
        "truncate(validation_hamilton)\n",
        "truncate(testing)\n",
        "\n",
        "print (f\"Madison validation size:  {len(validation_madison)} documents\\n\"\n",
        "       f\"Hamilton validation size: {len(validation_hamilton)} documents\")"
      ]
    },
    {
      "cell_type": "markdown",
      "id": "19038fe6",
      "metadata": {
        "id": "19038fe6"
      },
      "source": [
        "# Issues of order in attention\n",
        "\n",
        "In the last lab, you implemented _attention_, and used it as a basis for a language model. The attention model improves on the RNN by allowing the output to be sensitive to the prior context in a much more expansive way. Whereas the RNN encapsulates all information about the prior context in a single fixed-size history vector, attention allows prior context to be calculated with access to the entire prior context as a weighted average of values associated with each prior token. In equations, the RNN sets\n",
        "\n",
        "$$\n",
        "\\vect{h}_t = \\vect{W}\\vect{h}_{t-1} + \\vect{V}\\vect{x}_t\\\\\n",
        "$$\n",
        "\n",
        "(depending only on $\\vect{h}_{t-1}$ to provide contextual information), whereas the attention model sets\n",
        "\n",
        "$$\n",
        "\\vect{h}_t = \\operatorname{attn}(\\vect{q}_t, \\vect{k}_{1:t}, \\vect{v}_{1:t})\n",
        "$$\n",
        "\n",
        "(which depends on the $\\vect{k}$ and $\\vect{v}$ values for _all_ of the preceding time steps)."
      ]
    },
    {
      "cell_type": "markdown",
      "id": "25f7b585",
      "metadata": {
        "deletable": false,
        "editable": false,
        "id": "25f7b585"
      },
      "source": [
        "<!-- BEGIN QUESTION -->\n",
        "\n",
        "---\n",
        "\n",
        "**Question:** Given this difference, what is the complexity of the output computations of RNN and attention as a function of the length $T$ of its input $x_{1:t}$? Which has worse complexity? You can give your answer using big-O notation.\n",
        "<!--\n",
        "BEGIN QUESTION\n",
        "name: open_response_complexity\n",
        "manual: true\n",
        "-->"
      ]
    },
    {
      "cell_type": "markdown",
      "id": "8df9be85",
      "metadata": {
        "id": "8df9be85"
      },
      "source": [
        "The transformer model has a worse complexity compared with the RNN model.\n",
        "\n",
        "For the RNN model:\n",
        "In each iteration we calculate a hidden and output vectors based on a single current token and a *single* prev hidden layer (which represents all prev tokens). This means that for a single token we make $O(1)$ calculations, so for overall t tokens we get $O(t)$ calculations.\n",
        "\n",
        "For the transformer model:\n",
        "The attention we calculate for each single token is based on all other tokens (ignoring the masking for simplicity, this doesnt affect the final answer, we made sure with the TA in class :). This means that for a single token we make $O(t)$ calculations. Overall for t tokens we get $O(t*t)=O(t^2)$ calculations."
      ]
    },
    {
      "cell_type": "markdown",
      "id": "274d2388",
      "metadata": {
        "id": "274d2388"
      },
      "source": [
        "<!-- END QUESTION -->\n",
        "\n",
        "\n",
        "\n",
        "## Attention is order-independent\n",
        "\n",
        "Notice that the attention calculation is insensitive to permutations of context tokens. Imagine we permute some of the tokens in the context of an attention calculation. The attention calculation computes a weighted average of the $\\vect{v}_i$ with the weights based on the corresponding $\\vect{k}_i$. If we permute the context tokens, we permute the $\\vect{v}_i, \\vect{k}_i$ pairs, but the weighted average is not affected.\n",
        "\n",
        "This position independence has the nice property that the attention values at each time step ($\\vect{h}_t$) can be calculated independently, and therefore in parallel, for a tremendous efficiency advantage over RNNs, which can calculate $\\vect{h}_t$ only after $\\vect{h}_{t-1}$ has been calculated, that is, sequentially.\n",
        "\n",
        "On the other hand, this position independence has the unfortunate property that the attention values are _independent of word order_. Of course, natural language is highly dependent on word order. (Recall Charles Anderson Dana's observation about \"man bites dog\" and \"dog bites man\".) This is the first problem with attention that the Transformer model mitigates using _positional embeddings_."
      ]
    },
    {
      "cell_type": "markdown",
      "id": "b45aef09",
      "metadata": {
        "id": "b45aef09"
      },
      "source": [
        "## Positional embeddings to the rescue\n",
        "\n",
        "The order-independence of attention is typically resolved by encoding at each step not only an embedding for the token but also an embedding for the absolute position of that token. There have been many proposals for this _positional embedding_. We use a fixed embedding based on trigonometric functions as proposed in the seminal Transformers paper \"[Attention is all you need](https://arxiv.org/pdf/1706.03762)\".\n",
        "The positional embedding for time step $t$ is a vector of $D$ elements, each of which is defined to be the value of a sinusoidal function (either sine or cosine) at a phase determined by the element's index. Formally, it is something like\n",
        "\n",
        "$$ \\operatorname{pe}(t, i) = \\left\\{\n",
        "     \\begin{array}{ll}\n",
        "       \\sin(t / 10^{4i/D}) & \\mbox{if $i$ is even} \\\\\n",
        "       \\cos(t / 10^{4(i-1)/D}) & \\mbox{if $i$ is odd}\n",
        "     \\end{array}\n",
        "     \\right.\n",
        "$$\n",
        "\n",
        "where $t$ is the time step and $i$ is the index within the embedding vector.\n",
        "\n",
        "> The magic numbers 10 and 4 and the division by $D$ are empirically determined.\n",
        "\n",
        "The positional embedding may be concatenated with the input embedding or (as we do here) simply added."
      ]
    },
    {
      "cell_type": "markdown",
      "id": "247ef2a2",
      "metadata": {
        "id": "247ef2a2"
      },
      "source": [
        "## Visualizing positional embeddings\n",
        "\n",
        "The intuition behind this sinusoidal positional embedding is that the values of the sinusoidal waves sampled at the different wavelengths provide information about where we are in the sequence of time steps. The visualization below depicts the positional embeddings for different positions as rows in a heat map."
      ]
    },
    {
      "cell_type": "code",
      "execution_count": 7,
      "id": "bd44b2d9",
      "metadata": {
        "execution": {
          "iopub.execute_input": "2024-12-07T09:30:41.424189Z",
          "iopub.status.busy": "2024-12-07T09:30:41.423843Z",
          "iopub.status.idle": "2024-12-07T09:30:41.844973Z",
          "shell.execute_reply": "2024-12-07T09:30:41.844033Z"
        },
        "colab": {
          "base_uri": "https://localhost:8080/",
          "height": 491
        },
        "id": "bd44b2d9",
        "outputId": "11e01f9f-e753-471d-9095-a5f9e715de80"
      },
      "outputs": [
        {
          "output_type": "display_data",
          "data": {
            "text/plain": [
              "<Figure size 1000x500 with 2 Axes>"
            ],
            "image/png": "[encoded data removed]"
          },
          "metadata": {}
        }
      ],
      "source": [
        "def get_positional_embeddings(seq_length, D):\n",
        "    \"\"\"\n",
        "    Returns samples from a positional embedding\n",
        "\n",
        "    Arguments:\n",
        "        seq_length: number of time steps in the sequence\n",
        "        D: size of the embedding dimension\n",
        "    Returns:\n",
        "        positional_embeddings: An array of seq_length elements,\n",
        "        each an array of D elements from the embedding\n",
        "    \"\"\"\n",
        "    positions = np.arange(seq_length)[:, np.newaxis]  # shape (seq_length, 1)\n",
        "    dimensions = np.arange(D)[np.newaxis, :]  # shape (1, d_model)\n",
        "\n",
        "    # Compute angle rates using the formula from the \"Attention Is All You Need\" paper\n",
        "    angle_rates = 1 / np.power(10000, (2 * (dimensions // 2)) / np.float32(D))\n",
        "\n",
        "    # Generate angle radians\n",
        "    angle_rads = positions * angle_rates\n",
        "\n",
        "    # Apply sine to even indices and cosine to odd indices\n",
        "    positional_embeddings = np.zeros_like(angle_rads)\n",
        "    positional_embeddings[:, 0::2] = np.sin(angle_rads[:, 0::2])\n",
        "    positional_embeddings[:, 1::2] = np.cos(angle_rads[:, 1::2])\n",
        "\n",
        "    return positional_embeddings\n",
        "\n",
        "# Parameters\n",
        "seq_length = 20  # Length of the sequence\n",
        "D = 10  # Dimensionality of the model (must be even)\n",
        "\n",
        "# Get positional embeddings\n",
        "pos_embeddings = get_positional_embeddings(seq_length, D)\n",
        "\n",
        "# Plot the positional embeddings\n",
        "plt.figure(figsize=(10, 5))\n",
        "plt.title(\"Sinusoidal Positional Embeddings\")\n",
        "plt.imshow(pos_embeddings, aspect=\"auto\", cmap=\"gray\")\n",
        "plt.colorbar(label=\"embedding value\")\n",
        "plt.xlabel(\"embedding dimension ($i$)\")\n",
        "plt.ylabel(\"position in sequence ($t$)\")\n",
        "plt.yticks(range(0,20,2))\n",
        "plt.xticks(range(0,10))\n",
        "None\n",
        "\n",
        "# Uncomment the line below if the plot does not show up.\n",
        "# Make sure to comment it before submitting to gradescope\n",
        "# since there would be some autograder issues with plt.show().\n",
        "\n",
        "#plt.show()"
      ]
    },
    {
      "cell_type": "markdown",
      "id": "51dc6fa0",
      "metadata": {
        "id": "51dc6fa0"
      },
      "source": [
        "## Implementing positional embeddings\n",
        "\n",
        "We provide an implementation of this sinusoidal positional embedding, which also handles combining the positional embeddings with the token embeddings."
      ]
    },
    {
      "cell_type": "code",
      "execution_count": 8,
      "id": "d88c6738",
      "metadata": {
        "execution": {
          "iopub.execute_input": "2024-12-07T09:30:41.848196Z",
          "iopub.status.busy": "2024-12-07T09:30:41.847956Z",
          "iopub.status.idle": "2024-12-07T09:30:41.854794Z",
          "shell.execute_reply": "2024-12-07T09:30:41.853933Z"
        },
        "id": "d88c6738"
      },
      "outputs": [],
      "source": [
        "class PositionalEmbedding(nn.Module):\n",
        "    \"\"\" \"Embeds a word both by its word id and by its position in the sentence.\"\"\"\n",
        "\n",
        "    def __init__(self, vocab_size, embedding_size, max_len=1024):\n",
        "        super(PositionalEmbedding, self).__init__()\n",
        "        self.embedding_size = embedding_size\n",
        "\n",
        "        self.embed = nn.Embedding(vocab_size, embedding_size)\n",
        "        pe = torch.zeros(max_len, embedding_size)\n",
        "        position = torch.arange(0, max_len).unsqueeze(1)\n",
        "        div_term = torch.exp(\n",
        "            torch.arange(0, embedding_size, 2)\n",
        "            * -(math.log(10.0 ** 4.0) / embedding_size)\n",
        "        )\n",
        "        pe[:, 0::2] = torch.sin(position * div_term)\n",
        "        pe[:, 1::2] = torch.cos(position * div_term)\n",
        "        pe = pe.unsqueeze(0)  # 1, max_len, embedding_size\n",
        "        self.register_buffer(\"pe\", pe)\n",
        "\n",
        "    def forward(self, batch):\n",
        "        x = self.embed(batch) * math.sqrt(self.embedding_size)  # type embedding\n",
        "        # Add positional encoding to type embedding\n",
        "        x = x + self.pe[:, : x.size(1)].detach()\n",
        "        return x"
      ]
    },
    {
      "cell_type": "markdown",
      "id": "c178d802-4d22-461a-9aaa-beb8f146e63d",
      "metadata": {
        "id": "c178d802-4d22-461a-9aaa-beb8f146e63d"
      },
      "source": [
        "# More required components\n",
        "\n",
        "We provide the implementation for attention and the causal mask, from the previous lab."
      ]
    },
    {
      "cell_type": "code",
      "execution_count": 9,
      "id": "ad76e8f7-47c0-4441-85d0-90100da52feb",
      "metadata": {
        "execution": {
          "iopub.execute_input": "2024-12-07T09:30:41.857941Z",
          "iopub.status.busy": "2024-12-07T09:30:41.857396Z",
          "iopub.status.idle": "2024-12-07T09:30:41.864593Z",
          "shell.execute_reply": "2024-12-07T09:30:41.863717Z"
        },
        "id": "ad76e8f7-47c0-4441-85d0-90100da52feb"
      },
      "outputs": [],
      "source": [
        "def attention(batched_Q, batched_K, batched_V, mask=None):\n",
        "    \"\"\"\n",
        "    Performs the attention operation and returns the attention matrix\n",
        "    `batched_A` and the context matrix `batched_C` using queries\n",
        "    `batched_Q`, keys `batched_K`, and values `batched_V`.\n",
        "\n",
        "    Arguments:\n",
        "        batched_Q: (bsz, q_len, D)\n",
        "        batched_K: (bsz, k_len, D)\n",
        "        batched_V: (bsz, k_len, D)\n",
        "        mask: (bsz, q_len, k_len). An optional boolean mask *disallowing*\n",
        "              attentions where the mask value is *`False`*.\n",
        "    Returns:\n",
        "        batched_A: the normalized attention scores (bsz, q_len, k_len)\n",
        "        batched_C: a tensor of size (bsz, q_len, D).\n",
        "    \"\"\"\n",
        "    # Check sizes\n",
        "    D = batched_Q.size(-1)\n",
        "    bsz = batched_Q.size(0)\n",
        "    q_len = batched_Q.size(1)\n",
        "    k_len = batched_K.size(1)\n",
        "\n",
        "    assert batched_K.size(-1) == D and batched_V.size(-1) == D\n",
        "    assert batched_K.size(0) == bsz and batched_V.size(0) == bsz\n",
        "    assert batched_V.size(1) == k_len\n",
        "    if mask is not None:\n",
        "        assert mask.size() == torch.Size([bsz, q_len, k_len])\n",
        "\n",
        "    q = batched_Q                            # bsz, q_len, hidden\n",
        "    k = batched_K.transpose(1, 2)            # bsz, hidden, k_len\n",
        "    # Compute unnormalized attention scores\n",
        "    scores = torch.bmm(q, k) / math.sqrt(D)  # bsz, q_len, k_len\n",
        "    # Mask attention scores to -inf where mask is False\n",
        "    if mask is not None:\n",
        "        scores = scores.masked_fill(mask == False, -inf)\n",
        "    batched_A = torch.softmax(scores, dim=-1)   # bsz, q_len, k_len\n",
        "    batched_C = torch.bmm(batched_A, batched_V) # bsz, q_len, D\n",
        "    # Verify that things sum up to one properly.\n",
        "    assert torch.all(\n",
        "        torch.isclose(batched_A.sum(-1), torch.ones(bsz, q_len).to(device))\n",
        "    )\n",
        "    return batched_A, batched_C"
      ]
    },
    {
      "cell_type": "code",
      "execution_count": 10,
      "id": "e3c9884b-629f-4439-a706-17b7f72788e7",
      "metadata": {
        "execution": {
          "iopub.execute_input": "2024-12-07T09:30:41.867328Z",
          "iopub.status.busy": "2024-12-07T09:30:41.867117Z",
          "iopub.status.idle": "2024-12-07T09:30:41.871130Z",
          "shell.execute_reply": "2024-12-07T09:30:41.870220Z"
        },
        "id": "e3c9884b-629f-4439-a706-17b7f72788e7"
      },
      "outputs": [],
      "source": [
        "def causal_mask(T):\n",
        "    \"\"\"\n",
        "    Generates a causal mask.\n",
        "    Arguments:\n",
        "        T: the length of target sequence\n",
        "    Returns:\n",
        "        mask: a T x T tensor, where `mask[i, j]` should be `True`\n",
        "        if y_i can attend to y_j, and `False` if y_i cannot\n",
        "        attend to y_j\n",
        "    \"\"\"\n",
        "    mask = torch.triu(torch.ones(T, T), diagonal=1) == 0\n",
        "    return mask.to(device)"
      ]
    },
    {
      "cell_type": "markdown",
      "id": "e6136144",
      "metadata": {
        "id": "e6136144"
      },
      "source": [
        "# Implementing the Transformer\n",
        "\n",
        "Now let's implement the Transformer.\n",
        "\n",
        "Putting together the various pieces discussed above, the Transformer operates as follows. Starting with the input sequence $\\vect{w}_1^T$, we first apply the positional embedding $\\textrm{pe}$\n",
        "\n",
        "$$\n",
        "\\vect{x}_t = \\textrm{pe}(\\vect{w}_t)\n",
        "$$\n",
        "\n",
        "from which we construct the query, key, and value for each input position, each as a separate linear layer\n",
        "\n",
        "$$\n",
        "\\begin{aligned}\n",
        "\\vect{q}_t &= \\textrm{linear}(\\vect{x}_t) \\\\\n",
        "\\vect{k}_t &= \\textrm{linear}(\\vect{x}_t) \\\\\n",
        "\\vect{v}_t &= \\textrm{linear}(\\vect{x}_t)\n",
        "\\end{aligned}\n",
        "$$\n",
        "\n",
        "followed by the attention layer proper\n",
        "\n",
        "$$\n",
        "\\vect{h}_t = \\operatorname{attn}(\\vect{q}_t, \\vect{k}_1^t, \\vect{v}_1^t) \\rlap{\\qquad.}\n",
        "$$\n",
        "\n",
        "The first residual connection augments the attention output with the embedding that served as the source for the attention. We make sure to normalize the result.\n",
        "\n",
        "$$\n",
        "\\vect{h'}_t = \\textrm{norm}(\\vect{h}_t + \\vect{x}_t)\n",
        "$$\n",
        "\n",
        "We use this normalized vector as the input to an MLP.\n",
        "\n",
        "$$\n",
        "\\vect{m}_t = \\textrm{mlp}(\\vect{h'}_t)\n",
        "$$\n",
        "\n",
        "Again, we add in residuals of the input to the MLP and normalize.\n",
        "\n",
        "$$\n",
        "\\vect{m'}_t = \\textrm{norm}(\\vect{m}_t + \\vect{h'}_t)\n",
        "$$\n",
        "\n",
        "Finally, we generate the output with a final linear layer and softmax (absorbed into the loss function as usual)."
      ]
    },
    {
      "cell_type": "markdown",
      "id": "1f7b181e-0dab-4395-b9b4-10e7eb5ba0d8",
      "metadata": {
        "id": "1f7b181e-0dab-4395-b9b4-10e7eb5ba0d8"
      },
      "source": [
        "Your job is to implement this pipeline as a forward function, accounting for the layer norms, MLP, and residual connections. We provide an appropriate set of modules to plug together to form the Transformer model."
      ]
    },
    {
      "cell_type": "code",
      "execution_count": 11,
      "id": "27afdf2a-4b5e-48db-aa7a-893dffa563d3",
      "metadata": {
        "execution": {
          "iopub.execute_input": "2024-12-07T09:30:41.874137Z",
          "iopub.status.busy": "2024-12-07T09:30:41.873928Z",
          "iopub.status.idle": "2024-12-07T09:30:41.883588Z",
          "shell.execute_reply": "2024-12-07T09:30:41.882858Z"
        },
        "id": "27afdf2a-4b5e-48db-aa7a-893dffa563d3"
      },
      "outputs": [],
      "source": [
        "class Transformer(torch.nn.Module):\n",
        "    def __init__(self, hf_tokenizer, embedding_size, hidden_size):\n",
        "        super().__init__()\n",
        "        self.hf_tokenizer = hf_tokenizer\n",
        "        self.pad_index = hf_tokenizer.pad_token_id\n",
        "        self.hidden_size = hidden_size\n",
        "        vocab_size = len(hf_tokenizer)\n",
        "\n",
        "        # Create modules\n",
        "        self.embed = PositionalEmbedding(vocab_size, hidden_size)\n",
        "        self.q_proj = nn.Linear(hidden_size, hidden_size)\n",
        "        self.k_proj = nn.Linear(hidden_size, hidden_size)\n",
        "        self.v_proj = nn.Linear(hidden_size, hidden_size)\n",
        "        self.mlp = nn.Sequential(\n",
        "            nn.Linear(hidden_size, hidden_size),\n",
        "            nn.ReLU(),\n",
        "            nn.Linear(hidden_size, hidden_size),\n",
        "        )\n",
        "        self.norm1 = nn.LayerNorm(hidden_size)\n",
        "        self.norm2 = nn.LayerNorm(hidden_size)\n",
        "        self.hidden2output = nn.Linear(hidden_size, vocab_size)\n",
        "\n",
        "    def forward(self, context_words):\n",
        "        \"\"\"Computes the distribution over the next word given\n",
        "        context `context_words`.\n",
        "\n",
        "        Arguments:\n",
        "          context_words: batch of a list of word strings; could\n",
        "                         be an empty list when generating\n",
        "                         the first word.\n",
        "        Returns:\n",
        "          logits: a tensor of size (batch, seq_length, vocab_size)\n",
        "        \"\"\"\n",
        "        self.eval()\n",
        "        context = (\n",
        "            self.hf_tokenizer(\n",
        "                context_words, is_split_into_words=True, return_tensors=\"pt\"\n",
        "            )[\"input_ids\"]\n",
        "            .long()\n",
        "            .to(device)\n",
        "        )  # bsz, context_len\n",
        "        context_len = context.size(1)\n",
        "        context_bsz = context.size(0)\n",
        "\n",
        "        # For generating the first word, we feed in a special\n",
        "        # beginning-of-sentence symbol <pad>, which is also\n",
        "        # what we use for padding. In future labs we'll be\n",
        "        # using <bos>, but as long as training and evaluation\n",
        "        # use the same beginning-of-sentence symbol, it doesn't\n",
        "        # matter which particular symbol we use.\n",
        "        if context_len == 0:\n",
        "            context = context.new(1, 1).fill_(self.pad_index)\n",
        "            context_len = context.size(1)\n",
        "\n",
        "        # hidden = None\n",
        "\n",
        "        embeddings = self.embed(context)\n",
        "\n",
        "        q = self.q_proj(embeddings)\n",
        "        k = self.k_proj(embeddings)\n",
        "        v = self.v_proj(embeddings)\n",
        "        mask = causal_mask(context_len).unsqueeze(0).expand(context_bsz, -1, -1)\n",
        "        attention_output = attention(q, k, v, mask)[1]\n",
        "\n",
        "        # TODO: finish feedforward and set logits\n",
        "        # Logits should be a tensor of size (bsz, seq_length, vocab_size)\n",
        "        # The structure of the network is\n",
        "        #   embeddings -> attention -> residual connection\n",
        "        #              -> normalization (1) -> mlp\n",
        "        #              -> residual connection -> normalization (2)\n",
        "        #              -> hidden2output -> logits\n",
        "        first_normed = self.norm1(attention_output + embeddings)\n",
        "        mlp_output = self.mlp(first_normed)\n",
        "        second_normed = self.norm2(mlp_output + first_normed)\n",
        "        logits = self.hidden2output(second_normed)\n",
        "        return logits"
      ]
    },
    {
      "cell_type": "markdown",
      "id": "a7830105-faac-4aee-8dff-e6649fc6522d",
      "metadata": {
        "id": "a7830105-faac-4aee-8dff-e6649fc6522d"
      },
      "source": [
        "Now, let's load the pretrained models for Hamilton and Madison. The model `transformers_lm_madison` was trained on documents authored by Madison, whereas `transformers_lm_hamilton` was trained on documents authored by Hamilton."
      ]
    },
    {
      "cell_type": "code",
      "execution_count": 12,
      "id": "adb38046-4859-40c8-858b-035fe98f3276",
      "metadata": {
        "execution": {
          "iopub.execute_input": "2024-12-07T09:30:41.887578Z",
          "iopub.status.busy": "2024-12-07T09:30:41.887251Z",
          "iopub.status.idle": "2024-12-07T09:30:41.921170Z",
          "shell.execute_reply": "2024-12-07T09:30:41.920269Z"
        },
        "colab": {
          "base_uri": "https://localhost:8080/"
        },
        "id": "adb38046-4859-40c8-858b-035fe98f3276",
        "outputId": "02593541-c98c-4555-c79b-5e184136a40a"
      },
      "outputs": [
        {
          "output_type": "stream",
          "name": "stderr",
          "text": [
            "<ipython-input-12-4e0b657c0dc4>:8: FutureWarning: You are using `torch.load` with `weights_only=False` (the current default value), which uses the default pickle module implicitly. It is possible to construct malicious pickle data which will execute arbitrary code during unpickling (See https://github.com/pytorch/pytorch/blob/main/SECURITY.md#untrusted-models for more details). In a future release, the default value for `weights_only` will be flipped to `True`. This limits the functions that could be executed during unpickling. Arbitrary objects will no longer be allowed to be loaded via this mode unless they are explicitly allowlisted by the user via `torch.serialization.add_safe_globals`. We recommend you start setting `weights_only=True` for any use case where you don't have full control of the loaded file. Please open an issue on GitHub for any issues related to this experimental feature.\n",
            "  torch.load(data_path + \"transformer_lm_m.pt\", map_location=device)\n",
            "<ipython-input-12-4e0b657c0dc4>:18: FutureWarning: You are using `torch.load` with `weights_only=False` (the current default value), which uses the default pickle module implicitly. It is possible to construct malicious pickle data which will execute arbitrary code during unpickling (See https://github.com/pytorch/pytorch/blob/main/SECURITY.md#untrusted-models for more details). In a future release, the default value for `weights_only` will be flipped to `True`. This limits the functions that could be executed during unpickling. Arbitrary objects will no longer be allowed to be loaded via this mode unless they are explicitly allowlisted by the user via `torch.serialization.add_safe_globals`. We recommend you start setting `weights_only=True` for any use case where you don't have full control of the loaded file. Please open an issue on GitHub for any issues related to this experimental feature.\n",
            "  torch.load(data_path + \"transformer_lm_h.pt\", map_location=device)\n"
          ]
        },
        {
          "output_type": "execute_result",
          "data": {
            "text/plain": [
              "<All keys matched successfully>"
            ]
          },
          "metadata": {},
          "execution_count": 12
        }
      ],
      "source": [
        "# Create and load Transformer LM for Madison\n",
        "transformer_lm_madison = Transformer(\n",
        "    hf_tokenizer,\n",
        "    embedding_size=128,\n",
        "    hidden_size=128,\n",
        ").to(device)\n",
        "transformer_lm_madison.load_state_dict(\n",
        "    torch.load(data_path + \"transformer_lm_m.pt\", map_location=device)\n",
        ")\n",
        "\n",
        "# Create and load Transformer LM for Hamilton\n",
        "transformer_lm_hamilton = Transformer(\n",
        "    hf_tokenizer,\n",
        "    embedding_size=128,\n",
        "    hidden_size=128,\n",
        ").to(device)\n",
        "transformer_lm_hamilton.load_state_dict(\n",
        "    torch.load(data_path + \"transformer_lm_h.pt\", map_location=device)\n",
        ")"
      ]
    },
    {
      "cell_type": "markdown",
      "id": "40833259-eee6-4931-b702-3a19dcd6f3c6",
      "metadata": {
        "id": "40833259-eee6-4931-b702-3a19dcd6f3c6"
      },
      "source": [
        "## Sampling from the transformer model"
      ]
    },
    {
      "cell_type": "markdown",
      "id": "d9faf426-11d2-4443-befb-3a648563d20c",
      "metadata": {
        "id": "d9faf426-11d2-4443-befb-3a648563d20c"
      },
      "source": [
        "Let's try to sample from the models."
      ]
    },
    {
      "cell_type": "code",
      "execution_count": 13,
      "id": "c5d28d61-85b7-4563-9742-0274286596d4",
      "metadata": {
        "execution": {
          "iopub.execute_input": "2024-12-07T09:30:41.924423Z",
          "iopub.status.busy": "2024-12-07T09:30:41.923876Z",
          "iopub.status.idle": "2024-12-07T09:30:41.930499Z",
          "shell.execute_reply": "2024-12-07T09:30:41.929723Z"
        },
        "id": "c5d28d61-85b7-4563-9742-0274286596d4"
      },
      "outputs": [],
      "source": [
        "def sample(model, context):\n",
        "    \"\"\"Returns a token sampled from the `model` assuming the `context`\"\"\"\n",
        "    logits = model(context)[:,-1] # calls internally to model.forward(context)\n",
        "\n",
        "     # Normalize to get probabilities\n",
        "    probs = torch.softmax(logits, -1).view(-1) # vocab_size\n",
        "\n",
        "    # Match probabilities with actual word types\n",
        "    distribution = {}\n",
        "    for i, prob in enumerate(probs):\n",
        "      word = model.hf_tokenizer.decode(i, clean_up_tokenization_spaces=True)\n",
        "      distribution[word] = prob.item()\n",
        "\n",
        "    prob_remaining = random.random()\n",
        "    for token, prob in sorted(distribution.items()):\n",
        "        if prob_remaining < prob:\n",
        "            return token\n",
        "        else:\n",
        "            prob_remaining -= prob\n",
        "    raise ValueError\n",
        "\n",
        "def sample_sequence(model, start_context, count=100):\n",
        "    \"\"\"Returns a sequence of tokens of length `count` sampled successively\n",
        "       from the `model` starting with the `start_context`\n",
        "    \"\"\"\n",
        "    random.seed(SEED) # for reproducibility\n",
        "    context = list(start_context)\n",
        "    result = list(start_context)\n",
        "    for i in range(0, count):\n",
        "        next = sample(model, tuple(context))\n",
        "        result.append(next)\n",
        "        context = context + [next]\n",
        "    return result"
      ]
    },
    {
      "cell_type": "code",
      "execution_count": 14,
      "id": "8b1f3b6f-dfc5-4489-8afd-59256e5c313c",
      "metadata": {
        "execution": {
          "iopub.execute_input": "2024-12-07T09:30:41.933510Z",
          "iopub.status.busy": "2024-12-07T09:30:41.932984Z",
          "iopub.status.idle": "2024-12-07T09:30:48.834562Z",
          "shell.execute_reply": "2024-12-07T09:30:48.833579Z"
        },
        "colab": {
          "base_uri": "https://localhost:8080/"
        },
        "id": "8b1f3b6f-dfc5-4489-8afd-59256e5c313c",
        "outputId": "09f2c9fc-f546-4132-d99e-d1eb7a867f8d"
      },
      "outputs": [
        {
          "output_type": "stream",
          "name": "stdout",
          "text": [
            "constitution proposed by the various it , we will derives portions , the electors , the general myself question , are a [UNK] in we . no lies in a national character hand has been feeble and unequal government formation , let , and interests . a national and members . were the union , consequently , by the constitutional authority with argument on a great britain ask of security parties have recollected there distinguish of the federal consideration , in all the security from the people liberty . the same and to co-operate as they shall rise may alarming exertions , by a \n",
            "\n",
            "constitution proposed by the union any , which will happily strikes a remedy , a right in so improved and and [UNK] , it would appear of redress of a more disunited of the laws are complicated up importance is , it , and injustice class , or [UNK] most an take the united states , all events the constitution , will be so . it is certainly the members of republican supported the legislature of the federal clause . it are made theme is that the point as the several . this expose [UNK] the public safety consideration , in a court ,\n"
          ]
        }
      ],
      "source": [
        "print(' '.join(sample_sequence(transformer_lm_madison, ('constitution', 'proposed', 'by', 'the'))), \"\\n\")\n",
        "print(' '.join(sample_sequence(transformer_lm_hamilton, ('constitution', 'proposed', 'by', 'the'))))"
      ]
    },
    {
      "cell_type": "code",
      "execution_count": 15,
      "id": "0a5c3948",
      "metadata": {
        "deletable": false,
        "editable": false,
        "colab": {
          "base_uri": "https://localhost:8080/",
          "height": 46
        },
        "id": "0a5c3948",
        "outputId": "f3293c14-58f3-481a-b0d1-c3a1a3731d8e"
      },
      "outputs": [
        {
          "output_type": "execute_result",
          "data": {
            "text/plain": [
              "\n",
              "    All tests passed!\n",
              "    "
            ],
            "text/html": [
              "\n",
              "    \n",
              "    \n",
              "        <p>All tests passed!</p>\n",
              "    \n",
              "    "
            ]
          },
          "metadata": {},
          "execution_count": 15
        }
      ],
      "source": [
        "grader.check(\"transformer_sample\")"
      ]
    },
    {
      "cell_type": "markdown",
      "id": "bf6e99bb-5eb2-4e34-a6ee-ab77596b7367",
      "metadata": {
        "id": "bf6e99bb-5eb2-4e34-a6ee-ab77596b7367"
      },
      "source": [
        "## Evaluating text according to the transformer model"
      ]
    },
    {
      "cell_type": "code",
      "execution_count": 16,
      "id": "b2381e84-55e1-4d80-abde-cfb3cfa81aa9",
      "metadata": {
        "execution": {
          "iopub.execute_input": "2024-12-07T09:30:49.671835Z",
          "iopub.status.busy": "2024-12-07T09:30:49.671608Z",
          "iopub.status.idle": "2024-12-07T09:30:49.675441Z",
          "shell.execute_reply": "2024-12-07T09:30:49.674541Z"
        },
        "id": "b2381e84-55e1-4d80-abde-cfb3cfa81aa9"
      },
      "outputs": [],
      "source": [
        "document_madison = validation_madison[0]['tokens']\n",
        "document_hamilton = validation_hamilton[0]['tokens']"
      ]
    },
    {
      "cell_type": "markdown",
      "id": "796633df-c509-4c9b-a3ca-279616f21050",
      "metadata": {
        "id": "796633df-c509-4c9b-a3ca-279616f21050"
      },
      "source": [
        "Just like in Labs 2-3 and 2-4, we want to evaluate the models using perplexity."
      ]
    },
    {
      "cell_type": "code",
      "execution_count": 17,
      "id": "ea8be815-fb51-4c38-ae77-6f1dd02fdc4b",
      "metadata": {
        "execution": {
          "iopub.execute_input": "2024-12-07T09:30:49.678439Z",
          "iopub.status.busy": "2024-12-07T09:30:49.678227Z",
          "iopub.status.idle": "2024-12-07T09:30:49.683522Z",
          "shell.execute_reply": "2024-12-07T09:30:49.682629Z"
        },
        "id": "ea8be815-fb51-4c38-ae77-6f1dd02fdc4b"
      },
      "outputs": [],
      "source": [
        "def neglogprob(tokens, model):\n",
        "    \"\"\"Returns the negative log probability of a sequence of `tokens`\n",
        "    according to a `model`\n",
        "    \"\"\"\n",
        "    score = 0.0\n",
        "    for i in range(len(tokens)):\n",
        "        context = tokens[:i]\n",
        "        token = tokens[i]\n",
        "        distribution = model(context)\n",
        "        logits = model(context)[:, -1]\n",
        "        probs = torch.softmax(logits, -1).view(-1)  # vocab_size\n",
        "        distribution = {}\n",
        "        for i, prob in enumerate(probs):\n",
        "            word = hf_tokenizer.decode(i, clean_up_tokenization_spaces=True)\n",
        "            distribution[word] = prob.item()\n",
        "        prob = distribution[token] if token in distribution \\\n",
        "               else distribution[\"[UNK]\"]\n",
        "        score += -math.log2(prob)\n",
        "    return score"
      ]
    },
    {
      "cell_type": "code",
      "execution_count": 18,
      "id": "e74e5673-f8de-40a8-b946-6aaa720a8919",
      "metadata": {
        "execution": {
          "iopub.execute_input": "2024-12-07T09:30:49.686184Z",
          "iopub.status.busy": "2024-12-07T09:30:49.685970Z",
          "iopub.status.idle": "2024-12-07T09:30:49.689832Z",
          "shell.execute_reply": "2024-12-07T09:30:49.689036Z"
        },
        "id": "e74e5673-f8de-40a8-b946-6aaa720a8919"
      },
      "outputs": [],
      "source": [
        "def perplexity(tokens, model):\n",
        "    \"\"\"Returns the perplexity of a sequence of `tokens` according to a `model`\n",
        "    \"\"\"\n",
        "    return 2 ** (neglogprob(tokens, model) / (len(tokens)))"
      ]
    },
    {
      "cell_type": "markdown",
      "id": "1248c16d-496f-4921-a093-bcc5c0c9279f",
      "metadata": {
        "id": "1248c16d-496f-4921-a093-bcc5c0c9279f"
      },
      "source": [
        "Calculate the perplexity of each model on each document."
      ]
    },
    {
      "cell_type": "code",
      "execution_count": 19,
      "id": "4a33af8a-2673-452f-a9d3-f47cad645379",
      "metadata": {
        "execution": {
          "iopub.execute_input": "2024-12-07T09:30:49.692764Z",
          "iopub.status.busy": "2024-12-07T09:30:49.692557Z",
          "iopub.status.idle": "2024-12-07T09:31:19.360694Z",
          "shell.execute_reply": "2024-12-07T09:31:19.359906Z"
        },
        "id": "4a33af8a-2673-452f-a9d3-f47cad645379"
      },
      "outputs": [],
      "source": [
        "# TODO\n",
        "transformer_ppl_madison_model_madison_document = perplexity(document_madison, transformer_lm_madison)\n",
        "transformer_ppl_hamilton_model_madison_document = perplexity(document_madison, transformer_lm_hamilton)\n",
        "transformer_ppl_madison_model_hamilton_document = perplexity(document_hamilton, transformer_lm_madison)\n",
        "transformer_ppl_hamilton_model_hamilton_document = perplexity(document_hamilton, transformer_lm_hamilton)"
      ]
    },
    {
      "cell_type": "markdown",
      "id": "85f40914-5c6f-483f-85ba-b64bd96127a4",
      "metadata": {
        "id": "85f40914-5c6f-483f-85ba-b64bd96127a4"
      },
      "source": [
        "Now, let's compare those perplexity values. Do the results make sense to you? Is it better than the attention-only model in lab2-4?"
      ]
    },
    {
      "cell_type": "code",
      "execution_count": 20,
      "id": "ab3f4b7b-5744-4097-99df-cde9744eda11",
      "metadata": {
        "execution": {
          "iopub.execute_input": "2024-12-07T09:31:19.364066Z",
          "iopub.status.busy": "2024-12-07T09:31:19.363836Z",
          "iopub.status.idle": "2024-12-07T09:31:19.368497Z",
          "shell.execute_reply": "2024-12-07T09:31:19.367620Z"
        },
        "colab": {
          "base_uri": "https://localhost:8080/"
        },
        "id": "ab3f4b7b-5744-4097-99df-cde9744eda11",
        "outputId": "001383a2-2d87-4092-c923-fff4559a61b7"
      },
      "outputs": [
        {
          "output_type": "stream",
          "name": "stdout",
          "text": [
            "Author     Madison Model Hamilton Model \n",
            "Madison        129.3          136.6     \n",
            "Hamilton       137.1          100.3     \n"
          ]
        }
      ],
      "source": [
        "print (f\"{'Author'         : <10}\"\n",
        "       f\"{'Madison Model'  : ^15}\"\n",
        "       f\"{'Hamilton Model' : ^15}\\n\"\n",
        "       f\"{'Madison' : <10}\"\n",
        "       f\"{transformer_ppl_madison_model_madison_document   : ^15.1f}\"\n",
        "       f\"{transformer_ppl_hamilton_model_madison_document  : ^15.1f}\\n\"\n",
        "       f\"{'Hamilton' : <10}\"\n",
        "       f\"{transformer_ppl_madison_model_hamilton_document  : ^15.1f}\"\n",
        "       f\"{transformer_ppl_hamilton_model_hamilton_document : ^15.1f}\")"
      ]
    },
    {
      "cell_type": "code",
      "execution_count": 21,
      "id": "e203eff1",
      "metadata": {
        "deletable": false,
        "editable": false,
        "colab": {
          "base_uri": "https://localhost:8080/",
          "height": 46
        },
        "id": "e203eff1",
        "outputId": "5ac84d89-c5cb-4416-8a2e-fc146d9909a7"
      },
      "outputs": [
        {
          "output_type": "execute_result",
          "data": {
            "text/plain": [
              "\n",
              "    All tests passed!\n",
              "    "
            ],
            "text/html": [
              "\n",
              "    \n",
              "    \n",
              "        <p>All tests passed!</p>\n",
              "    \n",
              "    "
            ]
          },
          "metadata": {},
          "execution_count": 21
        }
      ],
      "source": [
        "grader.check(\"perplexities\")"
      ]
    },
    {
      "cell_type": "markdown",
      "id": "32fcca80-3f42-4598-8ae6-2bd6982fabce",
      "metadata": {
        "id": "32fcca80-3f42-4598-8ae6-2bd6982fabce"
      },
      "source": [
        "Our transformer model performs slightly better than the attention-only model, but its overall performance is still suboptimal.\n",
        "Why might this be? Several factors could explain the limitations:\n",
        "\n",
        "1. **Single-layer architecture:** This model uses only a single transformer layer. In practice, transformers show their true potential when stacked into multiple layers, allowing for richer representations and better learning capacity.\n",
        "2. **Limited data:** The dataset used for training is quite small, leading to rapid overfitting. This means that there was a large gap between the training perplexity and validation perplexity. In such cases, providing more data can often improve generalization and reduce overfitting."
      ]
    },
    {
      "cell_type": "markdown",
      "id": "dd65d124-67ae-4d73-aebc-1502bf46dd62",
      "metadata": {
        "id": "dd65d124-67ae-4d73-aebc-1502bf46dd62"
      },
      "source": [
        "<!-- END QUESTION -->\n",
        "\n",
        "<!-- BEGIN QUESTION -->\n",
        "\n",
        "# Lab debrief\n",
        "\n",
        "**Question:** We're interested in any thoughts your group has about this lab so that we can improve this lab for later years, and to inform later labs for this year. Please list any issues that arose or comments you have to improve the lab. Useful things to comment on include the following:\n",
        "\n",
        "* Was the lab too long or too short?\n",
        "* Were the readings appropriate for the lab?\n",
        "* Was it clear (at least after you completed the lab) what the points of the exercises were?\n",
        "* Are there additions or changes you think would make the lab better?\n",
        "\n",
        "<!--\n",
        "BEGIN QUESTION\n",
        "name: open_response_debrief\n",
        "manual: true\n",
        "-->"
      ]
    },
    {
      "cell_type": "markdown",
      "id": "b5df732f",
      "metadata": {
        "id": "b5df732f"
      },
      "source": [
        "_Type your answer here, replacing this text._"
      ]
    },
    {
      "cell_type": "markdown",
      "id": "93b28118-9225-4fd2-9c20-e8b9866726d3",
      "metadata": {
        "id": "93b28118-9225-4fd2-9c20-e8b9866726d3"
      },
      "source": [
        "# End of Lab 2-5 {-}"
      ]
    },
    {
      "cell_type": "markdown",
      "id": "67527f9b",
      "metadata": {
        "id": "67527f9b"
      },
      "source": []
    },
    {
      "cell_type": "markdown",
      "id": "2443681d",
      "metadata": {
        "deletable": false,
        "editable": false,
        "id": "2443681d"
      },
      "source": [
        "---\n",
        "\n",
        "To double-check your work, the cell below will rerun all of the autograder tests."
      ]
    },
    {
      "cell_type": "code",
      "execution_count": 22,
      "id": "af91925d",
      "metadata": {
        "deletable": false,
        "editable": false,
        "colab": {
          "base_uri": "https://localhost:8080/",
          "height": 116
        },
        "id": "af91925d",
        "outputId": "a70c414a-ae82-4e09-aaa7-0cbcec7af4bb"
      },
      "outputs": [
        {
          "output_type": "execute_result",
          "data": {
            "text/plain": [
              "perplexities:\n",
              "\n",
              "    All tests passed!\n",
              "    \n",
              "\n",
              "transformer_sample:\n",
              "\n",
              "    All tests passed!\n",
              "    \n"
            ],
            "text/html": [
              "<p><strong>perplexities:</strong></p>\n",
              "\n",
              "    \n",
              "    \n",
              "        <p>All tests passed!</p>\n",
              "    \n",
              "    \n",
              "\n",
              "<p><strong>transformer_sample:</strong></p>\n",
              "\n",
              "    \n",
              "    \n",
              "        <p>All tests passed!</p>\n",
              "    \n",
              "    \n",
              "\n"
            ]
          },
          "metadata": {},
          "execution_count": 22
        }
      ],
      "source": [
        "grader.check_all()"
      ]
    }
  ],
  "metadata": {
    "kernelspec": {
      "display_name": "Python 3 (ipykernel)",
      "language": "python",
      "name": "python3"
    },
    "language_info": {
      "codemirror_mode": {
        "name": "ipython",
        "version": 3
      },
      "file_extension": ".py",
      "mimetype": "text/x-python",
      "name": "python",
      "nbconvert_exporter": "python",
      "pygments_lexer": "ipython3",
      "version": "3.8.3"
    },
    "title": "Course 236299 Lab 2-7: Language modeling with transformers",
    "colab": {
      "provenance": [],
      "toc_visible": true
    }
  },
  "nbformat": 4,
  "nbformat_minor": 5
}